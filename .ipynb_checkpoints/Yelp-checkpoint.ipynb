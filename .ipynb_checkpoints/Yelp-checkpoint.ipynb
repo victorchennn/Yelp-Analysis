{
 "cells": [
  {
   "cell_type": "markdown",
   "metadata": {},
   "source": [
    "# Yelp Dataset Analysis"
   ]
  },
  {
   "cell_type": "markdown",
   "metadata": {},
   "source": [
    "## Phase breakdown  <a name=\"breakdown\"></a>\n",
    "\n",
    "Phases | Sections\n",
    "--- | ---\n",
    "[Phase1: Reviews](#phase1) | [1.1: Stars](#phase1.1)\n",
    "| [1.2: Assessment](#phase1.2)\n",
    "| [1.3: Sentimenet Analysis](#phase1.3)\n",
    "| [1.4: Keywords](#phase1.4)\n",
    "[Phase2: Business](#phase2) |[2.1: K-means](#phase2.1)\n",
    "| [2.2: Categories](#phase2.2)\n",
    "| [2.3: Vegan Restaurants](#phase2.3)\n",
    "| [2.4: Attributes](#phase2.4)\n",
    "| [2.5: Photos](#phase2.5)\n",
    "[Phase3: Users](#phase3) |[3.1: Extreme Stars](#phase3.1)\n",
    "| [3.2: Intention](#phase3.2)\n",
    "| [3.3: Most Active](#phase3.3)\n",
    "| [3.4: History & Recommendation](#phase3.4)"
   ]
  },
  {
   "cell_type": "code",
   "execution_count": 1,
   "metadata": {},
   "outputs": [],
   "source": [
    "# Set up\n",
    "import json\n",
    "import pandas as pd\n",
    "import datetime\n",
    "import numpy as np\n",
    "import re\n",
    "import matplotlib.pyplot as plt\n",
    "import matplotlib.image as mpimg\n",
    "pd.set_option('mode.chained_assignment', None)\n",
    "\n",
    "# This style emulates the look and feel of the famous data journalist Nate Silver's site.\n",
    "%matplotlib inline\n",
    "plt.style.use('fivethirtyeight')\n",
    "\n",
    "import seaborn as sns\n",
    "sns.set()\n",
    "sns.set_context(\"talk\")\n",
    "\n",
    "import gmaps\n",
    "import gmaps.datasets\n",
    "gmaps.configure(api_key=\"AI...\")  # Use your google API key\n",
    "\n",
    "import utils\n",
    "import kmeans"
   ]
  },
  {
   "cell_type": "code",
   "execution_count": 2,
   "metadata": {},
   "outputs": [],
   "source": [
    "# Get dataset\n",
    "utils.help_directory('dataset.zip')"
   ]
  },
  {
   "cell_type": "code",
   "execution_count": 3,
   "metadata": {},
   "outputs": [],
   "source": [
    "# Load json files\n",
    "reviews = pd.DataFrame.from_records(utils.load_file('dataset/review.json'))\n",
    "users =  pd.DataFrame.from_records(utils.load_file('dataset/users.json'))\n",
    "business =  pd.DataFrame.from_records(utils.load_file('dataset/business.json'))\n",
    "photos =  pd.DataFrame.from_records(utils.load_file('dataset/photos.json'))"
   ]
  },
  {
   "cell_type": "markdown",
   "metadata": {},
   "source": [
    "## Phase 1:  Reviews <a name=\"phase1\"></a> \n",
    "[Return to phase breakdown](#breakdown)"
   ]
  },
  {
   "cell_type": "code",
   "execution_count": 4,
   "metadata": {
    "scrolled": true
   },
   "outputs": [
    {
     "data": {
      "text/html": [
       "<div>\n",
       "<style scoped>\n",
       "    .dataframe tbody tr th:only-of-type {\n",
       "        vertical-align: middle;\n",
       "    }\n",
       "\n",
       "    .dataframe tbody tr th {\n",
       "        vertical-align: top;\n",
       "    }\n",
       "\n",
       "    .dataframe thead th {\n",
       "        text-align: right;\n",
       "    }\n",
       "</style>\n",
       "<table border=\"1\" class=\"dataframe\">\n",
       "  <thead>\n",
       "    <tr style=\"text-align: right;\">\n",
       "      <th></th>\n",
       "      <th>review_id</th>\n",
       "      <th>date</th>\n",
       "      <th>stars</th>\n",
       "      <th>text</th>\n",
       "      <th>cool</th>\n",
       "      <th>funny</th>\n",
       "      <th>useful</th>\n",
       "      <th>business_id</th>\n",
       "      <th>user_id</th>\n",
       "    </tr>\n",
       "  </thead>\n",
       "  <tbody>\n",
       "    <tr>\n",
       "      <th>0</th>\n",
       "      <td>v0i_UHJMo_hPBq9bxWvW4w</td>\n",
       "      <td>2016-05-28</td>\n",
       "      <td>5</td>\n",
       "      <td>Love the staff, love the meat, love the place....</td>\n",
       "      <td>0</td>\n",
       "      <td>0</td>\n",
       "      <td>0</td>\n",
       "      <td>0W4lkclzZThpx3V65bVgig</td>\n",
       "      <td>bv2nCi5Qv5vroFiqKGopiw</td>\n",
       "    </tr>\n",
       "    <tr>\n",
       "      <th>1</th>\n",
       "      <td>vkVSCC7xljjrAI4UGfnKEQ</td>\n",
       "      <td>2016-05-28</td>\n",
       "      <td>5</td>\n",
       "      <td>Super simple place but amazing nonetheless. It...</td>\n",
       "      <td>0</td>\n",
       "      <td>0</td>\n",
       "      <td>0</td>\n",
       "      <td>AEx2SYEUJmTxVVB18LlCwA</td>\n",
       "      <td>bv2nCi5Qv5vroFiqKGopiw</td>\n",
       "    </tr>\n",
       "    <tr>\n",
       "      <th>2</th>\n",
       "      <td>n6QzIUObkYshz4dz2QRJTw</td>\n",
       "      <td>2016-05-28</td>\n",
       "      <td>5</td>\n",
       "      <td>Small unassuming place that changes their menu...</td>\n",
       "      <td>0</td>\n",
       "      <td>0</td>\n",
       "      <td>0</td>\n",
       "      <td>VR6GpWIda3SfvPC-lg9H3w</td>\n",
       "      <td>bv2nCi5Qv5vroFiqKGopiw</td>\n",
       "    </tr>\n",
       "    <tr>\n",
       "      <th>3</th>\n",
       "      <td>MV3CcKScW05u5LVfF6ok0g</td>\n",
       "      <td>2016-05-28</td>\n",
       "      <td>5</td>\n",
       "      <td>Lester's is located in a beautiful neighborhoo...</td>\n",
       "      <td>0</td>\n",
       "      <td>0</td>\n",
       "      <td>0</td>\n",
       "      <td>CKC0-MOWMqoeWf6s-szl8g</td>\n",
       "      <td>bv2nCi5Qv5vroFiqKGopiw</td>\n",
       "    </tr>\n",
       "    <tr>\n",
       "      <th>4</th>\n",
       "      <td>IXvOzsEMYtiJI0CARmj77Q</td>\n",
       "      <td>2016-05-28</td>\n",
       "      <td>4</td>\n",
       "      <td>Love coming here. Yes the place always needs t...</td>\n",
       "      <td>0</td>\n",
       "      <td>0</td>\n",
       "      <td>0</td>\n",
       "      <td>ACFtxLv8pGrrxMm6EgjreA</td>\n",
       "      <td>bv2nCi5Qv5vroFiqKGopiw</td>\n",
       "    </tr>\n",
       "  </tbody>\n",
       "</table>\n",
       "</div>"
      ],
      "text/plain": [
       "                review_id       date  stars  \\\n",
       "0  v0i_UHJMo_hPBq9bxWvW4w 2016-05-28      5   \n",
       "1  vkVSCC7xljjrAI4UGfnKEQ 2016-05-28      5   \n",
       "2  n6QzIUObkYshz4dz2QRJTw 2016-05-28      5   \n",
       "3  MV3CcKScW05u5LVfF6ok0g 2016-05-28      5   \n",
       "4  IXvOzsEMYtiJI0CARmj77Q 2016-05-28      4   \n",
       "\n",
       "                                                text  cool  funny  useful  \\\n",
       "0  Love the staff, love the meat, love the place....     0      0       0   \n",
       "1  Super simple place but amazing nonetheless. It...     0      0       0   \n",
       "2  Small unassuming place that changes their menu...     0      0       0   \n",
       "3  Lester's is located in a beautiful neighborhoo...     0      0       0   \n",
       "4  Love coming here. Yes the place always needs t...     0      0       0   \n",
       "\n",
       "              business_id                 user_id  \n",
       "0  0W4lkclzZThpx3V65bVgig  bv2nCi5Qv5vroFiqKGopiw  \n",
       "1  AEx2SYEUJmTxVVB18LlCwA  bv2nCi5Qv5vroFiqKGopiw  \n",
       "2  VR6GpWIda3SfvPC-lg9H3w  bv2nCi5Qv5vroFiqKGopiw  \n",
       "3  CKC0-MOWMqoeWf6s-szl8g  bv2nCi5Qv5vroFiqKGopiw  \n",
       "4  ACFtxLv8pGrrxMm6EgjreA  bv2nCi5Qv5vroFiqKGopiw  "
      ]
     },
     "execution_count": 4,
     "metadata": {},
     "output_type": "execute_result"
    }
   ],
   "source": [
    "reviews = reviews[['review_id', 'date', 'stars', 'text', 'cool', 'funny', 'useful', 'business_id', 'user_id']]\n",
    "reviews['date'] = reviews['date'].apply(lambda d: datetime.datetime.strptime(d, '%Y-%m-%d'))\n",
    "reviews.head()"
   ]
  },
  {
   "cell_type": "code",
   "execution_count": 5,
   "metadata": {},
   "outputs": [
    {
     "data": {
      "text/plain": [
       "(100000, 9)"
      ]
     },
     "execution_count": 5,
     "metadata": {},
     "output_type": "execute_result"
    }
   ],
   "source": [
    "# Incluing 100000 reviews from yelp users.\n",
    "reviews.shape"
   ]
  },
  {
   "cell_type": "markdown",
   "metadata": {},
   "source": [
    "### 1.1 Reviews-Stars <a name=\"phase1.1\"></a>\n",
    "[Return to phase breakdown](#breakdown)"
   ]
  },
  {
   "cell_type": "code",
   "execution_count": 6,
   "metadata": {},
   "outputs": [
    {
     "data": {
      "text/plain": [
       "5    42.720\n",
       "4    23.897\n",
       "1    13.267\n",
       "3    11.807\n",
       "2     8.309\n",
       "Name: stars, dtype: float64"
      ]
     },
     "execution_count": 6,
     "metadata": {},
     "output_type": "execute_result"
    }
   ],
   "source": [
    "review_stars = reviews['stars'].value_counts()\n",
    "review_stars_percent = review_stars.apply(lambda i : i / len(reviews) * 100)\n",
    "review_stars_percent"
   ]
  },
  {
   "cell_type": "markdown",
   "metadata": {},
   "source": [
    "When we count the number of reviews for different stars, it is clear to see that most people `42.7%` tended to give 5-star or 4-star ratings `23.9%`, which means that for about `66.6%` people were at least satisfied with their businesses. And then, the third highest rating star was 1-star with `13.3%`. Of course, this data makes sense because most customers only write reviews when they have very positive or negative experiences. Writing reviews takes a decent amount of effort, so unless a customer is highly motivated or so disappointed, it’s unlikely that they write anything at all (barring external factors like incentives).\n",
    "\n",
    "NBC news published an article [Online reviews: Here's what's behind all those 5 star ratings](https://www.nbcnews.com/better/business/does-five-star-online-review-really-mean-product-good-ncna870901), it stated that people nowadays tend to give either perfect reviews like 5-star and 4-star or offer awful ratings such as 1-star. Sometimes ratings can't reveal the information matters to people because of fake or misleading reviews that can bump star ratings up or down. "
   ]
  },
  {
   "cell_type": "code",
   "execution_count": 7,
   "metadata": {},
   "outputs": [
    {
     "data": {
      "image/png": "[encoded data removed]",
      "text/plain": [
       "<matplotlib.figure.Figure at 0x1193b7eb8>"
      ]
     },
     "metadata": {},
     "output_type": "display_data"
    }
   ],
   "source": [
    "ax = review_stars_percent.sort_index(ascending=False).plot('bar')\n",
    "for patch in ax.patches:\n",
    "    x = patch.get_bbox().get_points()[:, 0]\n",
    "    y = patch.get_bbox().get_points()[1, 1]\n",
    "    ax.annotate('{:.1f}%'.format(y), (x.mean(), y), ha='center', va='bottom')\n",
    "plt.ylabel('Percentage of reviews')\n",
    "plt.xlabel('Stars');"
   ]
  },
  {
   "cell_type": "markdown",
   "metadata": {},
   "source": [
    "### 1.2 Reviews-Assessment <a name=\"phase1.2\"></a>\n",
    "[Return to phase breakdown](#breakdown)"
   ]
  },
  {
   "cell_type": "markdown",
   "metadata": {},
   "source": [
    "After we find out that majority of people tended to give a high-star reviews, how did other users or customers feel about those reviews? What about those low-star reviews? In the `reviews` dataframe there are three columns called `useful`, `cool` and `funny`, which are number of votes about users' feelings for those reviews. We can try to build the connection between the stars they gave to business and other users' feelings about their reviews."
   ]
  },
  {
   "cell_type": "code",
   "execution_count": 8,
   "metadata": {},
   "outputs": [
    {
     "name": "stdout",
     "output_type": "stream",
     "text": [
      "Number of available reviews:  13273\n"
     ]
    }
   ],
   "source": [
    "# Filter out unavailable reviews. At least have one vote in all three options.\n",
    "avai_reviews = reviews.query(\"useful > 0 and cool > 0 and funny > 0\")\n",
    "print(\"Number of available reviews: \", len(avai_reviews))"
   ]
  },
  {
   "cell_type": "code",
   "execution_count": 9,
   "metadata": {},
   "outputs": [
    {
     "data": {
      "image/png": "[encoded data removed]",
      "text/plain": [
       "<matplotlib.figure.Figure at 0x10d5ce668>"
      ]
     },
     "metadata": {},
     "output_type": "display_data"
    }
   ],
   "source": [
    "import matplotlib.lines as mlines\n",
    "sns.pointplot(x = 'stars', y = 'useful', data = avai_reviews, color=\"blue\", linestyles='dotted')\n",
    "sns.pointplot(x = 'stars', y = 'cool', data = avai_reviews, color=\"green\", linestyles='--')\n",
    "sns.pointplot(x = 'stars', y = 'funny', data = avai_reviews, color=\"red\")\n",
    "lg1 = mlines.Line2D([], [], color='blue', label='useful', linestyle='dotted')\n",
    "lg2 = mlines.Line2D([], [], color='green', label='cool', linestyle='--')\n",
    "lg3 = mlines.Line2D([], [], color='red', label='funny')\n",
    "plt.ylabel('Average number of evaluation')\n",
    "plt.legend(handles=[lg1, lg2, lg3]);"
   ]
  },
  {
   "cell_type": "markdown",
   "metadata": {},
   "source": [
    "In the plot we can see that the number of useful votes was always greater than other two. \n",
    "- For `useful` reviews, the number of `1-star` votes was maximal, nearly twice of other four kinds of stars. \n",
    "- For `funny` reviews, the more stars people offered, they less votes of `funny` they could get. \n",
    "- For `cool` reviews, high-star reviews could get more votes."
   ]
  },
  {
   "cell_type": "markdown",
   "metadata": {},
   "source": [
    "More votes usually imply that users were more agree with those reviews. Like `useful`, people felt that those `1-star` reviews were more helpful, or furthermore, more reliable. People thought extreme `low-star` reviews can reveal and offer more imformation about that business. While for `high-star` reviews, customers seemingly held a skeptical attitude, especially comparing with `1-star` review. "
   ]
  },
  {
   "cell_type": "markdown",
   "metadata": {},
   "source": [
    "### 1.3 Reviews-Sentimenet Analysis <a name=\"phase1.3\"></a>\n",
    "[Return to phase breakdown](#breakdown)"
   ]
  },
  {
   "cell_type": "markdown",
   "metadata": {},
   "source": [
    "It turns out that we can use the words in texts to calculate a measure of the sentiment of the people from their reviews. For example, the sentence \"Love coming here\" has positive sentiment, whereas the sentence \"Food is very bland\" has a negative sentiment. In addition, some words have stronger positive / negative sentiment than others: \"Love coming here.\" is more positive than \"Like coming here.\"\n",
    "\n",
    "We will use the [VADER (Valence Aware Dictionary and Sentiment Reasoner)](https://github.com/cjhutto/vaderSentiment) lexicon to analyze the sentiment of users' reviews. VADER is a lexicon and rule-based sentiment analysis tool that is specifically attuned to sentiments expressed in social media which is great for our usage.\n",
    "\n",
    "The VADER lexicon gives the sentiment of individual words. For example:"
   ]
  },
  {
   "cell_type": "code",
   "execution_count": 10,
   "metadata": {},
   "outputs": [
    {
     "name": "stdout",
     "output_type": "stream",
     "text": [
      "$:\t-1.5\t0.80623\t[-1, -1, -1, -1, -3, -1, -3, -1, -2, -1]\n",
      "%)\t-0.4\t1.0198\t[-1, 0, -1, 0, 0, -2, -1, 2, -1, 0]\n",
      "%-)\t-1.5\t1.43178\t[-2, 0, -2, -2, -1, 2, -2, -3, -2, -3]\n",
      "&-:\t-0.4\t1.42829\t[-3, -1, 0, 0, -1, -1, -1, 2, -1, 2]\n",
      "&:\t-0.7\t0.64031\t[0, -1, -1, -1, 1, -1, -1, -1, -1, -1]\n",
      "\n"
     ]
    }
   ],
   "source": [
    "print(''.join(open(\"vader_lexicon.txt\").readlines()[:5]))"
   ]
  },
  {
   "cell_type": "code",
   "execution_count": 11,
   "metadata": {},
   "outputs": [
    {
     "data": {
      "text/html": [
       "<div>\n",
       "<style scoped>\n",
       "    .dataframe tbody tr th:only-of-type {\n",
       "        vertical-align: middle;\n",
       "    }\n",
       "\n",
       "    .dataframe tbody tr th {\n",
       "        vertical-align: top;\n",
       "    }\n",
       "\n",
       "    .dataframe thead th {\n",
       "        text-align: right;\n",
       "    }\n",
       "</style>\n",
       "<table border=\"1\" class=\"dataframe\">\n",
       "  <thead>\n",
       "    <tr style=\"text-align: right;\">\n",
       "      <th></th>\n",
       "      <th>polarity</th>\n",
       "    </tr>\n",
       "    <tr>\n",
       "      <th>token</th>\n",
       "      <th></th>\n",
       "    </tr>\n",
       "  </thead>\n",
       "  <tbody>\n",
       "    <tr>\n",
       "      <th>$:</th>\n",
       "      <td>-1.5</td>\n",
       "    </tr>\n",
       "    <tr>\n",
       "      <th>%)</th>\n",
       "      <td>-0.4</td>\n",
       "    </tr>\n",
       "    <tr>\n",
       "      <th>%-)</th>\n",
       "      <td>-1.5</td>\n",
       "    </tr>\n",
       "    <tr>\n",
       "      <th>&amp;-:</th>\n",
       "      <td>-0.4</td>\n",
       "    </tr>\n",
       "    <tr>\n",
       "      <th>&amp;:</th>\n",
       "      <td>-0.7</td>\n",
       "    </tr>\n",
       "  </tbody>\n",
       "</table>\n",
       "</div>"
      ],
      "text/plain": [
       "       polarity\n",
       "token          \n",
       "$:         -1.5\n",
       "%)         -0.4\n",
       "%-)        -1.5\n",
       "&-:        -0.4\n",
       "&:         -0.7"
      ]
     },
     "execution_count": 11,
     "metadata": {},
     "output_type": "execute_result"
    }
   ],
   "source": [
    "lexicon = pd.read_csv('vader_lexicon.txt', sep='\\t',\n",
    "                   usecols=[0, 1], header=None, names=['token', 'polarity'],\n",
    "                   index_col='token')\n",
    "lexicon.head()"
   ]
  },
  {
   "cell_type": "markdown",
   "metadata": {},
   "source": [
    "Now, let's use this lexicon to calculate the overall sentiment for each of review's text. Here's the basic idea:\n",
    "\n",
    "1. For each review's text, find the sentiment of each word.\n",
    "2. Calculate the sentiment of each review's text by taking the sum of the sentiments of its words.\n",
    "\n",
    "Firstly, we need to lowercase the text since the lexicon is also lowercase. \n",
    "And then,  replace the punctuation with a space since it will cause us to fail to match words. "
   ]
  },
  {
   "cell_type": "code",
   "execution_count": 12,
   "metadata": {},
   "outputs": [],
   "source": [
    "reviews['text'] = reviews['text'].str.lower()\n",
    "regex = '[^\\w\\s]'\n",
    "reviews['text'] = reviews['text'].apply(lambda text : re.sub(regex, ' ', text))\n",
    "# Change the review_id as index.\n",
    "simplify_reviews = reviews[['review_id', 'text']].set_index('review_id')"
   ]
  },
  {
   "cell_type": "markdown",
   "metadata": {},
   "source": [
    "Secondly, we split the text to each word and create a new dataframe. Column `location` means the index of each word in text and `word` is individual word in text. "
   ]
  },
  {
   "cell_type": "code",
   "execution_count": 13,
   "metadata": {},
   "outputs": [
    {
     "data": {
      "text/html": [
       "<div>\n",
       "<style scoped>\n",
       "    .dataframe tbody tr th:only-of-type {\n",
       "        vertical-align: middle;\n",
       "    }\n",
       "\n",
       "    .dataframe tbody tr th {\n",
       "        vertical-align: top;\n",
       "    }\n",
       "\n",
       "    .dataframe thead th {\n",
       "        text-align: right;\n",
       "    }\n",
       "</style>\n",
       "<table border=\"1\" class=\"dataframe\">\n",
       "  <thead>\n",
       "    <tr style=\"text-align: right;\">\n",
       "      <th></th>\n",
       "      <th>location</th>\n",
       "      <th>word</th>\n",
       "    </tr>\n",
       "    <tr>\n",
       "      <th>review_id</th>\n",
       "      <th></th>\n",
       "      <th></th>\n",
       "    </tr>\n",
       "  </thead>\n",
       "  <tbody>\n",
       "    <tr>\n",
       "      <th>v0i_UHJMo_hPBq9bxWvW4w</th>\n",
       "      <td>0</td>\n",
       "      <td>love</td>\n",
       "    </tr>\n",
       "    <tr>\n",
       "      <th>v0i_UHJMo_hPBq9bxWvW4w</th>\n",
       "      <td>1</td>\n",
       "      <td>the</td>\n",
       "    </tr>\n",
       "    <tr>\n",
       "      <th>v0i_UHJMo_hPBq9bxWvW4w</th>\n",
       "      <td>2</td>\n",
       "      <td>staff</td>\n",
       "    </tr>\n",
       "    <tr>\n",
       "      <th>v0i_UHJMo_hPBq9bxWvW4w</th>\n",
       "      <td>3</td>\n",
       "      <td>love</td>\n",
       "    </tr>\n",
       "    <tr>\n",
       "      <th>v0i_UHJMo_hPBq9bxWvW4w</th>\n",
       "      <td>4</td>\n",
       "      <td>the</td>\n",
       "    </tr>\n",
       "  </tbody>\n",
       "</table>\n",
       "</div>"
      ],
      "text/plain": [
       "                        location   word\n",
       "review_id                              \n",
       "v0i_UHJMo_hPBq9bxWvW4w         0   love\n",
       "v0i_UHJMo_hPBq9bxWvW4w         1    the\n",
       "v0i_UHJMo_hPBq9bxWvW4w         2  staff\n",
       "v0i_UHJMo_hPBq9bxWvW4w         3   love\n",
       "v0i_UHJMo_hPBq9bxWvW4w         4    the"
      ]
     },
     "execution_count": 13,
     "metadata": {},
     "output_type": "execute_result"
    }
   ],
   "source": [
    "words = (\n",
    "    simplify_reviews['text']\n",
    "    .str.split(expand=True)\n",
    "    .stack()\n",
    "    .reset_index(level=1)\n",
    "    .rename(columns={'level_1': 'location', 0: 'word'})\n",
    ")\n",
    "words.head()"
   ]
  },
  {
   "cell_type": "markdown",
   "metadata": {},
   "source": [
    "Lastly, we merge dataframe `words` with previous `lexicon` dataframe, sum the `polarity` of each word from the same text and add a new column `polarity` to the `reviews`."
   ]
  },
  {
   "cell_type": "code",
   "execution_count": 14,
   "metadata": {},
   "outputs": [
    {
     "data": {
      "text/html": [
       "<div>\n",
       "<style scoped>\n",
       "    .dataframe tbody tr th:only-of-type {\n",
       "        vertical-align: middle;\n",
       "    }\n",
       "\n",
       "    .dataframe tbody tr th {\n",
       "        vertical-align: top;\n",
       "    }\n",
       "\n",
       "    .dataframe thead th {\n",
       "        text-align: right;\n",
       "    }\n",
       "</style>\n",
       "<table border=\"1\" class=\"dataframe\">\n",
       "  <thead>\n",
       "    <tr style=\"text-align: right;\">\n",
       "      <th></th>\n",
       "      <th>review_id</th>\n",
       "      <th>date</th>\n",
       "      <th>stars</th>\n",
       "      <th>text</th>\n",
       "      <th>cool</th>\n",
       "      <th>funny</th>\n",
       "      <th>useful</th>\n",
       "      <th>business_id</th>\n",
       "      <th>user_id</th>\n",
       "      <th>polarity</th>\n",
       "    </tr>\n",
       "  </thead>\n",
       "  <tbody>\n",
       "    <tr>\n",
       "      <th>12629</th>\n",
       "      <td>_cLK95Db4mvDwAfOupS7Cw</td>\n",
       "      <td>2016-06-20</td>\n",
       "      <td>4</td>\n",
       "      <td>i came here yesterday for father s day dinner ...</td>\n",
       "      <td>0</td>\n",
       "      <td>0</td>\n",
       "      <td>3</td>\n",
       "      <td>-zuJkmIjdRahT_yHED-62g</td>\n",
       "      <td>YMTcBb6Vj54rd_NuFtb8QQ</td>\n",
       "      <td>159.0</td>\n",
       "    </tr>\n",
       "    <tr>\n",
       "      <th>7744</th>\n",
       "      <td>QoJAmSEJB2AW46ba56aFRQ</td>\n",
       "      <td>2011-05-01</td>\n",
       "      <td>3</td>\n",
       "      <td>5 second summary  mediocre average food  excep...</td>\n",
       "      <td>0</td>\n",
       "      <td>0</td>\n",
       "      <td>1</td>\n",
       "      <td>r6CaBBT6oW6laBgkrWbZFQ</td>\n",
       "      <td>XuCbLgo9j1q5dDh9251vkg</td>\n",
       "      <td>145.8</td>\n",
       "    </tr>\n",
       "    <tr>\n",
       "      <th>12600</th>\n",
       "      <td>YGTyhmWf5M1oUeFDAyCwuw</td>\n",
       "      <td>2015-11-23</td>\n",
       "      <td>5</td>\n",
       "      <td>i came back to miku for dinner after just comi...</td>\n",
       "      <td>7</td>\n",
       "      <td>1</td>\n",
       "      <td>9</td>\n",
       "      <td>0a2O150ytxrDjDzXNfRWkA</td>\n",
       "      <td>YMTcBb6Vj54rd_NuFtb8QQ</td>\n",
       "      <td>134.7</td>\n",
       "    </tr>\n",
       "    <tr>\n",
       "      <th>44351</th>\n",
       "      <td>4n0RFOsAySGiTzKqU3TfdQ</td>\n",
       "      <td>2016-09-05</td>\n",
       "      <td>5</td>\n",
       "      <td>best new restaurant in henderson and beyond  b...</td>\n",
       "      <td>4</td>\n",
       "      <td>3</td>\n",
       "      <td>5</td>\n",
       "      <td>BQqwIYQuo2W94smjrBjy5g</td>\n",
       "      <td>uaC8Ku7fqwD4Gh6L1YabAg</td>\n",
       "      <td>130.0</td>\n",
       "    </tr>\n",
       "    <tr>\n",
       "      <th>24855</th>\n",
       "      <td>rKGqy9HKtuO6cSsQANnV-g</td>\n",
       "      <td>2017-08-29</td>\n",
       "      <td>5</td>\n",
       "      <td>a maz ing      i can t say enough great things...</td>\n",
       "      <td>0</td>\n",
       "      <td>0</td>\n",
       "      <td>1</td>\n",
       "      <td>4KmrrhtfnngTVFa2d5LAjg</td>\n",
       "      <td>Y7EkNdRl_WCML9zo9lw1nw</td>\n",
       "      <td>129.2</td>\n",
       "    </tr>\n",
       "  </tbody>\n",
       "</table>\n",
       "</div>"
      ],
      "text/plain": [
       "                    review_id       date  stars  \\\n",
       "12629  _cLK95Db4mvDwAfOupS7Cw 2016-06-20      4   \n",
       "7744   QoJAmSEJB2AW46ba56aFRQ 2011-05-01      3   \n",
       "12600  YGTyhmWf5M1oUeFDAyCwuw 2015-11-23      5   \n",
       "44351  4n0RFOsAySGiTzKqU3TfdQ 2016-09-05      5   \n",
       "24855  rKGqy9HKtuO6cSsQANnV-g 2017-08-29      5   \n",
       "\n",
       "                                                    text  cool  funny  useful  \\\n",
       "12629  i came here yesterday for father s day dinner ...     0      0       3   \n",
       "7744   5 second summary  mediocre average food  excep...     0      0       1   \n",
       "12600  i came back to miku for dinner after just comi...     7      1       9   \n",
       "44351  best new restaurant in henderson and beyond  b...     4      3       5   \n",
       "24855  a maz ing      i can t say enough great things...     0      0       1   \n",
       "\n",
       "                  business_id                 user_id  polarity  \n",
       "12629  -zuJkmIjdRahT_yHED-62g  YMTcBb6Vj54rd_NuFtb8QQ     159.0  \n",
       "7744   r6CaBBT6oW6laBgkrWbZFQ  XuCbLgo9j1q5dDh9251vkg     145.8  \n",
       "12600  0a2O150ytxrDjDzXNfRWkA  YMTcBb6Vj54rd_NuFtb8QQ     134.7  \n",
       "44351  BQqwIYQuo2W94smjrBjy5g  uaC8Ku7fqwD4Gh6L1YabAg     130.0  \n",
       "24855  4KmrrhtfnngTVFa2d5LAjg  Y7EkNdRl_WCML9zo9lw1nw     129.2  "
      ]
     },
     "execution_count": 14,
     "metadata": {},
     "output_type": "execute_result"
    }
   ],
   "source": [
    "helper = words.reset_index().merge(lexicon.reset_index(), how = 'left', left_on='word', right_on='token')\n",
    "p = helper.groupby(['review_id']).sum()[['polarity']].reset_index()\n",
    "reviews = reviews.merge(p, left_on='review_id', right_on='review_id')\n",
    "# Sort the polarity of review from highest to lowest.\n",
    "reviews.sort_values('polarity', ascending = False).head()"
   ]
  },
  {
   "cell_type": "markdown",
   "metadata": {},
   "source": [
    "When we plot the polarity of each review by their received stars, we can see that nearly it makes much sense. For high star reviews they usually had higher polarity and vice versa. But when comparing 4-star with 5-star reviews, their polarity nearly were equal, actually average polarity of 4-star review was even a little higher than 5-star's. Mostly it was because an outlier with polarity `159` which was maximal in all reviews only gave a 4-star review, and also the second highest polarity `145.8` even gave a worse 3-star review. "
   ]
  },
  {
   "cell_type": "code",
   "execution_count": 15,
   "metadata": {},
   "outputs": [
    {
     "data": {
      "image/png": "[encoded data removed]",
      "text/plain": [
       "<matplotlib.figure.Figure at 0x10d5b0f98>"
      ]
     },
     "metadata": {},
     "output_type": "display_data"
    }
   ],
   "source": [
    "sns.boxplot(x = 'stars', y = 'polarity', data = reviews);"
   ]
  },
  {
   "cell_type": "code",
   "execution_count": 16,
   "metadata": {},
   "outputs": [
    {
     "name": "stdout",
     "output_type": "stream",
     "text": [
      "Average polarity of 5-star review:  13.3567743446\n",
      "Average polarity of 4-star review:  13.5225593171\n",
      "Average polarity of 3-star review:  11.0896586771\n",
      "Average polarity of 2-star review:  6.6462871585\n",
      "Average polarity of 1-star review:  0.379980402502\n"
     ]
    }
   ],
   "source": [
    "print(\"Average polarity of 5-star review: \", reviews[reviews['stars'] == 5]['polarity'].mean())\n",
    "print(\"Average polarity of 4-star review: \", reviews[reviews['stars'] == 4]['polarity'].mean())\n",
    "print(\"Average polarity of 3-star review: \", reviews[reviews['stars'] == 3]['polarity'].mean())\n",
    "print(\"Average polarity of 2-star review: \", reviews[reviews['stars'] == 2]['polarity'].mean())\n",
    "print(\"Average polarity of 1-star review: \", reviews[reviews['stars'] == 1]['polarity'].mean())"
   ]
  },
  {
   "cell_type": "markdown",
   "metadata": {},
   "source": [
    "### 1.4 Reviews-Keywords <a name=\"phase1.4\"></a>\n",
    "[Return to phase breakdown](#breakdown)"
   ]
  },
  {
   "cell_type": "markdown",
   "metadata": {},
   "source": [
    "We can compare sentiment of review by whether the text of the review contains a certain keyword. For example:"
   ]
  },
  {
   "cell_type": "code",
   "execution_count": 17,
   "metadata": {},
   "outputs": [],
   "source": [
    "def keyword_sentiment(keyword1, keyword2):\n",
    "    sns.distplot(reviews[reviews['text'].str.contains(keyword1)]['polarity']) # keyword1\n",
    "    sns.distplot(reviews[reviews['text'].str.contains(keyword2)]['polarity']) # keyword2\n",
    "    plt.legend([keyword1, keyword2])\n",
    "    plt.xlim([-50,50]);"
   ]
  },
  {
   "cell_type": "code",
   "execution_count": 18,
   "metadata": {},
   "outputs": [
    {
     "data": {
      "image/png": "[encoded data removed]",
      "text/plain": [
       "<matplotlib.figure.Figure at 0x1a59daaf28>"
      ]
     },
     "metadata": {},
     "output_type": "display_data"
    }
   ],
   "source": [
    "keyword_sentiment('love', 'wait')"
   ]
  },
  {
   "cell_type": "code",
   "execution_count": 19,
   "metadata": {},
   "outputs": [
    {
     "data": {
      "image/png": "[encoded data removed]",
      "text/plain": [
       "<matplotlib.figure.Figure at 0x1a5198f828>"
      ]
     },
     "metadata": {},
     "output_type": "display_data"
    }
   ],
   "source": [
    "keyword_sentiment('awesome', 'bland')"
   ]
  },
  {
   "cell_type": "markdown",
   "metadata": {},
   "source": [
    "Were there some certain words that often led to `high-star` reviews? We can build a dataframe to find out top high-star words. In this part, we only fouce on business whose category contains **Restaurant** and at least have **500** reviews."
   ]
  },
  {
   "cell_type": "code",
   "execution_count": 20,
   "metadata": {},
   "outputs": [],
   "source": [
    "rev = reviews[['review_id', 'stars', 'business_id', 'polarity']]\n",
    "bus = business[['business_id', 'categories']]\n",
    "rev_bus = rev.merge(bus, left_on='business_id', right_on='business_id')\n",
    "rev_bus['restaurant'] = rev_bus['categories'].apply(lambda c : 'Restaurants' in c)\n",
    "rest = rev_bus[rev_bus['restaurant'] == True]"
   ]
  },
  {
   "cell_type": "code",
   "execution_count": 21,
   "metadata": {},
   "outputs": [],
   "source": [
    "top = (words\n",
    "     .join(rest.set_index('review_id')['stars'])\n",
    "     .loc[:, ['word', 'stars']]\n",
    "     .groupby('word')\n",
    "     .filter(lambda g: len(g) >= 500)\n",
    "     .groupby('word')\n",
    "     .median()\n",
    "     .sort_values('stars', ascending=False)\n",
    ")"
   ]
  },
  {
   "cell_type": "code",
   "execution_count": 22,
   "metadata": {},
   "outputs": [
    {
     "data": {
      "text/plain": [
       "Index(['recommended', 'disappoint', 'appointment', 'equipment', 'haircut',\n",
       "       'pair', 'hands', 'detail', 'lived', 'absolute', 'absolutely', 'bomb',\n",
       "       'accommodating', 'amazing', 'courteous', 'knowledgeable', 'fabulous',\n",
       "       'excellent', 'exceptional', 'professional', 'highly', 'thank', 'thanks',\n",
       "       'outstanding', 'best', 'salon', 'awesome', 'heaven', 'welcome', 'love',\n",
       "       'wonderful', 'loved', 'truly', 'incredible', 'phenomenal', 'phoenix',\n",
       "       'regret', 'az', 'ein', 'personable', 'gorgeous', 'notch', 'perfectly',\n",
       "       'perfection', 'perfect', 'omg', 'gem', 'greek', 'favorites', 'favorite',\n",
       "       'delicious', 'delish', 'wow', 'valley', 'town', 'arizona', 'vegan',\n",
       "       'recommendations', 'fantastic', 'welcoming'],\n",
       "      dtype='object', name='word')"
      ]
     },
     "execution_count": 22,
     "metadata": {},
     "output_type": "execute_result"
    }
   ],
   "source": [
    "top[top['stars'] == 5].index"
   ]
  },
  {
   "cell_type": "markdown",
   "metadata": {},
   "source": [
    "We can clearly see that most words are highly positive adjectives like `gorgeous`, `exceptional`, `outstanding`, `incredible`, `delicious`, `phenomenal`, some are adverbs which can demonstrate emotion like `absolutely`, `truly`, `perfectly`, and also including some exclamations such as `omg`, `wow` and so on."
   ]
  },
  {
   "cell_type": "markdown",
   "metadata": {},
   "source": [
    "## Phase 2: Business <a name=\"phase2\"></a>\n",
    "[Return to phase breakdown](#breakdown)"
   ]
  },
  {
   "cell_type": "code",
   "execution_count": 23,
   "metadata": {},
   "outputs": [
    {
     "data": {
      "text/html": [
       "<div>\n",
       "<style scoped>\n",
       "    .dataframe tbody tr th:only-of-type {\n",
       "        vertical-align: middle;\n",
       "    }\n",
       "\n",
       "    .dataframe tbody tr th {\n",
       "        vertical-align: top;\n",
       "    }\n",
       "\n",
       "    .dataframe thead th {\n",
       "        text-align: right;\n",
       "    }\n",
       "</style>\n",
       "<table border=\"1\" class=\"dataframe\">\n",
       "  <thead>\n",
       "    <tr style=\"text-align: right;\">\n",
       "      <th></th>\n",
       "      <th>business_id</th>\n",
       "      <th>name</th>\n",
       "      <th>is_open</th>\n",
       "      <th>stars</th>\n",
       "      <th>review_count</th>\n",
       "      <th>categories</th>\n",
       "      <th>attributes</th>\n",
       "      <th>state</th>\n",
       "      <th>city</th>\n",
       "      <th>postal_code</th>\n",
       "      <th>latitude</th>\n",
       "      <th>longitude</th>\n",
       "    </tr>\n",
       "  </thead>\n",
       "  <tbody>\n",
       "    <tr>\n",
       "      <th>0</th>\n",
       "      <td>FYWN1wneV18bWNgQjJ2GNg</td>\n",
       "      <td>Dental by Design</td>\n",
       "      <td>1</td>\n",
       "      <td>4.0</td>\n",
       "      <td>22</td>\n",
       "      <td>[Dentists, General Dentistry, Health &amp; Medical...</td>\n",
       "      <td>{'AcceptsInsurance': True, 'ByAppointmentOnly'...</td>\n",
       "      <td>AZ</td>\n",
       "      <td>Ahwatukee</td>\n",
       "      <td>85044</td>\n",
       "      <td>33.330690</td>\n",
       "      <td>-111.978599</td>\n",
       "    </tr>\n",
       "    <tr>\n",
       "      <th>1</th>\n",
       "      <td>He-G7vWjzVUysIKrfNbPUQ</td>\n",
       "      <td>Stephen Szabo Salon</td>\n",
       "      <td>1</td>\n",
       "      <td>3.0</td>\n",
       "      <td>11</td>\n",
       "      <td>[Hair Stylists, Hair Salons, Men's Hair Salons...</td>\n",
       "      <td>{'BusinessParking': {'garage': False, 'street'...</td>\n",
       "      <td>PA</td>\n",
       "      <td>McMurray</td>\n",
       "      <td>15317</td>\n",
       "      <td>40.291685</td>\n",
       "      <td>-80.104900</td>\n",
       "    </tr>\n",
       "    <tr>\n",
       "      <th>2</th>\n",
       "      <td>KQPW8lFf1y5BT2MxiSZ3QA</td>\n",
       "      <td>Western Motor Vehicle</td>\n",
       "      <td>1</td>\n",
       "      <td>1.5</td>\n",
       "      <td>18</td>\n",
       "      <td>[Departments of Motor Vehicles, Public Service...</td>\n",
       "      <td>{}</td>\n",
       "      <td>AZ</td>\n",
       "      <td>Phoenix</td>\n",
       "      <td>85017</td>\n",
       "      <td>33.524903</td>\n",
       "      <td>-112.115310</td>\n",
       "    </tr>\n",
       "    <tr>\n",
       "      <th>3</th>\n",
       "      <td>8DShNS-LuFqpEWIp0HxijA</td>\n",
       "      <td>Sports Authority</td>\n",
       "      <td>0</td>\n",
       "      <td>3.0</td>\n",
       "      <td>9</td>\n",
       "      <td>[Sporting Goods, Shopping]</td>\n",
       "      <td>{'BusinessAcceptsCreditCards': True, 'Restaura...</td>\n",
       "      <td>AZ</td>\n",
       "      <td>Tempe</td>\n",
       "      <td>85282</td>\n",
       "      <td>33.383147</td>\n",
       "      <td>-111.964725</td>\n",
       "    </tr>\n",
       "    <tr>\n",
       "      <th>4</th>\n",
       "      <td>PfOCPjBrlQAnz__NXj9h_w</td>\n",
       "      <td>Brick House Tavern + Tap</td>\n",
       "      <td>1</td>\n",
       "      <td>3.5</td>\n",
       "      <td>116</td>\n",
       "      <td>[American (New), Nightlife, Bars, Sandwiches, ...</td>\n",
       "      <td>{'Alcohol': 'full_bar', 'HasTV': True, 'NoiseL...</td>\n",
       "      <td>OH</td>\n",
       "      <td>Cuyahoga Falls</td>\n",
       "      <td>44221</td>\n",
       "      <td>41.119535</td>\n",
       "      <td>-81.475690</td>\n",
       "    </tr>\n",
       "  </tbody>\n",
       "</table>\n",
       "</div>"
      ],
      "text/plain": [
       "              business_id                      name  is_open  stars  \\\n",
       "0  FYWN1wneV18bWNgQjJ2GNg          Dental by Design        1    4.0   \n",
       "1  He-G7vWjzVUysIKrfNbPUQ       Stephen Szabo Salon        1    3.0   \n",
       "2  KQPW8lFf1y5BT2MxiSZ3QA     Western Motor Vehicle        1    1.5   \n",
       "3  8DShNS-LuFqpEWIp0HxijA          Sports Authority        0    3.0   \n",
       "4  PfOCPjBrlQAnz__NXj9h_w  Brick House Tavern + Tap        1    3.5   \n",
       "\n",
       "   review_count                                         categories  \\\n",
       "0            22  [Dentists, General Dentistry, Health & Medical...   \n",
       "1            11  [Hair Stylists, Hair Salons, Men's Hair Salons...   \n",
       "2            18  [Departments of Motor Vehicles, Public Service...   \n",
       "3             9                         [Sporting Goods, Shopping]   \n",
       "4           116  [American (New), Nightlife, Bars, Sandwiches, ...   \n",
       "\n",
       "                                          attributes state            city  \\\n",
       "0  {'AcceptsInsurance': True, 'ByAppointmentOnly'...    AZ       Ahwatukee   \n",
       "1  {'BusinessParking': {'garage': False, 'street'...    PA        McMurray   \n",
       "2                                                 {}    AZ         Phoenix   \n",
       "3  {'BusinessAcceptsCreditCards': True, 'Restaura...    AZ           Tempe   \n",
       "4  {'Alcohol': 'full_bar', 'HasTV': True, 'NoiseL...    OH  Cuyahoga Falls   \n",
       "\n",
       "  postal_code   latitude   longitude  \n",
       "0       85044  33.330690 -111.978599  \n",
       "1       15317  40.291685  -80.104900  \n",
       "2       85017  33.524903 -112.115310  \n",
       "3       85282  33.383147 -111.964725  \n",
       "4       44221  41.119535  -81.475690  "
      ]
     },
     "execution_count": 23,
     "metadata": {},
     "output_type": "execute_result"
    }
   ],
   "source": [
    "business = business[['business_id', 'name', 'is_open', 'stars', 'review_count', 'categories', 'attributes', 'state', 'city', 'postal_code', 'latitude', 'longitude']]\n",
    "business.head()"
   ]
  },
  {
   "cell_type": "code",
   "execution_count": 24,
   "metadata": {},
   "outputs": [
    {
     "data": {
      "text/plain": [
       "(50000, 12)"
      ]
     },
     "execution_count": 24,
     "metadata": {},
     "output_type": "execute_result"
    }
   ],
   "source": [
    "# Incluing 50000 businesses from yelp.\n",
    "business.shape"
   ]
  },
  {
   "cell_type": "markdown",
   "metadata": {},
   "source": [
    "### 2.1 K-means <a name=\"phase2.1\"></a>\n",
    "[Return to phase breakdown](#breakdown)"
   ]
  },
  {
   "cell_type": "markdown",
   "metadata": {},
   "source": [
    "Businesses tend to appear in clusters, like restaurants. In this phase, we will devise a way to group together restaurants that are close to each other in **Las Vegas**.\n",
    "\n",
    "The [k-means algorithm](https://en.wikipedia.org/wiki/K-means_clustering) is a method for discovering the centers of clusters. It is called an unsupervised learning method because the algorithm is not told what the correct clusters are; it must infer the clusters from the data alone.The k-means algorithm finds k centroids within a dataset that each correspond to a cluster of inputs. To do so, k-means begins by choosing k centroids at random, then alternates between the following two steps:\n",
    "\n",
    "1. Group the restaurants into clusters, where each cluster contains all restaurants that are closest to the same centroid.\n",
    "2. Compute a new centroid (average position) for each new cluster.\n",
    "\n",
    "This [visualization](http://tech.nitoyon.com/en/blog/2013/11/07/k-means/) is a good way to understand how the algorithm works."
   ]
  },
  {
   "cell_type": "code",
   "execution_count": 25,
   "metadata": {},
   "outputs": [
    {
     "name": "stdout",
     "output_type": "stream",
     "text": [
      "Number of restaurants in Las Vegas:  1692\n"
     ]
    }
   ],
   "source": [
    "# Get all the restaurants in Las Vegas.\n",
    "business['restaurant'] = business['categories'].apply(lambda c : 'Restaurants' in c)\n",
    "las_vegas_rest = business.query(\"city == 'Las Vegas' and restaurant == True\")\n",
    "print(\"Number of restaurants in Las Vegas: \", len(las_vegas_rest))"
   ]
  },
  {
   "cell_type": "markdown",
   "metadata": {},
   "source": [
    "Let's load all the restaurants in Las Vegas to an array called `rests` which contains `name`, `position(latitude, longitude)`, `categories`, `stars` and `review_count`."
   ]
  },
  {
   "cell_type": "code",
   "execution_count": 26,
   "metadata": {},
   "outputs": [
    {
     "data": {
      "text/plain": [
       "['Flight Deck Bar & Grill',\n",
       " (36.0669136, -115.1708484),\n",
       " ['Nightlife',\n",
       "  'Bars',\n",
       "  'Barbeque',\n",
       "  'Sports Bars',\n",
       "  'American (New)',\n",
       "  'Restaurants'],\n",
       " 4.0,\n",
       " 13]"
      ]
     },
     "execution_count": 26,
     "metadata": {},
     "output_type": "execute_result"
    }
   ],
   "source": [
    "rests = utils.load_las_vegas_rest('dataset/business.json')\n",
    "rests[0]"
   ]
  },
  {
   "cell_type": "markdown",
   "metadata": {},
   "source": [
    "Plot a heatmap of restaurants in Las Vegas:"
   ]
  },
  {
   "cell_type": "code",
   "execution_count": 27,
   "metadata": {},
   "outputs": [],
   "source": [
    "# load a Numpy array of (latitude, longitude) pairs\n",
    "rests_locations = [rest[1] for rest in rests]\n",
    "fig = gmaps.figure()\n",
    "rests_layer = gmaps.heatmap_layer(rests_locations)\n",
    "fig.add_layer(rests_layer)\n",
    "# fig    # Please unremark this line when running the cell."
   ]
  },
  {
   "cell_type": "markdown",
   "metadata": {},
   "source": [
    "<img src=\"images/map1.png\">"
   ]
  },
  {
   "cell_type": "markdown",
   "metadata": {},
   "source": [
    "Use `k-means algorithm` to get six centroids of all the restaurants."
   ]
  },
  {
   "cell_type": "code",
   "execution_count": 28,
   "metadata": {},
   "outputs": [
    {
     "data": {
      "text/plain": [
       "[[36.03078109044969, -115.16124699797511],\n",
       " [36.10161240388519, -115.11621430409262],\n",
       " [36.114435755896295, -115.27785255345643],\n",
       " [36.12288337034022, -115.18388290837981],\n",
       " [36.229815122727295, -115.25408389374641],\n",
       " [36.17455096416088, -115.1088938933749]]"
      ]
     },
     "execution_count": 28,
     "metadata": {},
     "output_type": "execute_result"
    }
   ],
   "source": [
    "def k_m(k):\n",
    "    # Use k-means algorithm\n",
    "    centroids = kmeans.k_means(rests, k)\n",
    "    return centroids\n",
    "k_means_6 = k_m(6) # Get six centroids (latitude, longitude)\n",
    "k_means_6"
   ]
  },
  {
   "cell_type": "markdown",
   "metadata": {},
   "source": [
    "Add the centroids to original heatmap:"
   ]
  },
  {
   "cell_type": "code",
   "execution_count": 29,
   "metadata": {},
   "outputs": [],
   "source": [
    "centroids_layer = gmaps.symbol_layer(k_means_6, fill_color=\"blue\", stroke_color=\"blue\", scale=5)\n",
    "fig.add_layer(centroids_layer)\n",
    "# fig    # Please unremark this line when running the cell."
   ]
  },
  {
   "cell_type": "markdown",
   "metadata": {},
   "source": [
    "<img src=\"images/map2.png\">"
   ]
  },
  {
   "cell_type": "markdown",
   "metadata": {},
   "source": [
    "### 2.2 Categories <a name=\"phase2.2\"></a>\n",
    "[Return to phase breakdown](#breakdown)"
   ]
  },
  {
   "cell_type": "markdown",
   "metadata": {},
   "source": [
    "There are many categories in business's `categories` column. What was the most popular cateogory for all the restaurants in **Las Vegas**? Which category had the highest `average-star`? Before we get started, we need to filter out restaurants with `review-count` less than **50**."
   ]
  },
  {
   "cell_type": "code",
   "execution_count": 30,
   "metadata": {},
   "outputs": [
    {
     "data": {
      "text/html": [
       "<div>\n",
       "<style scoped>\n",
       "    .dataframe tbody tr th:only-of-type {\n",
       "        vertical-align: middle;\n",
       "    }\n",
       "\n",
       "    .dataframe tbody tr th {\n",
       "        vertical-align: top;\n",
       "    }\n",
       "\n",
       "    .dataframe thead th {\n",
       "        text-align: right;\n",
       "    }\n",
       "</style>\n",
       "<table border=\"1\" class=\"dataframe\">\n",
       "  <thead>\n",
       "    <tr style=\"text-align: right;\">\n",
       "      <th></th>\n",
       "      <th>name</th>\n",
       "      <th>stars</th>\n",
       "      <th>categories</th>\n",
       "    </tr>\n",
       "  </thead>\n",
       "  <tbody>\n",
       "    <tr>\n",
       "      <th>54</th>\n",
       "      <td>GameWorks</td>\n",
       "      <td>3.0</td>\n",
       "      <td>[Arcades, Arts &amp; Entertainment, Gastropubs, Re...</td>\n",
       "    </tr>\n",
       "    <tr>\n",
       "      <th>133</th>\n",
       "      <td>Divine Cafe at the Springs Preserve</td>\n",
       "      <td>4.0</td>\n",
       "      <td>[Restaurants, Cafes, American (New), Bars, Nig...</td>\n",
       "    </tr>\n",
       "    <tr>\n",
       "      <th>274</th>\n",
       "      <td>Trattoria Italia</td>\n",
       "      <td>4.5</td>\n",
       "      <td>[Seafood, Italian, Pizza, Restaurants]</td>\n",
       "    </tr>\n",
       "    <tr>\n",
       "      <th>366</th>\n",
       "      <td>Kinthai</td>\n",
       "      <td>4.5</td>\n",
       "      <td>[Restaurants, Thai]</td>\n",
       "    </tr>\n",
       "    <tr>\n",
       "      <th>621</th>\n",
       "      <td>Panda Express</td>\n",
       "      <td>2.5</td>\n",
       "      <td>[Restaurants, Fast Food, Chinese]</td>\n",
       "    </tr>\n",
       "  </tbody>\n",
       "</table>\n",
       "</div>"
      ],
      "text/plain": [
       "                                    name  stars  \\\n",
       "54                             GameWorks    3.0   \n",
       "133  Divine Cafe at the Springs Preserve    4.0   \n",
       "274                     Trattoria Italia    4.5   \n",
       "366                              Kinthai    4.5   \n",
       "621                        Panda Express    2.5   \n",
       "\n",
       "                                            categories  \n",
       "54   [Arcades, Arts & Entertainment, Gastropubs, Re...  \n",
       "133  [Restaurants, Cafes, American (New), Bars, Nig...  \n",
       "274             [Seafood, Italian, Pizza, Restaurants]  \n",
       "366                                [Restaurants, Thai]  \n",
       "621                  [Restaurants, Fast Food, Chinese]  "
      ]
     },
     "execution_count": 30,
     "metadata": {},
     "output_type": "execute_result"
    }
   ],
   "source": [
    "las = las_vegas_rest[las_vegas_rest['review_count'] > 50][['name', 'stars', 'categories']]\n",
    "las.head()"
   ]
  },
  {
   "cell_type": "code",
   "execution_count": 31,
   "metadata": {},
   "outputs": [],
   "source": [
    "def rest_categories_city(l):\n",
    "    d = {}\n",
    "    for row in l.index:\n",
    "        stars = l.loc[row, ]['stars']\n",
    "        for c in l.loc[row, ]['categories']:\n",
    "            if c != 'Restaurants':\n",
    "                if c not in d.keys():\n",
    "                    d[c] = [stars]\n",
    "                else:\n",
    "                    d[c].append(stars)\n",
    "    \n",
    "    rest_categories = pd.DataFrame({'stars':list(d.values())})\n",
    "    rest_categories.index = d.keys()\n",
    "    rest_categories['number'] = rest_categories['stars'].apply(lambda a : len(a))\n",
    "    rest_categories['percentage'] = rest_categories['number'] / len(l) * 100\n",
    "    rest_categories['average_stars'] = rest_categories['stars'].apply(lambda a : sum(a) / len(a))\n",
    "    rest_categories = rest_categories.drop(['stars'], axis=1)\n",
    "    \n",
    "    return rest_categories"
   ]
  },
  {
   "cell_type": "markdown",
   "metadata": {},
   "source": [
    "Let's take a look at top10 restaurant categories in **Las Vegas**!"
   ]
  },
  {
   "cell_type": "code",
   "execution_count": 32,
   "metadata": {},
   "outputs": [
    {
     "data": {
      "text/html": [
       "<div>\n",
       "<style scoped>\n",
       "    .dataframe tbody tr th:only-of-type {\n",
       "        vertical-align: middle;\n",
       "    }\n",
       "\n",
       "    .dataframe tbody tr th {\n",
       "        vertical-align: top;\n",
       "    }\n",
       "\n",
       "    .dataframe thead th {\n",
       "        text-align: right;\n",
       "    }\n",
       "</style>\n",
       "<table border=\"1\" class=\"dataframe\">\n",
       "  <thead>\n",
       "    <tr style=\"text-align: right;\">\n",
       "      <th></th>\n",
       "      <th>number</th>\n",
       "      <th>percentage</th>\n",
       "      <th>average_stars</th>\n",
       "      <th>city</th>\n",
       "    </tr>\n",
       "  </thead>\n",
       "  <tbody>\n",
       "    <tr>\n",
       "      <th>Food</th>\n",
       "      <td>172</td>\n",
       "      <td>21.260816</td>\n",
       "      <td>3.819767</td>\n",
       "      <td>Las Vegas</td>\n",
       "    </tr>\n",
       "    <tr>\n",
       "      <th>Nightlife</th>\n",
       "      <td>141</td>\n",
       "      <td>17.428925</td>\n",
       "      <td>3.716312</td>\n",
       "      <td>Las Vegas</td>\n",
       "    </tr>\n",
       "    <tr>\n",
       "      <th>Bars</th>\n",
       "      <td>136</td>\n",
       "      <td>16.810878</td>\n",
       "      <td>3.727941</td>\n",
       "      <td>Las Vegas</td>\n",
       "    </tr>\n",
       "    <tr>\n",
       "      <th>American (Traditional)</th>\n",
       "      <td>119</td>\n",
       "      <td>14.709518</td>\n",
       "      <td>3.462185</td>\n",
       "      <td>Las Vegas</td>\n",
       "    </tr>\n",
       "    <tr>\n",
       "      <th>American (New)</th>\n",
       "      <td>102</td>\n",
       "      <td>12.608158</td>\n",
       "      <td>3.735294</td>\n",
       "      <td>Las Vegas</td>\n",
       "    </tr>\n",
       "    <tr>\n",
       "      <th>Mexican</th>\n",
       "      <td>99</td>\n",
       "      <td>12.237330</td>\n",
       "      <td>3.595960</td>\n",
       "      <td>Las Vegas</td>\n",
       "    </tr>\n",
       "    <tr>\n",
       "      <th>Breakfast &amp; Brunch</th>\n",
       "      <td>93</td>\n",
       "      <td>11.495674</td>\n",
       "      <td>3.677419</td>\n",
       "      <td>Las Vegas</td>\n",
       "    </tr>\n",
       "    <tr>\n",
       "      <th>Pizza</th>\n",
       "      <td>82</td>\n",
       "      <td>10.135970</td>\n",
       "      <td>3.567073</td>\n",
       "      <td>Las Vegas</td>\n",
       "    </tr>\n",
       "    <tr>\n",
       "      <th>Italian</th>\n",
       "      <td>81</td>\n",
       "      <td>10.012361</td>\n",
       "      <td>3.697531</td>\n",
       "      <td>Las Vegas</td>\n",
       "    </tr>\n",
       "    <tr>\n",
       "      <th>Sandwiches</th>\n",
       "      <td>77</td>\n",
       "      <td>9.517923</td>\n",
       "      <td>3.623377</td>\n",
       "      <td>Las Vegas</td>\n",
       "    </tr>\n",
       "  </tbody>\n",
       "</table>\n",
       "</div>"
      ],
      "text/plain": [
       "                        number  percentage  average_stars       city\n",
       "Food                       172   21.260816       3.819767  Las Vegas\n",
       "Nightlife                  141   17.428925       3.716312  Las Vegas\n",
       "Bars                       136   16.810878       3.727941  Las Vegas\n",
       "American (Traditional)     119   14.709518       3.462185  Las Vegas\n",
       "American (New)             102   12.608158       3.735294  Las Vegas\n",
       "Mexican                     99   12.237330       3.595960  Las Vegas\n",
       "Breakfast & Brunch          93   11.495674       3.677419  Las Vegas\n",
       "Pizza                       82   10.135970       3.567073  Las Vegas\n",
       "Italian                     81   10.012361       3.697531  Las Vegas\n",
       "Sandwiches                  77    9.517923       3.623377  Las Vegas"
      ]
     },
     "execution_count": 32,
     "metadata": {},
     "output_type": "execute_result"
    }
   ],
   "source": [
    "rest_from_lasvegas = rest_categories_city(las)\n",
    "rest_from_lasvegas['city'] = 'Las Vegas'\n",
    "top10_rest_from_lasvegas = rest_from_lasvegas.sort_values('number', ascending = False).head(10)\n",
    "top10_rest_from_lasvegas"
   ]
  },
  {
   "cell_type": "code",
   "execution_count": 33,
   "metadata": {},
   "outputs": [
    {
     "data": {
      "image/png": "[encoded data removed]",
      "text/plain": [
       "<matplotlib.figure.Figure at 0x1a3d588ef0>"
      ]
     },
     "metadata": {},
     "output_type": "display_data"
    }
   ],
   "source": [
    "f, ax = plt.subplots(figsize=(10, 6))\n",
    "sns.barplot(x = 'percentage', y = top10_rest_from_lasvegas.index, data = top10_rest_from_lasvegas)\n",
    "plt.title('Top10 restaurant categories in Las Vegas');"
   ]
  },
  {
   "cell_type": "markdown",
   "metadata": {},
   "source": [
    "For reference, we can take a look at other cities like **Phoenix** and **Toronto**, and plot three cities together:"
   ]
  },
  {
   "cell_type": "code",
   "execution_count": 34,
   "metadata": {},
   "outputs": [],
   "source": [
    "p = business.query(\"city == 'Phoenix' and restaurant == True\")\n",
    "p = p[p['review_count'] > 50][['name', 'stars', 'categories']]\n",
    "rest_from_phoenix = rest_categories_city(p)\n",
    "rest_from_phoenix['city'] = 'Phoenix'\n",
    "top10_rest_from_phoenix = rest_from_phoenix.sort_values('number', ascending = False).head(10) # Top10 in Phoenix\n",
    "\n",
    "t = business.query(\"city == 'Toronto' and restaurant == True\")\n",
    "t = t[t['review_count'] > 50][['name', 'stars', 'categories']]\n",
    "rest_from_toronto = rest_categories_city(t)\n",
    "rest_from_toronto['city'] = 'Toronto'\n",
    "top10_rest_from_toronto = rest_from_toronto.sort_values('number', ascending = False).head(10) # Top10 in Toronto\n",
    "\n",
    "d1 = top10_rest_from_lasvegas.append(top10_rest_from_phoenix)\n",
    "three_cities_top10 = d1.append(top10_rest_from_toronto)"
   ]
  },
  {
   "cell_type": "code",
   "execution_count": 35,
   "metadata": {},
   "outputs": [
    {
     "data": {
      "image/png": "[encoded data removed]",
      "text/plain": [
       "<matplotlib.figure.Figure at 0x1a4319b940>"
      ]
     },
     "metadata": {},
     "output_type": "display_data"
    }
   ],
   "source": [
    "sns.set(style=\"whitegrid\")\n",
    "f, ax = plt.subplots(figsize=(12, 8))\n",
    "sns.barplot(x = 'percentage', y = three_cities_top10.index, hue = 'city', data = three_cities_top10, palette=\"Blues_d\")\n",
    "ax.legend(ncol=3, loc=\"lower right\", frameon=True)\n",
    "plt.title(\"Top10 restaurant categories in Las Vegas, Phoenix & Toronto\");"
   ]
  },
  {
   "cell_type": "markdown",
   "metadata": {},
   "source": [
    "We can see that for **Las Vegas** and **Phoenix**, their top10 restaurant categories were exactly same, just a little bit different in proportion sorting. Restaurants about `Nightlife`, `Bars`, with `Sandwiches` and `Piazza` were always popular, and for exotic restaurants people were interested in `Mexican` and `Italian` food. \n",
    "\n",
    "As for **Toronto**, actually its top10 restaurant categories were nearly identical with them, people still like restaurants about `Nightlife` and `Bars`. Only different part was that `American(new)` restaurants changed to `Canadian(new)` (Of course, they are in different countries after all...), and looks like people in **Toronto** were more interested in `Japanese` food than `Mexican` food, wherefore there were many `Sushi Bars`.\n",
    "\n",
    "What about `average-star`? Which category had the highest `average-star`? Were they same for different cities? Firstly, we should take a look at restaurants in **Las Vegas**."
   ]
  },
  {
   "cell_type": "code",
   "execution_count": 36,
   "metadata": {},
   "outputs": [
    {
     "data": {
      "text/html": [
       "<div>\n",
       "<style scoped>\n",
       "    .dataframe tbody tr th:only-of-type {\n",
       "        vertical-align: middle;\n",
       "    }\n",
       "\n",
       "    .dataframe tbody tr th {\n",
       "        vertical-align: top;\n",
       "    }\n",
       "\n",
       "    .dataframe thead th {\n",
       "        text-align: right;\n",
       "    }\n",
       "</style>\n",
       "<table border=\"1\" class=\"dataframe\">\n",
       "  <thead>\n",
       "    <tr style=\"text-align: right;\">\n",
       "      <th></th>\n",
       "      <th>number</th>\n",
       "      <th>percentage</th>\n",
       "      <th>average_stars</th>\n",
       "      <th>city</th>\n",
       "    </tr>\n",
       "  </thead>\n",
       "  <tbody>\n",
       "    <tr>\n",
       "      <th>Vegan</th>\n",
       "      <td>20</td>\n",
       "      <td>2.472188</td>\n",
       "      <td>4.100000</td>\n",
       "      <td>Las Vegas</td>\n",
       "    </tr>\n",
       "    <tr>\n",
       "      <th>Specialty Food</th>\n",
       "      <td>17</td>\n",
       "      <td>2.101360</td>\n",
       "      <td>4.088235</td>\n",
       "      <td>Las Vegas</td>\n",
       "    </tr>\n",
       "    <tr>\n",
       "      <th>Korean</th>\n",
       "      <td>19</td>\n",
       "      <td>2.348578</td>\n",
       "      <td>4.052632</td>\n",
       "      <td>Las Vegas</td>\n",
       "    </tr>\n",
       "    <tr>\n",
       "      <th>Greek</th>\n",
       "      <td>10</td>\n",
       "      <td>1.236094</td>\n",
       "      <td>4.000000</td>\n",
       "      <td>Las Vegas</td>\n",
       "    </tr>\n",
       "    <tr>\n",
       "      <th>Tapas Bars</th>\n",
       "      <td>11</td>\n",
       "      <td>1.359703</td>\n",
       "      <td>4.000000</td>\n",
       "      <td>Las Vegas</td>\n",
       "    </tr>\n",
       "  </tbody>\n",
       "</table>\n",
       "</div>"
      ],
      "text/plain": [
       "                number  percentage  average_stars       city\n",
       "Vegan               20    2.472188       4.100000  Las Vegas\n",
       "Specialty Food      17    2.101360       4.088235  Las Vegas\n",
       "Korean              19    2.348578       4.052632  Las Vegas\n",
       "Greek               10    1.236094       4.000000  Las Vegas\n",
       "Tapas Bars          11    1.359703       4.000000  Las Vegas"
      ]
     },
     "execution_count": 36,
     "metadata": {},
     "output_type": "execute_result"
    }
   ],
   "source": [
    "# Filter out categories showing less than 10 times.\n",
    "top5_stars_from_lasvegas = rest_from_lasvegas[rest_from_lasvegas['number'] >= 10]\\\n",
    "                            .sort_values('average_stars', ascending = False).head()\n",
    "top5_stars_from_lasvegas"
   ]
  },
  {
   "cell_type": "code",
   "execution_count": 37,
   "metadata": {},
   "outputs": [
    {
     "data": {
      "image/png": "[encoded data removed]",
      "text/plain": [
       "<matplotlib.figure.Figure at 0x1a4fd1d630>"
      ]
     },
     "metadata": {},
     "output_type": "display_data"
    }
   ],
   "source": [
    "f, ax = plt.subplots(figsize=(8, 5))\n",
    "ax = sns.barplot(y = 'average_stars', x = top5_stars_from_lasvegas.index, data = top5_stars_from_lasvegas, palette=\"pastel\")\n",
    "plt.ylabel('average-star')\n",
    "plt.ylim([3.8, 4.2])\n",
    "for patch in ax.patches:\n",
    "    x = patch.get_bbox().get_points()[:, 0]\n",
    "    y = patch.get_bbox().get_points()[1, 1]\n",
    "    ax.annotate('{:.3f}'.format(y), (x.mean(), y), ha='center')\n",
    "plt.title('restaurant categories with Top5 average-star in Las Vegas');"
   ]
  },
  {
   "cell_type": "code",
   "execution_count": 38,
   "metadata": {},
   "outputs": [],
   "source": [
    "top5_stars_from_phoenix = rest_from_phoenix[rest_from_phoenix['number'] >= 10]\\\n",
    "                            .sort_values('average_stars', ascending = False).head()\n",
    "top5_stars_from_toronto = rest_from_toronto[rest_from_toronto['number'] >= 10]\\\n",
    "                            .sort_values('average_stars', ascending = False).head()\n",
    "d1 = top5_stars_from_lasvegas.append(top5_stars_from_phoenix)\n",
    "three_cities_top5 = d1.append(top5_stars_from_toronto)"
   ]
  },
  {
   "cell_type": "code",
   "execution_count": 39,
   "metadata": {},
   "outputs": [
    {
     "data": {
      "image/png": "[encoded data removed]",
      "text/plain": [
       "<matplotlib.figure.Figure at 0x11a036be0>"
      ]
     },
     "metadata": {},
     "output_type": "display_data"
    }
   ],
   "source": [
    "f, ax = plt.subplots(figsize=(12, 8))\n",
    "sns.barplot(y = 'average_stars', x = three_cities_top5.index, hue = 'city',  data = three_cities_top5, palette=\"rocket\")\n",
    "plt.ylabel('average-star')\n",
    "plt.ylim([3.6, 4.30])\n",
    "ax.legend(ncol=3, loc=\"upper right\", frameon=True)\n",
    "plt.title('restaurant categories with Top5 average-star in Las Vegas, Phoenix & Toronto');"
   ]
  },
  {
   "cell_type": "markdown",
   "metadata": {},
   "source": [
    "Well, it looks like things are totally different right now! \n",
    "\n",
    "For three cities, only `Vegan` always had top5 average-star, and then were `Specialty Food`, `Greek` and `Coffee & Tea` which had two cities in top5 average-star. If you extend top5 to top10 average-star of restaurant categories, you will find that it still only had `Vegan` in Top5 highest average-star for all three cities.\n",
    "\n",
    "Was it common for all cities? Were `Vegan` restaurants always so popular?"
   ]
  },
  {
   "cell_type": "markdown",
   "metadata": {},
   "source": [
    "### 2.3 Vegan Restaurants<a name=\"phase2.3\"></a>\n",
    "[Return to phase breakdown](#breakdown)"
   ]
  },
  {
   "cell_type": "code",
   "execution_count": 40,
   "metadata": {},
   "outputs": [],
   "source": [
    "business['vegan'] = business['categories'].apply(lambda c : 'Vegan' in c)\n",
    "reviews['year'] = reviews['date'].dt.year\n",
    "rests = business[(business['restaurant'] == True) & (business['is_open'] == 1)]\n",
    "\n",
    "# We only use the data exists in both reviews dataframe and business dataframe. \n",
    "rests_with_reviews = reviews.merge(rests, left_on='business_id', right_on='business_id')"
   ]
  },
  {
   "cell_type": "code",
   "execution_count": 41,
   "metadata": {},
   "outputs": [],
   "source": [
    "vegan_pect = rests_with_reviews.groupby(['year']).mean()\n",
    "vegan_pect.reset_index(inplace = True)\n",
    "vegan_pect['vegan'] = vegan_pect['vegan'] * 100"
   ]
  },
  {
   "cell_type": "code",
   "execution_count": 42,
   "metadata": {},
   "outputs": [
    {
     "data": {
      "image/png": "[encoded data removed]",
      "text/plain": [
       "<matplotlib.figure.Figure at 0x1a43b03978>"
      ]
     },
     "metadata": {},
     "output_type": "display_data"
    }
   ],
   "source": [
    "sns.set(color_codes=True)\n",
    "sns.lmplot(x = 'year', y = 'vegan', data = vegan_pect)\n",
    "plt.ylabel('vegan restaurants percentage');"
   ]
  },
  {
   "cell_type": "markdown",
   "metadata": {},
   "source": [
    "From the plot we can clearly see that the regression model is a positive linear function, which means that the percentage of `Vegan` restaurants number nearly was raising every year.\n",
    "\n",
    "We can also compare the `average-star` for `Vegan` restaurants and other categories and it turns out that `Vegan` restaurants were always more well-received and reputable."
   ]
  },
  {
   "cell_type": "code",
   "execution_count": 43,
   "metadata": {},
   "outputs": [
    {
     "data": {
      "image/png": "[encoded data removed]",
      "text/plain": [
       "<matplotlib.figure.Figure at 0x1a480af6d8>"
      ]
     },
     "metadata": {},
     "output_type": "display_data"
    }
   ],
   "source": [
    "# Before 2008 there was no available data of vegan restaurants\n",
    "vegan_stars = rests_with_reviews.groupby(['year', 'vegan']).mean().reset_index().loc[2:, ]\n",
    "\n",
    "sns.lmplot(x = 'year', y = 'stars_y', hue = 'vegan', data = vegan_stars) \n",
    "plt.ylabel('average-star');"
   ]
  },
  {
   "cell_type": "markdown",
   "metadata": {},
   "source": [
    "### 2.4 Attributes<a name=\"phase2.4\"></a>\n",
    "[Return to phase breakdown](#breakdown)"
   ]
  },
  {
   "cell_type": "markdown",
   "metadata": {},
   "source": [
    "There is a notable column in business dataframe called `attributes`, which contains assorted attributes of that business. In this part, we still will focus on businesses belong to `restaurants` category to find out potential connection between attributes and stars."
   ]
  },
  {
   "cell_type": "code",
   "execution_count": 44,
   "metadata": {},
   "outputs": [],
   "source": [
    "def get_rests_from_attributes(*args):\n",
    "    partof_rests = pd.DataFrame({'business_id':rests['business_id'], 'name':rests['name'], 'stars':rests['stars']})\n",
    "    def helper(attribute):\n",
    "        attributes = []\n",
    "        for a in rests['attributes']:\n",
    "            if attribute in a.keys():\n",
    "                attributes.append(a[attribute])\n",
    "            else:\n",
    "                attributes.append(None)\n",
    "        return attributes\n",
    "\n",
    "    for i in range(len(args)):\n",
    "        attribute = args[i]\n",
    "        partof_rests[attribute.lower()] = helper(attribute)\n",
    "    \n",
    "    return partof_rests"
   ]
  },
  {
   "cell_type": "markdown",
   "metadata": {},
   "source": [
    "Let's firstly take a look if `WiFi` would influence the stars of restaurants."
   ]
  },
  {
   "cell_type": "code",
   "execution_count": 45,
   "metadata": {},
   "outputs": [
    {
     "data": {
      "image/png": "[encoded data removed]",
      "text/plain": [
       "<matplotlib.figure.Figure at 0x1a5cb63588>"
      ]
     },
     "metadata": {},
     "output_type": "display_data"
    }
   ],
   "source": [
    "star_with_wifi = get_rests_from_attributes('WiFi').groupby(['wifi']).mean().reset_index()\n",
    "sns.set(style=\"whitegrid\")\n",
    "ax = sns.barplot(x = 'wifi', y = 'stars', data = star_with_wifi, palette = 'Blues')\n",
    "for patch in ax.patches:\n",
    "    x = patch.get_bbox().get_points()[:, 0]\n",
    "    y = patch.get_bbox().get_points()[1, 1]\n",
    "    ax.annotate('{:.3f}'.format(y), (x.mean(), y), ha='center', va='bottom')\n",
    "plt.ylim([3, 3.6]);"
   ]
  },
  {
   "cell_type": "markdown",
   "metadata": {},
   "source": [
    "From the plot above, it becomes clear that restaurants with `free` wifi can get higher stars while with `paid` wifi they usuallly will get lower stars, even much worse than restaurants `without` wifi service.\n",
    "\n",
    "Now let's add another attribute called `NoiseLevel` and plot the average stars."
   ]
  },
  {
   "cell_type": "code",
   "execution_count": 46,
   "metadata": {},
   "outputs": [
    {
     "data": {
      "image/png": "[encoded data removed]",
      "text/plain": [
       "<matplotlib.figure.Figure at 0x1a2e4f9a20>"
      ]
     },
     "metadata": {},
     "output_type": "display_data"
    }
   ],
   "source": [
    "star_with_wifiandnoise = get_rests_from_attributes('NoiseLevel', 'WiFi').groupby(['noiselevel', 'wifi']).mean().reset_index()\n",
    "f, ax = plt.subplots(figsize=(7, 5))\n",
    "ax = sns.barplot(x = 'noiselevel', y = 'stars', hue = 'wifi', data = star_with_wifiandnoise, palette = 'GnBu_d')\n",
    "ax.axhline(\n",
    "    y=star_with_wifiandnoise['stars'].mean(), \n",
    "    color='red',\n",
    "    linestyle='dotted'\n",
    ")\n",
    "plt.ylim([2.5, 4]);"
   ]
  },
  {
   "cell_type": "markdown",
   "metadata": {},
   "source": [
    "Red dotted line is the average stars from all the reviews, and we can see that for restaurants with `loud` or `very loud` noise, their average stars were always lower than mean no matter how good their wifi service were, and basically it follows `quiet` > `average` > `loud` > `very loud`.\n",
    "\n",
    "For many customers drive to restaurants, one realistic problem is that if there is available parking place for them. In the attributes there is one called `BusinessParking` which contains five different kinds of parking place of that restaurant."
   ]
  },
  {
   "cell_type": "code",
   "execution_count": 47,
   "metadata": {},
   "outputs": [
    {
     "data": {
      "text/html": [
       "<div>\n",
       "<style scoped>\n",
       "    .dataframe tbody tr th:only-of-type {\n",
       "        vertical-align: middle;\n",
       "    }\n",
       "\n",
       "    .dataframe tbody tr th {\n",
       "        vertical-align: top;\n",
       "    }\n",
       "\n",
       "    .dataframe thead th {\n",
       "        text-align: right;\n",
       "    }\n",
       "</style>\n",
       "<table border=\"1\" class=\"dataframe\">\n",
       "  <thead>\n",
       "    <tr style=\"text-align: right;\">\n",
       "      <th></th>\n",
       "      <th>business_id</th>\n",
       "      <th>name</th>\n",
       "      <th>stars</th>\n",
       "      <th>garage</th>\n",
       "      <th>street</th>\n",
       "      <th>validated</th>\n",
       "      <th>lot</th>\n",
       "      <th>valet</th>\n",
       "    </tr>\n",
       "  </thead>\n",
       "  <tbody>\n",
       "    <tr>\n",
       "      <th>4</th>\n",
       "      <td>PfOCPjBrlQAnz__NXj9h_w</td>\n",
       "      <td>Brick House Tavern + Tap</td>\n",
       "      <td>3.5</td>\n",
       "      <td>False</td>\n",
       "      <td>False</td>\n",
       "      <td>False</td>\n",
       "      <td>True</td>\n",
       "      <td>False</td>\n",
       "    </tr>\n",
       "    <tr>\n",
       "      <th>5</th>\n",
       "      <td>o9eMRCWt5PkpLDE0gOPtcQ</td>\n",
       "      <td>Messina</td>\n",
       "      <td>4.0</td>\n",
       "      <td>False</td>\n",
       "      <td>False</td>\n",
       "      <td>False</td>\n",
       "      <td>False</td>\n",
       "      <td>False</td>\n",
       "    </tr>\n",
       "    <tr>\n",
       "      <th>14</th>\n",
       "      <td>fNMVV_ZX7CJSDWQGdOM8Nw</td>\n",
       "      <td>Showmars Government Center</td>\n",
       "      <td>3.5</td>\n",
       "      <td>False</td>\n",
       "      <td>False</td>\n",
       "      <td>False</td>\n",
       "      <td>False</td>\n",
       "      <td>False</td>\n",
       "    </tr>\n",
       "    <tr>\n",
       "      <th>19</th>\n",
       "      <td>Gu-xs3NIQTj3Mj2xYoN2aw</td>\n",
       "      <td>Maxim Bakery &amp; Restaurant</td>\n",
       "      <td>3.5</td>\n",
       "      <td>False</td>\n",
       "      <td>False</td>\n",
       "      <td>False</td>\n",
       "      <td>True</td>\n",
       "      <td>False</td>\n",
       "    </tr>\n",
       "    <tr>\n",
       "      <th>25</th>\n",
       "      <td>1K4qrnfyzKzGgJPBEcJaNQ</td>\n",
       "      <td>Chula Taberna Mexicana</td>\n",
       "      <td>3.5</td>\n",
       "      <td>False</td>\n",
       "      <td>True</td>\n",
       "      <td>False</td>\n",
       "      <td>False</td>\n",
       "      <td>False</td>\n",
       "    </tr>\n",
       "  </tbody>\n",
       "</table>\n",
       "</div>"
      ],
      "text/plain": [
       "               business_id                        name  stars  garage  street  \\\n",
       "4   PfOCPjBrlQAnz__NXj9h_w    Brick House Tavern + Tap    3.5   False   False   \n",
       "5   o9eMRCWt5PkpLDE0gOPtcQ                     Messina    4.0   False   False   \n",
       "14  fNMVV_ZX7CJSDWQGdOM8Nw  Showmars Government Center    3.5   False   False   \n",
       "19  Gu-xs3NIQTj3Mj2xYoN2aw   Maxim Bakery & Restaurant    3.5   False   False   \n",
       "25  1K4qrnfyzKzGgJPBEcJaNQ      Chula Taberna Mexicana    3.5   False    True   \n",
       "\n",
       "    validated    lot  valet  \n",
       "4       False   True  False  \n",
       "5       False  False  False  \n",
       "14      False  False  False  \n",
       "19      False   True  False  \n",
       "25      False  False  False  "
      ]
     },
     "execution_count": 47,
     "metadata": {},
     "output_type": "execute_result"
    }
   ],
   "source": [
    "columnsname = ['garage', 'street', 'validated', 'lot', 'valet']\n",
    "def get_rests_from_attributes2(attribute):\n",
    "    partof_rests = pd.DataFrame({'business_id':rests['business_id'], 'name':rests['name'], 'stars':rests['stars']})\n",
    "    def helper(park, kind):\n",
    "        if kind in park.keys():\n",
    "            return park[kind]\n",
    "        else:\n",
    "            return False\n",
    "    for i in columnsname:\n",
    "        c = []\n",
    "        for a in rests['attributes']:\n",
    "            if attribute in a.keys():\n",
    "                c.append(helper(a[attribute], i))\n",
    "            else:\n",
    "                c.append(False) # Set default to False \n",
    "        partof_rests[i] = c\n",
    "    return partof_rests\n",
    "rests_parking = get_rests_from_attributes2('BusinessParking')\n",
    "rests_parking.head()"
   ]
  },
  {
   "cell_type": "code",
   "execution_count": 48,
   "metadata": {},
   "outputs": [
    {
     "data": {
      "image/png": "[encoded data removed]",
      "text/plain": [
       "<matplotlib.figure.Figure at 0x1a2e5b2588>"
      ]
     },
     "metadata": {},
     "output_type": "display_data"
    }
   ],
   "source": [
    "star_with_parking = pd.DataFrame()\n",
    "for c in columnsname:\n",
    "    p = rests_parking.groupby([c]).mean().reset_index()\n",
    "    star_with_parking = star_with_parking.append(pd.DataFrame({'kinds':[c, c], 'type':p[c], 'stars':p['stars']}))\n",
    "    \n",
    "sns.barplot(x = 'kinds', y = 'stars', hue = 'type', data = star_with_parking, palette = 'husl')\n",
    "plt.axhline(\n",
    "    y=star_with_parking['stars'].mean(), \n",
    "    color='red',\n",
    "    linestyle='dotted'\n",
    ")\n",
    "plt.ylim([3, 4]);"
   ]
  },
  {
   "cell_type": "markdown",
   "metadata": {},
   "source": [
    "Well, we can see that for all five different parking places possessing them were always better than without them. And among them looks like restaurants with `roadside` parking space usually had higher-star reviews, but restaurants with `valet` or `garage` surprisingly did not have pretty higher-star reviews."
   ]
  },
  {
   "cell_type": "markdown",
   "metadata": {},
   "source": [
    "## Phase 3: Users <a name=\"phase3\"></a>\n",
    "[Return to phase breakdown](#breakdown)"
   ]
  },
  {
   "cell_type": "code",
   "execution_count": 49,
   "metadata": {},
   "outputs": [
    {
     "data": {
      "text/html": [
       "<div>\n",
       "<style scoped>\n",
       "    .dataframe tbody tr th:only-of-type {\n",
       "        vertical-align: middle;\n",
       "    }\n",
       "\n",
       "    .dataframe tbody tr th {\n",
       "        vertical-align: top;\n",
       "    }\n",
       "\n",
       "    .dataframe thead th {\n",
       "        text-align: right;\n",
       "    }\n",
       "</style>\n",
       "<table border=\"1\" class=\"dataframe\">\n",
       "  <thead>\n",
       "    <tr style=\"text-align: right;\">\n",
       "      <th></th>\n",
       "      <th>user_id</th>\n",
       "      <th>name</th>\n",
       "      <th>average_stars</th>\n",
       "      <th>review_count</th>\n",
       "      <th>fans</th>\n",
       "      <th>elite</th>\n",
       "      <th>yelping_since</th>\n",
       "    </tr>\n",
       "  </thead>\n",
       "  <tbody>\n",
       "    <tr>\n",
       "      <th>0</th>\n",
       "      <td>oMy_rEb0UBEmMlu-zcxnoQ</td>\n",
       "      <td>Johnny</td>\n",
       "      <td>4.67</td>\n",
       "      <td>8</td>\n",
       "      <td>0</td>\n",
       "      <td>[]</td>\n",
       "      <td>2014-11-03</td>\n",
       "    </tr>\n",
       "    <tr>\n",
       "      <th>1</th>\n",
       "      <td>JJ-aSuM4pCFPdkfoZ34q0Q</td>\n",
       "      <td>Chris</td>\n",
       "      <td>3.70</td>\n",
       "      <td>10</td>\n",
       "      <td>0</td>\n",
       "      <td>[]</td>\n",
       "      <td>2013-09-24</td>\n",
       "    </tr>\n",
       "    <tr>\n",
       "      <th>2</th>\n",
       "      <td>uUzsFQn_6cXDh6rPNGbIFA</td>\n",
       "      <td>Tiffy</td>\n",
       "      <td>2.00</td>\n",
       "      <td>1</td>\n",
       "      <td>0</td>\n",
       "      <td>[]</td>\n",
       "      <td>2017-03-02</td>\n",
       "    </tr>\n",
       "    <tr>\n",
       "      <th>3</th>\n",
       "      <td>mBneaEEH5EMyxaVyqS-72A</td>\n",
       "      <td>Mark</td>\n",
       "      <td>4.67</td>\n",
       "      <td>6</td>\n",
       "      <td>0</td>\n",
       "      <td>[]</td>\n",
       "      <td>2015-03-13</td>\n",
       "    </tr>\n",
       "    <tr>\n",
       "      <th>4</th>\n",
       "      <td>W5mJGs-dcDWRGEhAzUYtoA</td>\n",
       "      <td>Evelyn</td>\n",
       "      <td>4.67</td>\n",
       "      <td>3</td>\n",
       "      <td>0</td>\n",
       "      <td>[]</td>\n",
       "      <td>2016-09-08</td>\n",
       "    </tr>\n",
       "  </tbody>\n",
       "</table>\n",
       "</div>"
      ],
      "text/plain": [
       "                  user_id    name  average_stars  review_count  fans elite  \\\n",
       "0  oMy_rEb0UBEmMlu-zcxnoQ  Johnny           4.67             8     0    []   \n",
       "1  JJ-aSuM4pCFPdkfoZ34q0Q   Chris           3.70            10     0    []   \n",
       "2  uUzsFQn_6cXDh6rPNGbIFA   Tiffy           2.00             1     0    []   \n",
       "3  mBneaEEH5EMyxaVyqS-72A    Mark           4.67             6     0    []   \n",
       "4  W5mJGs-dcDWRGEhAzUYtoA  Evelyn           4.67             3     0    []   \n",
       "\n",
       "  yelping_since  \n",
       "0    2014-11-03  \n",
       "1    2013-09-24  \n",
       "2    2017-03-02  \n",
       "3    2015-03-13  \n",
       "4    2016-09-08  "
      ]
     },
     "execution_count": 49,
     "metadata": {},
     "output_type": "execute_result"
    }
   ],
   "source": [
    "users = users[['user_id', 'name', 'average_stars', 'review_count','fans', 'elite', 'yelping_since']]\n",
    "users['yelping_since'] = users['yelping_since'].apply(lambda d: datetime.datetime.strptime(d, '%Y-%m-%d'))\n",
    "users.head()"
   ]
  },
  {
   "cell_type": "code",
   "execution_count": 50,
   "metadata": {},
   "outputs": [
    {
     "data": {
      "text/plain": [
       "(50000, 7)"
      ]
     },
     "execution_count": 50,
     "metadata": {},
     "output_type": "execute_result"
    }
   ],
   "source": [
    "# Incluing 50000 users in Yelp.\n",
    "users.shape"
   ]
  },
  {
   "cell_type": "markdown",
   "metadata": {},
   "source": [
    "### 3.1 Extreme Stars (Retrospections)<a name=\"phase3.1\"></a>\n",
    "[Return to phase breakdown](#breakdown)"
   ]
  },
  {
   "cell_type": "markdown",
   "metadata": {},
   "source": [
    "At part [1.1: Review-Stars](#phase1.1) we once talked about for most customers, they only write reviews when they have very positive or negative experiences. Now based on the `Users` dataframe we can dig more deep and see if it is reasonable. "
   ]
  },
  {
   "cell_type": "code",
   "execution_count": 51,
   "metadata": {},
   "outputs": [],
   "source": [
    "users_star = users\n",
    "users_star['average_stars'] = users_star['average_stars'].apply(lambda x : \"{:.1f}\".format(x))"
   ]
  },
  {
   "cell_type": "code",
   "execution_count": 52,
   "metadata": {},
   "outputs": [
    {
     "data": {
      "image/png": "[encoded data removed]",
      "text/plain": [
       "<matplotlib.figure.Figure at 0x1a292e99e8>"
      ]
     },
     "metadata": {},
     "output_type": "display_data"
    }
   ],
   "source": [
    "fig, axs = plt.subplots(nrows=2, figsize=(10, 6))\n",
    "\n",
    "sns.set(style=\"whitegrid\")\n",
    "sns.boxplot(x = 'average_stars', y = 'review_count', data = users_star, ax = axs[0])\n",
    "sns.countplot(x = 'average_stars', data = users_star, ax = axs[1])\n",
    "\n",
    "for patch in axs[1].patches:\n",
    "    x = patch.get_bbox().get_points()[:, 0]\n",
    "    y = patch.get_bbox().get_points()[1, 1]\n",
    "    axs[1].annotate(f'{int(y)}', (x.mean(), y), ha='center', va='bottom', rotation = 60)\n",
    "    \n",
    "axs[0].xaxis.set_visible(False)\n",
    "axs[0].set(yscale = \"log\")\n",
    "axs[1].set_xticklabels(axs[1].xaxis.get_majorticklabels(), rotation=90)\n",
    "axs[0].axhline(y = users_star['review_count'].median(), color='red', linestyle='--')\n",
    "\n",
    "plt.subplots_adjust(hspace=0.1)"
   ]
  },
  {
   "cell_type": "markdown",
   "metadata": {},
   "source": [
    "As we can see, Top2 count of stars were `1.0` and `5.0` (extremely positive or negative experiences), and their review-count were much less than average (write reviews when they are highly motivated or disappointed).\n",
    "\n",
    "Moreover, we can also take a look at those users who have only one review and see the distribution of stars from those special reviews. (In Yelp users can only give integer stars to reviews, we round the stars for those users who only have one review but their average-star is not an integer.)"
   ]
  },
  {
   "cell_type": "markdown",
   "metadata": {},
   "source": [
    "<img style=\"float:left\" src=\"images/Yelp_Review.png\" width=\"500\">"
   ]
  },
  {
   "cell_type": "code",
   "execution_count": 53,
   "metadata": {},
   "outputs": [
    {
     "data": {
      "text/html": [
       "<div>\n",
       "<style scoped>\n",
       "    .dataframe tbody tr th:only-of-type {\n",
       "        vertical-align: middle;\n",
       "    }\n",
       "\n",
       "    .dataframe tbody tr th {\n",
       "        vertical-align: top;\n",
       "    }\n",
       "\n",
       "    .dataframe thead th {\n",
       "        text-align: right;\n",
       "    }\n",
       "</style>\n",
       "<table border=\"1\" class=\"dataframe\">\n",
       "  <thead>\n",
       "    <tr style=\"text-align: right;\">\n",
       "      <th></th>\n",
       "      <th>amount</th>\n",
       "      <th>proportion</th>\n",
       "      <th>percentage_total</th>\n",
       "    </tr>\n",
       "    <tr>\n",
       "      <th>stars</th>\n",
       "      <th></th>\n",
       "      <th></th>\n",
       "      <th></th>\n",
       "    </tr>\n",
       "  </thead>\n",
       "  <tbody>\n",
       "    <tr>\n",
       "      <th>5.0</th>\n",
       "      <td>5922</td>\n",
       "      <td>0.550372</td>\n",
       "      <td>55.04%</td>\n",
       "    </tr>\n",
       "    <tr>\n",
       "      <th>1.0</th>\n",
       "      <td>2993</td>\n",
       "      <td>0.278160</td>\n",
       "      <td>82.85%</td>\n",
       "    </tr>\n",
       "    <tr>\n",
       "      <th>4.0</th>\n",
       "      <td>782</td>\n",
       "      <td>0.072677</td>\n",
       "      <td>90.12%</td>\n",
       "    </tr>\n",
       "    <tr>\n",
       "      <th>2.0</th>\n",
       "      <td>686</td>\n",
       "      <td>0.063755</td>\n",
       "      <td>96.5%</td>\n",
       "    </tr>\n",
       "    <tr>\n",
       "      <th>3.0</th>\n",
       "      <td>377</td>\n",
       "      <td>0.035037</td>\n",
       "      <td>100.0%</td>\n",
       "    </tr>\n",
       "  </tbody>\n",
       "</table>\n",
       "</div>"
      ],
      "text/plain": [
       "       amount  proportion percentage_total\n",
       "stars                                     \n",
       "5.0      5922    0.550372           55.04%\n",
       "1.0      2993    0.278160           82.85%\n",
       "4.0       782    0.072677           90.12%\n",
       "2.0       686    0.063755            96.5%\n",
       "3.0       377    0.035037           100.0%"
      ]
     },
     "execution_count": 53,
     "metadata": {},
     "output_type": "execute_result"
    }
   ],
   "source": [
    "users_star['stars'] = users_star['average_stars'].apply(lambda x : round(float(x), 0))\n",
    "star_from_onlyone_review = users_star[users_star['review_count'] == 1]\n",
    "star_from_onlyone_review = star_from_onlyone_review.groupby(['stars']).count().sort_values('name', ascending = False)\n",
    "star_from_onlyone_review = star_from_onlyone_review[['review_count']].rename(columns = {'review_count':'amount'})\n",
    "\n",
    "total = sum(star_from_onlyone_review['amount'])\n",
    "star_from_onlyone_review['proportion'] = star_from_onlyone_review['amount'] / total\n",
    "\n",
    "temp = list(star_from_onlyone_review['proportion'])\n",
    "star_from_onlyone_review['percentage_total'] = [\"{}%\".format(round(sum(temp[:(i+1)]), 4) * 100) for i in range(len(temp))]\n",
    "star_from_onlyone_review"
   ]
  },
  {
   "cell_type": "markdown",
   "metadata": {},
   "source": [
    "The consequence is expected: nearly `55%` users gave **5-star** reviews and `27.8%` gave **1-star** reviews - takes up about `82.85%` in total. Or put another way, for those who intentionally take the time to create a Yelp user account but only left one review, about `82.85%` in their reviews are highly positive or negative - is it credible?"
   ]
  },
  {
   "cell_type": "markdown",
   "metadata": {},
   "source": [
    "### 3.2  Intentions <a name=\"phase3.2\"></a>\n",
    "[Return to phase breakdown](#breakdown)"
   ]
  },
  {
   "cell_type": "markdown",
   "metadata": {},
   "source": [
    "We will continue to move on and foucs on users who only have `one` review and that review is `highly positive or negative` (5-star or 1-star). First of all, we need to merge three dataframes together."
   ]
  },
  {
   "cell_type": "code",
   "execution_count": 54,
   "metadata": {},
   "outputs": [
    {
     "name": "stdout",
     "output_type": "stream",
     "text": [
      "Number of available users who gave extreme-star reviews: 1324\n"
     ]
    },
    {
     "data": {
      "text/html": [
       "<div>\n",
       "<style scoped>\n",
       "    .dataframe tbody tr th:only-of-type {\n",
       "        vertical-align: middle;\n",
       "    }\n",
       "\n",
       "    .dataframe tbody tr th {\n",
       "        vertical-align: top;\n",
       "    }\n",
       "\n",
       "    .dataframe thead th {\n",
       "        text-align: right;\n",
       "    }\n",
       "</style>\n",
       "<table border=\"1\" class=\"dataframe\">\n",
       "  <thead>\n",
       "    <tr style=\"text-align: right;\">\n",
       "      <th></th>\n",
       "      <th>user_id</th>\n",
       "      <th>stars</th>\n",
       "      <th>yelping_since</th>\n",
       "      <th>review_id</th>\n",
       "      <th>text</th>\n",
       "      <th>business_id</th>\n",
       "      <th>date</th>\n",
       "      <th>is_open</th>\n",
       "      <th>average_star</th>\n",
       "      <th>review_count</th>\n",
       "      <th>categories</th>\n",
       "    </tr>\n",
       "  </thead>\n",
       "  <tbody>\n",
       "    <tr>\n",
       "      <th>0</th>\n",
       "      <td>O1DNr2HNo5yiyfQKZ7HRBg</td>\n",
       "      <td>1.0</td>\n",
       "      <td>2011-04-25</td>\n",
       "      <td>jxIgGZKgwAq3T3xk2WVCMg</td>\n",
       "      <td>ya bro dis shit sux</td>\n",
       "      <td>CObgcxFJuEXZZpm4Mw3z1A</td>\n",
       "      <td>2011-04-25</td>\n",
       "      <td>1</td>\n",
       "      <td>2.5</td>\n",
       "      <td>19</td>\n",
       "      <td>[Burgers, Fast Food, Restaurants]</td>\n",
       "    </tr>\n",
       "    <tr>\n",
       "      <th>1</th>\n",
       "      <td>9kdlTEgDlIjoR1fmTzwI5w</td>\n",
       "      <td>1.0</td>\n",
       "      <td>2015-12-02</td>\n",
       "      <td>dhMLV01LE-LdlBHNIeW0CQ</td>\n",
       "      <td>i came into this establishment with my service...</td>\n",
       "      <td>ZoCCW3R_LEAzktU0rMbX8w</td>\n",
       "      <td>2017-03-23</td>\n",
       "      <td>1</td>\n",
       "      <td>3.0</td>\n",
       "      <td>71</td>\n",
       "      <td>[Mexican, Fast Food, Restaurants]</td>\n",
       "    </tr>\n",
       "    <tr>\n",
       "      <th>2</th>\n",
       "      <td>kfsHOIsLk2aBj1yHYItx6g</td>\n",
       "      <td>5.0</td>\n",
       "      <td>2013-01-15</td>\n",
       "      <td>UF9GQbOsFsqD4LPQL8bAGQ</td>\n",
       "      <td>during our family spring break trip  my husban...</td>\n",
       "      <td>Sy2ytwYX6ihK_7fq4sJwcA</td>\n",
       "      <td>2014-03-31</td>\n",
       "      <td>1</td>\n",
       "      <td>5.0</td>\n",
       "      <td>12</td>\n",
       "      <td>[Child Care &amp; Day Care, Hotels &amp; Travel, Profe...</td>\n",
       "    </tr>\n",
       "    <tr>\n",
       "      <th>3</th>\n",
       "      <td>OZKh_VLIhh_tL5r3Lr-EtA</td>\n",
       "      <td>5.0</td>\n",
       "      <td>2017-03-28</td>\n",
       "      <td>m2UEqS8bhBglvVUThf3Bxg</td>\n",
       "      <td>blake is amazing  just had my first session  h...</td>\n",
       "      <td>ybZJ4q8QU72A2E8sOYDuZA</td>\n",
       "      <td>2017-03-28</td>\n",
       "      <td>1</td>\n",
       "      <td>5.0</td>\n",
       "      <td>55</td>\n",
       "      <td>[Doctors, Health &amp; Medical, Tattoo Removal, Be...</td>\n",
       "    </tr>\n",
       "    <tr>\n",
       "      <th>4</th>\n",
       "      <td>mE1lhDaVawNB-yhV0DfyFQ</td>\n",
       "      <td>5.0</td>\n",
       "      <td>2016-07-23</td>\n",
       "      <td>1yxKIlasUOLcS6lCaW9acA</td>\n",
       "      <td>hailed coffee  toronto  where proper arabic co...</td>\n",
       "      <td>kyJaqGToSG0p9w5GmnLLCQ</td>\n",
       "      <td>2016-07-23</td>\n",
       "      <td>1</td>\n",
       "      <td>4.5</td>\n",
       "      <td>28</td>\n",
       "      <td>[Desserts, Food, Cafes, Coffee &amp; Tea, Restaura...</td>\n",
       "    </tr>\n",
       "  </tbody>\n",
       "</table>\n",
       "</div>"
      ],
      "text/plain": [
       "                  user_id  stars yelping_since               review_id  \\\n",
       "0  O1DNr2HNo5yiyfQKZ7HRBg    1.0    2011-04-25  jxIgGZKgwAq3T3xk2WVCMg   \n",
       "1  9kdlTEgDlIjoR1fmTzwI5w    1.0    2015-12-02  dhMLV01LE-LdlBHNIeW0CQ   \n",
       "2  kfsHOIsLk2aBj1yHYItx6g    5.0    2013-01-15  UF9GQbOsFsqD4LPQL8bAGQ   \n",
       "3  OZKh_VLIhh_tL5r3Lr-EtA    5.0    2017-03-28  m2UEqS8bhBglvVUThf3Bxg   \n",
       "4  mE1lhDaVawNB-yhV0DfyFQ    5.0    2016-07-23  1yxKIlasUOLcS6lCaW9acA   \n",
       "\n",
       "                                                text             business_id  \\\n",
       "0                                ya bro dis shit sux  CObgcxFJuEXZZpm4Mw3z1A   \n",
       "1  i came into this establishment with my service...  ZoCCW3R_LEAzktU0rMbX8w   \n",
       "2  during our family spring break trip  my husban...  Sy2ytwYX6ihK_7fq4sJwcA   \n",
       "3  blake is amazing  just had my first session  h...  ybZJ4q8QU72A2E8sOYDuZA   \n",
       "4  hailed coffee  toronto  where proper arabic co...  kyJaqGToSG0p9w5GmnLLCQ   \n",
       "\n",
       "        date  is_open  average_star  review_count  \\\n",
       "0 2011-04-25        1           2.5            19   \n",
       "1 2017-03-23        1           3.0            71   \n",
       "2 2014-03-31        1           5.0            12   \n",
       "3 2017-03-28        1           5.0            55   \n",
       "4 2016-07-23        1           4.5            28   \n",
       "\n",
       "                                          categories  \n",
       "0                  [Burgers, Fast Food, Restaurants]  \n",
       "1                  [Mexican, Fast Food, Restaurants]  \n",
       "2  [Child Care & Day Care, Hotels & Travel, Profe...  \n",
       "3  [Doctors, Health & Medical, Tattoo Removal, Be...  \n",
       "4  [Desserts, Food, Cafes, Coffee & Tea, Restaura...  "
      ]
     },
     "execution_count": 54,
     "metadata": {},
     "output_type": "execute_result"
    }
   ],
   "source": [
    "partof_users = users[users['review_count'] == 1][['user_id', 'stars', 'yelping_since']]\n",
    "partof_users = partof_users[(partof_users['stars']==5) | (partof_users['stars']==1)]\n",
    "partof_reviews = reviews[['review_id', 'text', 'business_id', 'user_id', 'date']]\n",
    "partof_business = business[['business_id', 'is_open', 'stars', 'review_count', 'categories']]\n",
    "partof_business = partof_business.rename(columns={'stars':'average_star'})\n",
    "\n",
    "temp = partof_users.merge(partof_reviews, left_on='user_id', right_on='user_id')\n",
    "extreme_stars = temp.merge(partof_business, left_on='business_id', right_on='business_id')\n",
    "\n",
    "print(\"Number of available users who gave extreme-star reviews:\", len(extreme_stars))\n",
    "extreme_stars.head()"
   ]
  },
  {
   "cell_type": "markdown",
   "metadata": {},
   "source": [
    "One notable point we can take a look is the `absolute difference` of user review's star and average-star of that business. if the difference is greater than or equal to **3** (For example, a user gives a 1-star review to a restaurant but the average-star of that restaurant is 4, or the average-star of a restaurant is 5 but a customer only gives a 1-star review to it), we can assume that this customer is a little `odd` to some extent. Moreover, among odd users we can call those whose review-star is much higher than restaurant's average-star `oddly satisfied` and on the contrary those whose review-star is much lower than restaurant's average-star `oddly disappointed`."
   ]
  },
  {
   "cell_type": "code",
   "execution_count": 55,
   "metadata": {},
   "outputs": [
    {
     "name": "stdout",
     "output_type": "stream",
     "text": [
      "Number of odd users: 100\n",
      "Number of total users: 1324\n",
      "Number of oddly disappointed users: 97\n",
      "Number of oddly satisfied users: 3\n"
     ]
    }
   ],
   "source": [
    "odd = abs(extreme_stars['stars'] - extreme_stars['average_star']) >= 3\n",
    "extreme_stars['odd'] = odd\n",
    "print('Number of odd users:', sum(odd))\n",
    "print('Number of total users:', len(odd))\n",
    "\n",
    "odd = extreme_stars[extreme_stars['odd'] == True]\n",
    "print('Number of oddly disappointed users:', len(odd[odd['stars'] == 1]))\n",
    "print('Number of oddly satisfied users:', len(odd[odd['stars'] == 5]))"
   ]
  },
  {
   "cell_type": "markdown",
   "metadata": {},
   "source": [
    "Well, looks like it did have some `odd` users exist! And there are `97%` 'odd' people felt that their service did not meet their expectations largely.  \n",
    "\n",
    "Meanwhile, we can also watch the registration date of users and the date they wrote their only reviews. If users are deeply incented, it's highly likely that they will immediately sign up a Yelp account and make a review, or open it after a long time since they have signed up one before. It means that for those who only have one review, we can expect that their registration date and make-review date are about same, or have an interval of a long time (at least a year)."
   ]
  },
  {
   "cell_type": "code",
   "execution_count": 56,
   "metadata": {},
   "outputs": [],
   "source": [
    "extreme_stars['date_diff'] = extreme_stars['date'] - extreme_stars['yelping_since']\n",
    "sameday = datetime.timedelta(0)\n",
    "year = datetime.timedelta(365)\n",
    "def helper(x):\n",
    "    if x == sameday:\n",
    "        return 'Same day'\n",
    "    elif x >= year:\n",
    "        return 'At least a year'\n",
    "    else:\n",
    "        return 'A year'\n",
    "\n",
    "extreme_stars['interval'] = extreme_stars['date_diff'].apply(helper)"
   ]
  },
  {
   "cell_type": "code",
   "execution_count": 57,
   "metadata": {},
   "outputs": [
    {
     "data": {
      "image/png": "[encoded data removed]",
      "text/plain": [
       "<matplotlib.figure.Figure at 0x1a2e4cacc0>"
      ]
     },
     "metadata": {},
     "output_type": "display_data"
    }
   ],
   "source": [
    "sns.set()\n",
    "sns.set_palette(sns.color_palette(\"coolwarm\", 7))\n",
    "ax = sns.countplot(x = 'interval', hue = 'stars', data = extreme_stars)\n",
    "for patch in ax.patches:\n",
    "    x = patch.get_bbox().get_points()[:, 0]\n",
    "    y = patch.get_bbox().get_points()[1, 1]\n",
    "    p = y / len(extreme_stars) * 100\n",
    "    ax.annotate('{:.1f}%'.format(p), (x.mean(), y), ha='center', va='bottom')"
   ]
  },
  {
   "cell_type": "markdown",
   "metadata": {},
   "source": [
    "- About half of users (18.4% + 30.7% = `49.1%`) immediately signed up an account and made a review.\n",
    "- About a quarter of users (8.2% + 16% = `24.2%`) made a review at least a year after they had registerted an account.\n",
    "- Left users (6.9% + 19.7% = `26.6%`) made a review within a year.\n",
    "\n",
    "We know that at here all the users have only one review and the star of that review is either 1-star or 5-star. Based on the plot we can know that about two thirds of users (30.7% + 16% + 19.7% = `66.4%`) were so satisfied that choosed to make a 5-star review, and no matter when they made that particular review, number of people made a review due to satisfaction is always greater than opposite one.\n",
    "\n",
    "But when we only foucs on those odd users (absolute difference of review's star and average-star of business is greater than or equal to 3), we counted at before actually only `3%` of them offered a 5-star review, which means that `97%` users gave a extreme low-star review when actually the average-star of that business is pretty high. What does it mean? Why is the difference so large? \n",
    "\n",
    "When people realize that there is a big gap between their expectations and reality (absolute difference), most people tend to give a highly negative review. This is a big problem for Yelp, because for those whose expectations are much lower than reality but turns out that are pretty satisfied with the service, they **do not** leave a highly positive review on Yelp. Put another way, happy customers are just not nearly as motivated as pissed off people even though every business likely has more happy customers than unhappy ones. We all know that reviews on Yelp can affect the business owner's sales a lot, so the real challenge is the business owners need to find a way to at least equally record reviews by people in different emotions.\n",
    "\n"
   ]
  },
  {
   "cell_type": "markdown",
   "metadata": {},
   "source": [
    "### 3.3  Most Active <a name=\"phase3.3\"></a>\n",
    "[Return to phase breakdown](#breakdown)"
   ]
  },
  {
   "cell_type": "markdown",
   "metadata": {},
   "source": [
    "It turns out that we can merge three dataframes and take a look who has the most number of records and who is the most active user on Yelp based on our data."
   ]
  },
  {
   "cell_type": "code",
   "execution_count": 58,
   "metadata": {},
   "outputs": [
    {
     "data": {
      "text/plain": [
       "YwaKGmRNnSa3R3N4Hf9jLw    150\n",
       "Name: user_id, dtype: int64"
      ]
     },
     "execution_count": 58,
     "metadata": {},
     "output_type": "execute_result"
    }
   ],
   "source": [
    "temp = users.merge(reviews, left_on='user_id', right_on='user_id')\n",
    "all_info = temp.merge(business, left_on='business_id', right_on='business_id')\n",
    "all_info['user_id'].value_counts().head(1)"
   ]
  },
  {
   "cell_type": "code",
   "execution_count": 59,
   "metadata": {},
   "outputs": [
    {
     "data": {
      "text/html": [
       "<div>\n",
       "<style scoped>\n",
       "    .dataframe tbody tr th:only-of-type {\n",
       "        vertical-align: middle;\n",
       "    }\n",
       "\n",
       "    .dataframe tbody tr th {\n",
       "        vertical-align: top;\n",
       "    }\n",
       "\n",
       "    .dataframe thead th {\n",
       "        text-align: right;\n",
       "    }\n",
       "</style>\n",
       "<table border=\"1\" class=\"dataframe\">\n",
       "  <thead>\n",
       "    <tr style=\"text-align: right;\">\n",
       "      <th></th>\n",
       "      <th>user_id</th>\n",
       "      <th>name</th>\n",
       "      <th>average_stars</th>\n",
       "      <th>review_count</th>\n",
       "      <th>fans</th>\n",
       "      <th>elite</th>\n",
       "      <th>yelping_since</th>\n",
       "      <th>stars</th>\n",
       "    </tr>\n",
       "  </thead>\n",
       "  <tbody>\n",
       "    <tr>\n",
       "      <th>7698</th>\n",
       "      <td>YwaKGmRNnSa3R3N4Hf9jLw</td>\n",
       "      <td>Paolo</td>\n",
       "      <td>4.0</td>\n",
       "      <td>976</td>\n",
       "      <td>76</td>\n",
       "      <td>[2012, 2010, 2015, 2014, 2011, 2013, 2017, 2016]</td>\n",
       "      <td>2008-10-15</td>\n",
       "      <td>4.0</td>\n",
       "    </tr>\n",
       "  </tbody>\n",
       "</table>\n",
       "</div>"
      ],
      "text/plain": [
       "                     user_id   name average_stars  review_count  fans  \\\n",
       "7698  YwaKGmRNnSa3R3N4Hf9jLw  Paolo           4.0           976    76   \n",
       "\n",
       "                                                 elite yelping_since  stars  \n",
       "7698  [2012, 2010, 2015, 2014, 2011, 2013, 2017, 2016]    2008-10-15    4.0  "
      ]
     },
     "execution_count": 59,
     "metadata": {},
     "output_type": "execute_result"
    }
   ],
   "source": [
    "users[users['user_id'] == 'YwaKGmRNnSa3R3N4Hf9jLw']"
   ]
  },
  {
   "cell_type": "markdown",
   "metadata": {},
   "source": [
    "It turns out that in our data a user called `Paolo` with 150 Yelp reviews is the most active. He has 976 reviews in total but our data only contains part of them, he has 76 fans, using Yelp since 2008-10-15 (pretty early), being an elite since 2010, and most important, his average-star is 4.\n",
    "\n",
    "If we continue to find his reviews in reviews dataframe, we can see that actually there are 518 reviews in record. During `2010-2011` which apparently his most active period, he made 322 reviews in total, nearly once every two days! It is noteworthy that he became a [Yelp elite](https://www.yelp.com/elite) since 2010, according to Yelp there isn't really a specific benchmark a reviewer has to meet to be considered an elite, and each elite has to be reapproved by the Yelp Council each year, but at least we can make sure that an elite has to be very proactive in Yelp, and really candid."
   ]
  },
  {
   "cell_type": "code",
   "execution_count": 60,
   "metadata": {},
   "outputs": [
    {
     "data": {
      "image/png": "[encoded data removed]",
      "text/plain": [
       "<matplotlib.figure.Figure at 0x1a2e156160>"
      ]
     },
     "metadata": {},
     "output_type": "display_data"
    }
   ],
   "source": [
    "mostactuser_reviews = reviews[reviews['user_id'] == 'YwaKGmRNnSa3R3N4Hf9jLw']\n",
    "ax = sns.countplot('year', data = mostactuser_reviews)\n",
    "for patch in ax.patches:\n",
    "    x = patch.get_bbox().get_points()[:, 0]\n",
    "    y = patch.get_bbox().get_points()[1, 1]\n",
    "    ax.annotate(f'{int(y)}', (x.mean(), y), ha='center', va='bottom')"
   ]
  },
  {
   "cell_type": "code",
   "execution_count": 61,
   "metadata": {},
   "outputs": [],
   "source": [
    "mostactive = mostactuser_reviews.merge(business, left_on='business_id', right_on='business_id')\n",
    "mostactive_in_lasvegas = mostactive[mostactive['city'] == 'Las Vegas']\n",
    "la = mostactive_in_lasvegas['latitude']\n",
    "lg = mostactive_in_lasvegas['longitude']\n",
    "po = list(zip(la, lg))"
   ]
  },
  {
   "cell_type": "code",
   "execution_count": 62,
   "metadata": {},
   "outputs": [],
   "source": [
    "info = []\n",
    "for i in range(len(mostactive_in_lasvegas)):\n",
    "    name = mostactive_in_lasvegas.iloc[i, :]['name']\n",
    "    star1 = mostactive_in_lasvegas.iloc[i, :]['stars_x']\n",
    "    star2 = mostactive_in_lasvegas.iloc[i, :]['stars_y']\n",
    "    ca = mostactive_in_lasvegas.iloc[i, :]['categories']\n",
    "    i = name + ', Review-star: ' + str(star1) + ', Average-star: ' + str(star2) + ', Categories: ' + str(ca)\n",
    "    info.append(i)"
   ]
  },
  {
   "cell_type": "markdown",
   "metadata": {},
   "source": [
    "Let's plot his activities in gmaps for each review. If we click on the dot it will display the name of business, `Paolo's` review-star, average-star of business and its categories. In [2.1: K-means](#phase2.1) we once talked about several centroids in `Las Vegas`, we can see that actually `Paolo's` active area more or less matches it."
   ]
  },
  {
   "cell_type": "code",
   "execution_count": 98,
   "metadata": {},
   "outputs": [],
   "source": [
    "centroids_layer = gmaps.symbol_layer(po, fill_color=\"blue\", stroke_color=\"blue\", scale=3, info_box_content=info)\n",
    "fig = gmaps.figure()\n",
    "fig.add_layer(centroids_layer)\n",
    "# fig  # Please unremark this line when running the cell."
   ]
  },
  {
   "cell_type": "markdown",
   "metadata": {},
   "source": [
    "<img src=\"images/map3.png\">"
   ]
  },
  {
   "cell_type": "markdown",
   "metadata": {},
   "source": [
    "### 3.4 History & Recommendation <a name=\"phase3.4\"></a>\n",
    "[Return to phase breakdown](#breakdown)"
   ]
  },
  {
   "cell_type": "markdown",
   "metadata": {},
   "source": [
    "Since we know infomation of users, reviews and business, we can build a function to search users' past reviews and analyse their interests. Firstly, we need to find out who has most reviews in record."
   ]
  },
  {
   "cell_type": "code",
   "execution_count": 64,
   "metadata": {},
   "outputs": [
    {
     "data": {
      "text/plain": [
       "YwaKGmRNnSa3R3N4Hf9jLw    150\n",
       "YIMeEHUYm69m-Mqf-NjPHw    113\n",
       "zwhty_ZmxbHAHoDfMjNbag     91\n",
       "1ghFOCMBpo2bGaWu_c1tcg     90\n",
       "JXHrhT72U6sZJQSkFfNzjw     89\n",
       "Name: user_id, dtype: int64"
      ]
     },
     "execution_count": 64,
     "metadata": {},
     "output_type": "execute_result"
    }
   ],
   "source": [
    "all_info['user_id'].value_counts().head()"
   ]
  },
  {
   "cell_type": "code",
   "execution_count": 65,
   "metadata": {},
   "outputs": [],
   "source": [
    "def history(userid):\n",
    "    his = all_info[all_info['user_id'] == userid]\n",
    "    if his.empty:\n",
    "        print('There is no available data from user:', userid)\n",
    "    else:\n",
    "        df_user = users[users['user_id'] == userid]\n",
    "        df = his[['review_id', 'date', 'stars_y', 'text', 'business_id', 'name_y', 'is_open', 'stars', 'city']]\n",
    "        df.rename(columns = {'stars_y':'review_star', 'stars':'business_star', 'name_y':'business_name'}, inplace = True)\n",
    "        \n",
    "        d = {}\n",
    "        for cs in his['categories']:\n",
    "            for c in cs:\n",
    "                if c not in d.keys():\n",
    "                    d[c] = 1\n",
    "                else:\n",
    "                    d[c] += 1\n",
    "        df_cg = pd.DataFrame({'times':list(d.values())}, index=d.keys())\n",
    "        df_cg = df_cg.sort_values('times', ascending = False).head(10)\n",
    "        return df_user, df, df_cg"
   ]
  },
  {
   "cell_type": "markdown",
   "metadata": {},
   "source": [
    "Let's choose a user whose user-id is `zwhty_ZmxbHAHoDfMjNbag` (third place in value counts)."
   ]
  },
  {
   "cell_type": "code",
   "execution_count": 82,
   "metadata": {},
   "outputs": [
    {
     "data": {
      "text/html": [
       "<div>\n",
       "<style scoped>\n",
       "    .dataframe tbody tr th:only-of-type {\n",
       "        vertical-align: middle;\n",
       "    }\n",
       "\n",
       "    .dataframe tbody tr th {\n",
       "        vertical-align: top;\n",
       "    }\n",
       "\n",
       "    .dataframe thead th {\n",
       "        text-align: right;\n",
       "    }\n",
       "</style>\n",
       "<table border=\"1\" class=\"dataframe\">\n",
       "  <thead>\n",
       "    <tr style=\"text-align: right;\">\n",
       "      <th></th>\n",
       "      <th>user_id</th>\n",
       "      <th>name</th>\n",
       "      <th>average_stars</th>\n",
       "      <th>review_count</th>\n",
       "      <th>fans</th>\n",
       "      <th>elite</th>\n",
       "      <th>yelping_since</th>\n",
       "      <th>stars</th>\n",
       "    </tr>\n",
       "  </thead>\n",
       "  <tbody>\n",
       "    <tr>\n",
       "      <th>12178</th>\n",
       "      <td>zwhty_ZmxbHAHoDfMjNbag</td>\n",
       "      <td>Karen</td>\n",
       "      <td>4.0</td>\n",
       "      <td>503</td>\n",
       "      <td>22</td>\n",
       "      <td>[2013, 2017, 2011, 2014, 2016, 2015, 2012]</td>\n",
       "      <td>2007-08-04</td>\n",
       "      <td>4.0</td>\n",
       "    </tr>\n",
       "  </tbody>\n",
       "</table>\n",
       "</div>"
      ],
      "text/plain": [
       "                      user_id   name average_stars  review_count  fans  \\\n",
       "12178  zwhty_ZmxbHAHoDfMjNbag  Karen           4.0           503    22   \n",
       "\n",
       "                                            elite yelping_since  stars  \n",
       "12178  [2013, 2017, 2011, 2014, 2016, 2015, 2012]    2007-08-04    4.0  "
      ]
     },
     "execution_count": 82,
     "metadata": {},
     "output_type": "execute_result"
    }
   ],
   "source": [
    "user_info, user_history, user_cg = history('zwhty_ZmxbHAHoDfMjNbag')\n",
    "user_info.head()"
   ]
  },
  {
   "cell_type": "code",
   "execution_count": 83,
   "metadata": {},
   "outputs": [
    {
     "data": {
      "text/html": [
       "<div>\n",
       "<style scoped>\n",
       "    .dataframe tbody tr th:only-of-type {\n",
       "        vertical-align: middle;\n",
       "    }\n",
       "\n",
       "    .dataframe tbody tr th {\n",
       "        vertical-align: top;\n",
       "    }\n",
       "\n",
       "    .dataframe thead th {\n",
       "        text-align: right;\n",
       "    }\n",
       "</style>\n",
       "<table border=\"1\" class=\"dataframe\">\n",
       "  <thead>\n",
       "    <tr style=\"text-align: right;\">\n",
       "      <th></th>\n",
       "      <th>review_id</th>\n",
       "      <th>date</th>\n",
       "      <th>review_star</th>\n",
       "      <th>text</th>\n",
       "      <th>business_id</th>\n",
       "      <th>business_name</th>\n",
       "      <th>is_open</th>\n",
       "      <th>business_star</th>\n",
       "      <th>city</th>\n",
       "    </tr>\n",
       "  </thead>\n",
       "  <tbody>\n",
       "    <tr>\n",
       "      <th>495</th>\n",
       "      <td>Czhw8QZRUr9HWPwk4wO7bw</td>\n",
       "      <td>2011-07-11</td>\n",
       "      <td>5</td>\n",
       "      <td>came here again the day after i visited island...</td>\n",
       "      <td>uW6UHfONAmm8QttPkbMewQ</td>\n",
       "      <td>Island Flavor</td>\n",
       "      <td>1</td>\n",
       "      <td>4.5</td>\n",
       "      <td>Las Vegas</td>\n",
       "    </tr>\n",
       "    <tr>\n",
       "      <th>518</th>\n",
       "      <td>2JJhzvWOCxzcPhS01CA2Fw</td>\n",
       "      <td>2011-08-28</td>\n",
       "      <td>3</td>\n",
       "      <td>not my normal wf  but i was in the neighbourho...</td>\n",
       "      <td>Ax2JxfCUjfBkRxcqfA4QLw</td>\n",
       "      <td>Whole Foods Market</td>\n",
       "      <td>1</td>\n",
       "      <td>3.5</td>\n",
       "      <td>Las Vegas</td>\n",
       "    </tr>\n",
       "    <tr>\n",
       "      <th>707</th>\n",
       "      <td>2FDo0qIoxe5fNgGb__c67Q</td>\n",
       "      <td>2014-11-29</td>\n",
       "      <td>4</td>\n",
       "      <td>tiny hole in the wall joint in a strip mall fe...</td>\n",
       "      <td>UPIYuRaZvknINOd1w8kqRQ</td>\n",
       "      <td>Monta Ramen</td>\n",
       "      <td>1</td>\n",
       "      <td>4.0</td>\n",
       "      <td>Las Vegas</td>\n",
       "    </tr>\n",
       "    <tr>\n",
       "      <th>1108</th>\n",
       "      <td>hHbHv9OI7M2-QXJRDYD5IQ</td>\n",
       "      <td>2012-02-14</td>\n",
       "      <td>5</td>\n",
       "      <td>i ve visited firefly on a few occasions and am...</td>\n",
       "      <td>5shgJB7a-2_gdnzc0gsOtg</td>\n",
       "      <td>Firefly</td>\n",
       "      <td>0</td>\n",
       "      <td>4.5</td>\n",
       "      <td>Las Vegas</td>\n",
       "    </tr>\n",
       "    <tr>\n",
       "      <th>1251</th>\n",
       "      <td>GqqOEVKnQpywJl-q1Gw_yQ</td>\n",
       "      <td>2016-12-31</td>\n",
       "      <td>4</td>\n",
       "      <td>i have to admit that the overall 3 star rating...</td>\n",
       "      <td>aVkVDJ01OgvNwhlCUz_bng</td>\n",
       "      <td>Gordon Biersch Brewery Restaurant</td>\n",
       "      <td>1</td>\n",
       "      <td>3.0</td>\n",
       "      <td>Tempe</td>\n",
       "    </tr>\n",
       "  </tbody>\n",
       "</table>\n",
       "</div>"
      ],
      "text/plain": [
       "                   review_id       date  review_star  \\\n",
       "495   Czhw8QZRUr9HWPwk4wO7bw 2011-07-11            5   \n",
       "518   2JJhzvWOCxzcPhS01CA2Fw 2011-08-28            3   \n",
       "707   2FDo0qIoxe5fNgGb__c67Q 2014-11-29            4   \n",
       "1108  hHbHv9OI7M2-QXJRDYD5IQ 2012-02-14            5   \n",
       "1251  GqqOEVKnQpywJl-q1Gw_yQ 2016-12-31            4   \n",
       "\n",
       "                                                   text  \\\n",
       "495   came here again the day after i visited island...   \n",
       "518   not my normal wf  but i was in the neighbourho...   \n",
       "707   tiny hole in the wall joint in a strip mall fe...   \n",
       "1108  i ve visited firefly on a few occasions and am...   \n",
       "1251  i have to admit that the overall 3 star rating...   \n",
       "\n",
       "                 business_id                      business_name  is_open  \\\n",
       "495   uW6UHfONAmm8QttPkbMewQ                      Island Flavor        1   \n",
       "518   Ax2JxfCUjfBkRxcqfA4QLw                 Whole Foods Market        1   \n",
       "707   UPIYuRaZvknINOd1w8kqRQ                        Monta Ramen        1   \n",
       "1108  5shgJB7a-2_gdnzc0gsOtg                            Firefly        0   \n",
       "1251  aVkVDJ01OgvNwhlCUz_bng  Gordon Biersch Brewery Restaurant        1   \n",
       "\n",
       "      business_star       city  \n",
       "495             4.5  Las Vegas  \n",
       "518             3.5  Las Vegas  \n",
       "707             4.0  Las Vegas  \n",
       "1108            4.5  Las Vegas  \n",
       "1251            3.0      Tempe  "
      ]
     },
     "execution_count": 83,
     "metadata": {},
     "output_type": "execute_result"
    }
   ],
   "source": [
    "user_history.head()"
   ]
  },
  {
   "cell_type": "code",
   "execution_count": 84,
   "metadata": {},
   "outputs": [
    {
     "data": {
      "text/html": [
       "<div>\n",
       "<style scoped>\n",
       "    .dataframe tbody tr th:only-of-type {\n",
       "        vertical-align: middle;\n",
       "    }\n",
       "\n",
       "    .dataframe tbody tr th {\n",
       "        vertical-align: top;\n",
       "    }\n",
       "\n",
       "    .dataframe thead th {\n",
       "        text-align: right;\n",
       "    }\n",
       "</style>\n",
       "<table border=\"1\" class=\"dataframe\">\n",
       "  <thead>\n",
       "    <tr style=\"text-align: right;\">\n",
       "      <th></th>\n",
       "      <th>times</th>\n",
       "    </tr>\n",
       "  </thead>\n",
       "  <tbody>\n",
       "    <tr>\n",
       "      <th>Restaurants</th>\n",
       "      <td>52</td>\n",
       "    </tr>\n",
       "    <tr>\n",
       "      <th>Food</th>\n",
       "      <td>28</td>\n",
       "    </tr>\n",
       "    <tr>\n",
       "      <th>Shopping</th>\n",
       "      <td>14</td>\n",
       "    </tr>\n",
       "    <tr>\n",
       "      <th>Bars</th>\n",
       "      <td>10</td>\n",
       "    </tr>\n",
       "    <tr>\n",
       "      <th>Nightlife</th>\n",
       "      <td>10</td>\n",
       "    </tr>\n",
       "    <tr>\n",
       "      <th>Bakeries</th>\n",
       "      <td>9</td>\n",
       "    </tr>\n",
       "    <tr>\n",
       "      <th>American (New)</th>\n",
       "      <td>8</td>\n",
       "    </tr>\n",
       "    <tr>\n",
       "      <th>Fashion</th>\n",
       "      <td>8</td>\n",
       "    </tr>\n",
       "    <tr>\n",
       "      <th>Breakfast &amp; Brunch</th>\n",
       "      <td>8</td>\n",
       "    </tr>\n",
       "    <tr>\n",
       "      <th>Pizza</th>\n",
       "      <td>8</td>\n",
       "    </tr>\n",
       "  </tbody>\n",
       "</table>\n",
       "</div>"
      ],
      "text/plain": [
       "                    times\n",
       "Restaurants            52\n",
       "Food                   28\n",
       "Shopping               14\n",
       "Bars                   10\n",
       "Nightlife              10\n",
       "Bakeries                9\n",
       "American (New)          8\n",
       "Fashion                 8\n",
       "Breakfast & Brunch      8\n",
       "Pizza                   8"
      ]
     },
     "execution_count": 84,
     "metadata": {},
     "output_type": "execute_result"
    }
   ],
   "source": [
    "user_cg"
   ]
  },
  {
   "cell_type": "markdown",
   "metadata": {},
   "source": [
    "Well, looks like this is a women called `Karen`, she has 503 reviews in total with 4 average-star. She has been an Yelp elite since 2011, and she has joined Yelp more than 10 years. By sorting her reviews categories by times, we can see that exclude restaurants and food those normal categories, she went to a lot shopping store (Shopping and Fashion), and also she looks like interested in bakeries."
   ]
  },
  {
   "cell_type": "markdown",
   "metadata": {},
   "source": [
    "We can also build a recommendation function based on the users' demands to offer best business with highest-star and most reviews for them. By default, it will recommend **Top5** business in **Las Vegas**."
   ]
  },
  {
   "cell_type": "code",
   "execution_count": 72,
   "metadata": {},
   "outputs": [],
   "source": [
    "def recommendations(info, categories, city = 'Las Vegas', top = 5):\n",
    "    all_info = info.loc[info['city'] == city]\n",
    "    all_info = all_info[(all_info['review_count'] >= 50) & (all_info['is_open'] == 1)] # At least has 50 reviews.\n",
    "    for i in range(len(categories)):\n",
    "        c = categories[i]\n",
    "        all_info[c] = all_info['categories'].apply(lambda cs : c in cs)\n",
    "        all_info = all_info.loc[all_info[c] == True]\n",
    "        all_info.drop(c, axis = 1, inplace = True)\n",
    "    df = all_info.sort_values(['stars', 'review_count'], ascending = False).head(top)\n",
    "    \n",
    "    po = list(zip(df['latitude'], df['longitude']))\n",
    "    info = []\n",
    "    for i in range(len(df)):\n",
    "        name = df.iloc[i, :]['name']\n",
    "        star = df.iloc[i, :]['stars']\n",
    "        ca = df.iloc[i, :]['categories']\n",
    "        i = name + ', Average-star: ' + str(star) + ', Categories: ' + str(ca)\n",
    "        info.append(i)\n",
    "        \n",
    "    return po, info"
   ]
  },
  {
   "cell_type": "code",
   "execution_count": 77,
   "metadata": {},
   "outputs": [],
   "source": [
    "locations, info = recommendations(business, ['Pizza'])\n",
    "markers = gmaps.marker_layer(locations, info_box_content=info)\n",
    "fig = gmaps.figure()\n",
    "fig.add_layer(markers)\n",
    "# fig   # Please unremark this line when running the cell."
   ]
  },
  {
   "cell_type": "markdown",
   "metadata": {},
   "source": [
    "<img src=\"images/map4.png\">"
   ]
  },
  {
   "cell_type": "markdown",
   "metadata": {},
   "source": [
    "Plot above are Top5 (highest-star and most reviews) `Pizza` restaurants in `Las Vegas`. When we click the marker it can show the name, average-star and its categories. We can also plot top business with various categories in different city, such as:"
   ]
  },
  {
   "cell_type": "code",
   "execution_count": 79,
   "metadata": {},
   "outputs": [],
   "source": [
    "# Top5 Cafes with coffee and tea in Phoenix.\n",
    "locations, info = recommendations(business, ['Cafes', 'Coffee & Tea'], 'Phoenix')\n",
    "fig = gmaps.figure()\n",
    "fig.add_layer(gmaps.marker_layer(locations, info_box_content=info))\n",
    "# fig   # Please unremark this line when running the cell."
   ]
  },
  {
   "cell_type": "markdown",
   "metadata": {},
   "source": [
    "<img src=\"images/map5.png\">"
   ]
  },
  {
   "cell_type": "code",
   "execution_count": 81,
   "metadata": {},
   "outputs": [],
   "source": [
    "# Top8 Hotels & Travel in Toronto.\n",
    "locations, info = recommendations(business, ['Hotels & Travel'], 'Toronto', 8)\n",
    "fig = gmaps.figure()\n",
    "fig.add_layer(gmaps.marker_layer(locations, info_box_content=info))\n",
    "# fig   # Please unremark this line when running the cell."
   ]
  },
  {
   "cell_type": "markdown",
   "metadata": {},
   "source": [
    "<img src=\"images/map6.png\">"
   ]
  },
  {
   "cell_type": "markdown",
   "metadata": {},
   "source": [
    "Right now we already have the function to search a user's history and a function to recommend business based on interests, we can combine them together to offer a better suggestion.\n",
    "\n",
    "We will based on city user always went to, top5 categories (exclude `Restaurants` and `Food` ) he most visited to offer top3 business he may have interests (because most of business may cover more than one category, so probably some recommendations will overlap others)."
   ]
  },
  {
   "cell_type": "code",
   "execution_count": 152,
   "metadata": {},
   "outputs": [],
   "source": [
    "def may_interested(userid):\n",
    "    uinfo, uhis, ucg = history(userid)\n",
    "    city = uhis['city'].value_counts().index[0]\n",
    "    colors = ['red', 'green', 'blue', 'yellow', 'black']\n",
    "    cgs = []\n",
    "    for c in user_cg.index[:7]:\n",
    "        if ((c != 'Restaurants') and (c != 'Food')): \n",
    "            cgs.append(c)\n",
    "    fig = gmaps.figure()\n",
    "    for i in range(5):\n",
    "        cg = cgs[i]\n",
    "        color = colors[i]\n",
    "        po, info = recommendations(business, [cg], city, 3) # Top3 \n",
    "        fig.add_layer(gmaps.symbol_layer(po, stroke_color=color, scale=3, info_box_content=info))\n",
    "    return fig "
   ]
  },
  {
   "cell_type": "code",
   "execution_count": 156,
   "metadata": {},
   "outputs": [],
   "source": [
    "# may_interested('zwhty_ZmxbHAHoDfMjNbag')   # Please unremark this line when running the cell."
   ]
  },
  {
   "cell_type": "markdown",
   "metadata": {},
   "source": [
    "<img src=\"images/map7.png\">"
   ]
  },
  {
   "cell_type": "markdown",
   "metadata": {},
   "source": [
    "We still choose the user with user-id `zwhty_ZmxbHAHoDfMjNbag`. Since most of her reviews were in Las Vegas, so we automatically offer some business she probably is interested in Las Vegas. We can see that in the plot, different colors represent different recommended business categories she always went to"
   ]
  }
 ],
 "metadata": {
  "kernelspec": {
   "display_name": "Python 3",
   "language": "python",
   "name": "python3"
  },
  "language_info": {
   "codemirror_mode": {
    "name": "ipython",
    "version": 3
   },
   "file_extension": ".py",
   "mimetype": "text/x-python",
   "name": "python",
   "nbconvert_exporter": "python",
   "pygments_lexer": "ipython3",
   "version": "3.6.4"
  }
 },
 "nbformat": 4,
 "nbformat_minor": 2
}
