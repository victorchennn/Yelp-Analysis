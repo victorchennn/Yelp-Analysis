{
 "cells": [
  {
   "cell_type": "markdown",
   "metadata": {},
   "source": [
    "# Yelp Dataset Analysis"
   ]
  },
  {
   "cell_type": "markdown",
   "metadata": {},
   "source": [
    "## Phase breakdown  <a name=\"breakdown\"></a>\n",
    "\n",
    "Phases | Sections\n",
    "--- | ---\n",
    "[Phase1: Reviews](#phase1) | [1.1: Stars](#phase1.1)\n",
    "| [1.2: Assessment](#phase1.2)\n",
    "| [1.3: Sentimenet Analysis](#phase1.3)\n",
    "| [1.4: Keywords](#phase1.4)\n",
    "[Phase2: Business](#phase2) |[2.1: K-means](#phase2.1)\n",
    "| [2.2: Category](#phase2.2)"
   ]
  },
  {
   "cell_type": "code",
   "execution_count": 1,
   "metadata": {},
   "outputs": [],
   "source": [
    "# Set up\n",
    "import json\n",
    "import pandas as pd\n",
    "import datetime\n",
    "import numpy as np\n",
    "import re\n",
    "import matplotlib.pyplot as plt\n",
    "import matplotlib.image as mpimg\n",
    "\n",
    "# This style emulates the look and feel of the famous data journalist Nate Silver's site.\n",
    "%matplotlib inline\n",
    "plt.style.use('fivethirtyeight')\n",
    "\n",
    "import seaborn as sns\n",
    "sns.set()\n",
    "sns.set_context(\"talk\")\n",
    "\n",
    "import gmaps\n",
    "import gmaps.datasets\n",
    "gmaps.configure(api_key=\"AI...\")  # Use your google API key\n",
    "\n",
    "import utils\n",
    "import kmeans"
   ]
  },
  {
   "cell_type": "code",
   "execution_count": 2,
   "metadata": {},
   "outputs": [],
   "source": [
    "# Get dataset\n",
    "utils.help_directory('dataset.zip')"
   ]
  },
  {
   "cell_type": "code",
   "execution_count": 3,
   "metadata": {},
   "outputs": [],
   "source": [
    "# Load json files\n",
    "reviews = pd.DataFrame.from_records(utils.load_file('dataset/review.json'))\n",
    "users =  pd.DataFrame.from_records(utils.load_file('dataset/users.json'))\n",
    "business =  pd.DataFrame.from_records(utils.load_file('dataset/business.json'))\n",
    "photos =  pd.DataFrame.from_records(utils.load_file('dataset/photos.json'))"
   ]
  },
  {
   "cell_type": "markdown",
   "metadata": {},
   "source": [
    "## Phase 1:  Reviews <a name=\"phase1\"></a> \n",
    "[Return to phase breakdown](#breakdown)"
   ]
  },
  {
   "cell_type": "code",
   "execution_count": 4,
   "metadata": {
    "scrolled": true
   },
   "outputs": [
    {
     "data": {
      "text/html": [
       "<div>\n",
       "<style scoped>\n",
       "    .dataframe tbody tr th:only-of-type {\n",
       "        vertical-align: middle;\n",
       "    }\n",
       "\n",
       "    .dataframe tbody tr th {\n",
       "        vertical-align: top;\n",
       "    }\n",
       "\n",
       "    .dataframe thead th {\n",
       "        text-align: right;\n",
       "    }\n",
       "</style>\n",
       "<table border=\"1\" class=\"dataframe\">\n",
       "  <thead>\n",
       "    <tr style=\"text-align: right;\">\n",
       "      <th></th>\n",
       "      <th>review_id</th>\n",
       "      <th>date</th>\n",
       "      <th>stars</th>\n",
       "      <th>text</th>\n",
       "      <th>cool</th>\n",
       "      <th>funny</th>\n",
       "      <th>useful</th>\n",
       "      <th>business_id</th>\n",
       "      <th>user_id</th>\n",
       "    </tr>\n",
       "  </thead>\n",
       "  <tbody>\n",
       "    <tr>\n",
       "      <th>0</th>\n",
       "      <td>v0i_UHJMo_hPBq9bxWvW4w</td>\n",
       "      <td>2016-05-28</td>\n",
       "      <td>5</td>\n",
       "      <td>Love the staff, love the meat, love the place....</td>\n",
       "      <td>0</td>\n",
       "      <td>0</td>\n",
       "      <td>0</td>\n",
       "      <td>0W4lkclzZThpx3V65bVgig</td>\n",
       "      <td>bv2nCi5Qv5vroFiqKGopiw</td>\n",
       "    </tr>\n",
       "    <tr>\n",
       "      <th>1</th>\n",
       "      <td>vkVSCC7xljjrAI4UGfnKEQ</td>\n",
       "      <td>2016-05-28</td>\n",
       "      <td>5</td>\n",
       "      <td>Super simple place but amazing nonetheless. It...</td>\n",
       "      <td>0</td>\n",
       "      <td>0</td>\n",
       "      <td>0</td>\n",
       "      <td>AEx2SYEUJmTxVVB18LlCwA</td>\n",
       "      <td>bv2nCi5Qv5vroFiqKGopiw</td>\n",
       "    </tr>\n",
       "    <tr>\n",
       "      <th>2</th>\n",
       "      <td>n6QzIUObkYshz4dz2QRJTw</td>\n",
       "      <td>2016-05-28</td>\n",
       "      <td>5</td>\n",
       "      <td>Small unassuming place that changes their menu...</td>\n",
       "      <td>0</td>\n",
       "      <td>0</td>\n",
       "      <td>0</td>\n",
       "      <td>VR6GpWIda3SfvPC-lg9H3w</td>\n",
       "      <td>bv2nCi5Qv5vroFiqKGopiw</td>\n",
       "    </tr>\n",
       "    <tr>\n",
       "      <th>3</th>\n",
       "      <td>MV3CcKScW05u5LVfF6ok0g</td>\n",
       "      <td>2016-05-28</td>\n",
       "      <td>5</td>\n",
       "      <td>Lester's is located in a beautiful neighborhoo...</td>\n",
       "      <td>0</td>\n",
       "      <td>0</td>\n",
       "      <td>0</td>\n",
       "      <td>CKC0-MOWMqoeWf6s-szl8g</td>\n",
       "      <td>bv2nCi5Qv5vroFiqKGopiw</td>\n",
       "    </tr>\n",
       "    <tr>\n",
       "      <th>4</th>\n",
       "      <td>IXvOzsEMYtiJI0CARmj77Q</td>\n",
       "      <td>2016-05-28</td>\n",
       "      <td>4</td>\n",
       "      <td>Love coming here. Yes the place always needs t...</td>\n",
       "      <td>0</td>\n",
       "      <td>0</td>\n",
       "      <td>0</td>\n",
       "      <td>ACFtxLv8pGrrxMm6EgjreA</td>\n",
       "      <td>bv2nCi5Qv5vroFiqKGopiw</td>\n",
       "    </tr>\n",
       "  </tbody>\n",
       "</table>\n",
       "</div>"
      ],
      "text/plain": [
       "                review_id       date  stars  \\\n",
       "0  v0i_UHJMo_hPBq9bxWvW4w 2016-05-28      5   \n",
       "1  vkVSCC7xljjrAI4UGfnKEQ 2016-05-28      5   \n",
       "2  n6QzIUObkYshz4dz2QRJTw 2016-05-28      5   \n",
       "3  MV3CcKScW05u5LVfF6ok0g 2016-05-28      5   \n",
       "4  IXvOzsEMYtiJI0CARmj77Q 2016-05-28      4   \n",
       "\n",
       "                                                text  cool  funny  useful  \\\n",
       "0  Love the staff, love the meat, love the place....     0      0       0   \n",
       "1  Super simple place but amazing nonetheless. It...     0      0       0   \n",
       "2  Small unassuming place that changes their menu...     0      0       0   \n",
       "3  Lester's is located in a beautiful neighborhoo...     0      0       0   \n",
       "4  Love coming here. Yes the place always needs t...     0      0       0   \n",
       "\n",
       "              business_id                 user_id  \n",
       "0  0W4lkclzZThpx3V65bVgig  bv2nCi5Qv5vroFiqKGopiw  \n",
       "1  AEx2SYEUJmTxVVB18LlCwA  bv2nCi5Qv5vroFiqKGopiw  \n",
       "2  VR6GpWIda3SfvPC-lg9H3w  bv2nCi5Qv5vroFiqKGopiw  \n",
       "3  CKC0-MOWMqoeWf6s-szl8g  bv2nCi5Qv5vroFiqKGopiw  \n",
       "4  ACFtxLv8pGrrxMm6EgjreA  bv2nCi5Qv5vroFiqKGopiw  "
      ]
     },
     "execution_count": 4,
     "metadata": {},
     "output_type": "execute_result"
    }
   ],
   "source": [
    "reviews = reviews[['review_id', 'date', 'stars', 'text', 'cool', 'funny', 'useful', 'business_id', 'user_id']]\n",
    "reviews['date'] = reviews['date'].apply(lambda d: datetime.datetime.strptime(d, '%Y-%m-%d'))\n",
    "reviews.head()"
   ]
  },
  {
   "cell_type": "code",
   "execution_count": 5,
   "metadata": {},
   "outputs": [
    {
     "data": {
      "text/plain": [
       "(100000, 9)"
      ]
     },
     "execution_count": 5,
     "metadata": {},
     "output_type": "execute_result"
    }
   ],
   "source": [
    "# Incluing 100000 reviews from yelp users.\n",
    "reviews.shape"
   ]
  },
  {
   "cell_type": "markdown",
   "metadata": {},
   "source": [
    "### 1.1 Reviews-Stars <a name=\"phase1.1\"></a>\n",
    "[Return to phase breakdown](#breakdown)"
   ]
  },
  {
   "cell_type": "code",
   "execution_count": 6,
   "metadata": {},
   "outputs": [
    {
     "data": {
      "text/plain": [
       "5    0.42720\n",
       "4    0.23897\n",
       "1    0.13267\n",
       "3    0.11807\n",
       "2    0.08309\n",
       "Name: stars, dtype: float64"
      ]
     },
     "execution_count": 6,
     "metadata": {},
     "output_type": "execute_result"
    }
   ],
   "source": [
    "review_stars = reviews['stars'].value_counts()\n",
    "review_stars_percent = review_stars.apply(lambda i : i / len(reviews))\n",
    "review_stars_percent"
   ]
  },
  {
   "cell_type": "markdown",
   "metadata": {},
   "source": [
    "When we count the number of reviews for different stars, it is clear to see that most people `42.7%` tended to give 5-star or 4-star ratings `23.9%`, which means that for about `66.6%` people were at least satisfied with their businesses. And then, the third highest rating star is 1-star with `13.3%`. Of course, this data makes sense because most customers only write reviews when they have very positive or negative experiences. Writing reviews takes a decent amount of effort, so unless a customer is highly motivated or so disappointed, it’s unlikely that they write anything at all (barring external factors like incentives).\n",
    "\n",
    "NBC news published an article [Online reviews: Here's what's behind all those 5 star ratings](https://www.nbcnews.com/better/business/does-five-star-online-review-really-mean-product-good-ncna870901), it stated that people nowadays tend to give either perfect reviews like 5-star and 4-star or offer awful ratings such as 1-star. Sometimes ratings can't reveal the information matters to people because of fake or misleading reviews that can bump star ratings up or down. "
   ]
  },
  {
   "cell_type": "code",
   "execution_count": 7,
   "metadata": {},
   "outputs": [
    {
     "data": {
      "image/png": "[encoded data removed]",
      "text/plain": [
       "<matplotlib.figure.Figure at 0x102ba4908>"
      ]
     },
     "metadata": {},
     "output_type": "display_data"
    }
   ],
   "source": [
    "review_stars_percent.sort_index(ascending=False).plot('bar')\n",
    "plt.ylabel('Percentage of reviews')\n",
    "plt.xlabel('Stars');"
   ]
  },
  {
   "cell_type": "markdown",
   "metadata": {},
   "source": [
    "### 1.2 Reviews-Assessment <a name=\"phase1.2\"></a>\n",
    "[Return to phase breakdown](#breakdown)"
   ]
  },
  {
   "cell_type": "markdown",
   "metadata": {},
   "source": [
    "After we find out that majority of people tended to give a high-star reviews, how do other users or customers felt about those reviews? What about those low-star reviews? In the `reviews` dataframe there are three columns called `useful`, `cool` and `funny`, which are number of votes about user's feeling for those reviews. We can try to build the connection between the stars they gave to business and other users' feeling about their reviews."
   ]
  },
  {
   "cell_type": "code",
   "execution_count": 8,
   "metadata": {},
   "outputs": [
    {
     "name": "stdout",
     "output_type": "stream",
     "text": [
      "Number of available reviews:  13273\n"
     ]
    }
   ],
   "source": [
    "# Filter out unavailable reviews. At least have one vote in all three options.\n",
    "avai_reviews = reviews.query(\"useful > 0 and cool > 0 and funny > 0\")\n",
    "print(\"Number of available reviews: \", len(avai_reviews))"
   ]
  },
  {
   "cell_type": "code",
   "execution_count": 9,
   "metadata": {},
   "outputs": [
    {
     "data": {
      "image/png": "[encoded data removed]",
      "text/plain": [
       "<matplotlib.figure.Figure at 0x1a0e384d30>"
      ]
     },
     "metadata": {},
     "output_type": "display_data"
    }
   ],
   "source": [
    "import matplotlib.lines as mlines\n",
    "sns.pointplot(x = 'stars', y = 'useful', data = avai_reviews, color=\"blue\")\n",
    "sns.pointplot(x = 'stars', y = 'cool', data = avai_reviews, color=\"green\")\n",
    "sns.pointplot(x = 'stars', y = 'funny', data = avai_reviews, color=\"red\")\n",
    "lg1 = mlines.Line2D([], [], color='blue', label='useful')\n",
    "lg2 = mlines.Line2D([], [], color='green', label='cool')\n",
    "lg3 = mlines.Line2D([], [], color='red', label='funny')\n",
    "plt.ylabel('Average number of evaluation')\n",
    "plt.legend(handles=[lg1, lg2, lg3]);"
   ]
  },
  {
   "cell_type": "markdown",
   "metadata": {},
   "source": [
    "In the plot we can see that the number of useful votes is always greater than other two. \n",
    "- For `useful` reviews, the number of `1-star` votes is maximal, nearly twice of other four kinds of stars. \n",
    "- For `funny` reviews, the more stars people offer, they less votes of `funny` they can get. \n",
    "- For `cool` reviews, high-star reviews can get more votes."
   ]
  },
  {
   "cell_type": "markdown",
   "metadata": {},
   "source": [
    "More votes usually imply that users were more agree with those reviews. Like `useful`, people felt that those `1-star` reviews were more helpful, or furthermore, more reliable. People thought extreme `low-star` reviews can reveal and offer more imformation about that business. While for `high-star` reviews, customers seemingly held a skeptical attitude, especially comparing with `1-star` review. "
   ]
  },
  {
   "cell_type": "markdown",
   "metadata": {},
   "source": [
    "### 1.3 Reviews-Sentimenet Analysis <a name=\"phase1.3\"></a>\n",
    "[Return to phase breakdown](#breakdown)"
   ]
  },
  {
   "cell_type": "markdown",
   "metadata": {},
   "source": [
    "It turns out that we can use the words in texts to calculate a measure of the sentiment of the people from their reviews. For example, the sentence \"Love coming here\" has positive sentiment, whereas the sentence \"Food is very bland\" has a negative sentiment. In addition, some words have stronger positive / negative sentiment than others: \"Love coming here.\" is more positive than \"Like coming here.\"\n",
    "\n",
    "We will use the [VADER (Valence Aware Dictionary and sEntiment Reasoner)](https://github.com/cjhutto/vaderSentiment) lexicon to analyze the sentiment of users' reviews. VADER is a lexicon and rule-based sentiment analysis tool that is specifically attuned to sentiments expressed in social media which is great for our usage.\n",
    "\n",
    "The VADER lexicon gives the sentiment of individual words. For example:"
   ]
  },
  {
   "cell_type": "code",
   "execution_count": 10,
   "metadata": {},
   "outputs": [
    {
     "name": "stdout",
     "output_type": "stream",
     "text": [
      "$:\t-1.5\t0.80623\t[-1, -1, -1, -1, -3, -1, -3, -1, -2, -1]\n",
      "%)\t-0.4\t1.0198\t[-1, 0, -1, 0, 0, -2, -1, 2, -1, 0]\n",
      "%-)\t-1.5\t1.43178\t[-2, 0, -2, -2, -1, 2, -2, -3, -2, -3]\n",
      "&-:\t-0.4\t1.42829\t[-3, -1, 0, 0, -1, -1, -1, 2, -1, 2]\n",
      "&:\t-0.7\t0.64031\t[0, -1, -1, -1, 1, -1, -1, -1, -1, -1]\n",
      "\n"
     ]
    }
   ],
   "source": [
    "print(''.join(open(\"vader_lexicon.txt\").readlines()[:5]))"
   ]
  },
  {
   "cell_type": "code",
   "execution_count": 11,
   "metadata": {},
   "outputs": [
    {
     "data": {
      "text/html": [
       "<div>\n",
       "<style scoped>\n",
       "    .dataframe tbody tr th:only-of-type {\n",
       "        vertical-align: middle;\n",
       "    }\n",
       "\n",
       "    .dataframe tbody tr th {\n",
       "        vertical-align: top;\n",
       "    }\n",
       "\n",
       "    .dataframe thead th {\n",
       "        text-align: right;\n",
       "    }\n",
       "</style>\n",
       "<table border=\"1\" class=\"dataframe\">\n",
       "  <thead>\n",
       "    <tr style=\"text-align: right;\">\n",
       "      <th></th>\n",
       "      <th>polarity</th>\n",
       "    </tr>\n",
       "    <tr>\n",
       "      <th>token</th>\n",
       "      <th></th>\n",
       "    </tr>\n",
       "  </thead>\n",
       "  <tbody>\n",
       "    <tr>\n",
       "      <th>$:</th>\n",
       "      <td>-1.5</td>\n",
       "    </tr>\n",
       "    <tr>\n",
       "      <th>%)</th>\n",
       "      <td>-0.4</td>\n",
       "    </tr>\n",
       "    <tr>\n",
       "      <th>%-)</th>\n",
       "      <td>-1.5</td>\n",
       "    </tr>\n",
       "    <tr>\n",
       "      <th>&amp;-:</th>\n",
       "      <td>-0.4</td>\n",
       "    </tr>\n",
       "    <tr>\n",
       "      <th>&amp;:</th>\n",
       "      <td>-0.7</td>\n",
       "    </tr>\n",
       "  </tbody>\n",
       "</table>\n",
       "</div>"
      ],
      "text/plain": [
       "       polarity\n",
       "token          \n",
       "$:         -1.5\n",
       "%)         -0.4\n",
       "%-)        -1.5\n",
       "&-:        -0.4\n",
       "&:         -0.7"
      ]
     },
     "execution_count": 11,
     "metadata": {},
     "output_type": "execute_result"
    }
   ],
   "source": [
    "lexicon = pd.read_csv('vader_lexicon.txt', sep='\\t',\n",
    "                   usecols=[0, 1], header=None, names=['token', 'polarity'],\n",
    "                   index_col='token')\n",
    "lexicon.head()"
   ]
  },
  {
   "cell_type": "markdown",
   "metadata": {},
   "source": [
    "Now, let's use this lexicon to calculate the overall sentiment for each of review's text. Here's the basic idea:\n",
    "\n",
    "1. For each review's text, find the sentiment of each word.\n",
    "2. Calculate the sentiment of each review's text by taking the sum of the sentiments of its words.\n",
    "\n",
    "Firstly, we need to lowercase the text since the lexicon is also lowercase. \n",
    "And then,  we need to replace the punctuation with a space since it will cause us to fail to match words. "
   ]
  },
  {
   "cell_type": "code",
   "execution_count": 12,
   "metadata": {},
   "outputs": [],
   "source": [
    "reviews['text'] = reviews['text'].str.lower()\n",
    "regex = '[^\\w\\s]'\n",
    "reviews['text'] = reviews['text'].apply(lambda text : re.sub(regex, ' ', text))\n",
    "# Change the review_id as index.\n",
    "simplify_reviews = reviews[['review_id', 'text']].set_index('review_id')"
   ]
  },
  {
   "cell_type": "markdown",
   "metadata": {},
   "source": [
    "Secondly, we split the text to each word and create a new dataframe. Column `location` means the index of each word in text and `word` is individual word in text. "
   ]
  },
  {
   "cell_type": "code",
   "execution_count": 13,
   "metadata": {},
   "outputs": [
    {
     "data": {
      "text/html": [
       "<div>\n",
       "<style scoped>\n",
       "    .dataframe tbody tr th:only-of-type {\n",
       "        vertical-align: middle;\n",
       "    }\n",
       "\n",
       "    .dataframe tbody tr th {\n",
       "        vertical-align: top;\n",
       "    }\n",
       "\n",
       "    .dataframe thead th {\n",
       "        text-align: right;\n",
       "    }\n",
       "</style>\n",
       "<table border=\"1\" class=\"dataframe\">\n",
       "  <thead>\n",
       "    <tr style=\"text-align: right;\">\n",
       "      <th></th>\n",
       "      <th>location</th>\n",
       "      <th>word</th>\n",
       "    </tr>\n",
       "    <tr>\n",
       "      <th>review_id</th>\n",
       "      <th></th>\n",
       "      <th></th>\n",
       "    </tr>\n",
       "  </thead>\n",
       "  <tbody>\n",
       "    <tr>\n",
       "      <th>v0i_UHJMo_hPBq9bxWvW4w</th>\n",
       "      <td>0</td>\n",
       "      <td>love</td>\n",
       "    </tr>\n",
       "    <tr>\n",
       "      <th>v0i_UHJMo_hPBq9bxWvW4w</th>\n",
       "      <td>1</td>\n",
       "      <td>the</td>\n",
       "    </tr>\n",
       "    <tr>\n",
       "      <th>v0i_UHJMo_hPBq9bxWvW4w</th>\n",
       "      <td>2</td>\n",
       "      <td>staff</td>\n",
       "    </tr>\n",
       "    <tr>\n",
       "      <th>v0i_UHJMo_hPBq9bxWvW4w</th>\n",
       "      <td>3</td>\n",
       "      <td>love</td>\n",
       "    </tr>\n",
       "    <tr>\n",
       "      <th>v0i_UHJMo_hPBq9bxWvW4w</th>\n",
       "      <td>4</td>\n",
       "      <td>the</td>\n",
       "    </tr>\n",
       "  </tbody>\n",
       "</table>\n",
       "</div>"
      ],
      "text/plain": [
       "                        location   word\n",
       "review_id                              \n",
       "v0i_UHJMo_hPBq9bxWvW4w         0   love\n",
       "v0i_UHJMo_hPBq9bxWvW4w         1    the\n",
       "v0i_UHJMo_hPBq9bxWvW4w         2  staff\n",
       "v0i_UHJMo_hPBq9bxWvW4w         3   love\n",
       "v0i_UHJMo_hPBq9bxWvW4w         4    the"
      ]
     },
     "execution_count": 13,
     "metadata": {},
     "output_type": "execute_result"
    }
   ],
   "source": [
    "words = (\n",
    "    simplify_reviews['text']\n",
    "    .str.split(expand=True)\n",
    "    .stack()\n",
    "    .reset_index(level=1)\n",
    "    .rename(columns={'level_1': 'location', 0: 'word'})\n",
    ")\n",
    "words.head()"
   ]
  },
  {
   "cell_type": "markdown",
   "metadata": {},
   "source": [
    "Lastly, we merge dataframe `words` with previous `lexicon` dataframe, sum the `polarity` of each word from the same text and add a new column `polarity` to the `reviews`."
   ]
  },
  {
   "cell_type": "code",
   "execution_count": 14,
   "metadata": {},
   "outputs": [
    {
     "data": {
      "text/html": [
       "<div>\n",
       "<style scoped>\n",
       "    .dataframe tbody tr th:only-of-type {\n",
       "        vertical-align: middle;\n",
       "    }\n",
       "\n",
       "    .dataframe tbody tr th {\n",
       "        vertical-align: top;\n",
       "    }\n",
       "\n",
       "    .dataframe thead th {\n",
       "        text-align: right;\n",
       "    }\n",
       "</style>\n",
       "<table border=\"1\" class=\"dataframe\">\n",
       "  <thead>\n",
       "    <tr style=\"text-align: right;\">\n",
       "      <th></th>\n",
       "      <th>review_id</th>\n",
       "      <th>date</th>\n",
       "      <th>stars</th>\n",
       "      <th>text</th>\n",
       "      <th>cool</th>\n",
       "      <th>funny</th>\n",
       "      <th>useful</th>\n",
       "      <th>business_id</th>\n",
       "      <th>user_id</th>\n",
       "      <th>polarity</th>\n",
       "    </tr>\n",
       "  </thead>\n",
       "  <tbody>\n",
       "    <tr>\n",
       "      <th>12629</th>\n",
       "      <td>_cLK95Db4mvDwAfOupS7Cw</td>\n",
       "      <td>2016-06-20</td>\n",
       "      <td>4</td>\n",
       "      <td>i came here yesterday for father s day dinner ...</td>\n",
       "      <td>0</td>\n",
       "      <td>0</td>\n",
       "      <td>3</td>\n",
       "      <td>-zuJkmIjdRahT_yHED-62g</td>\n",
       "      <td>YMTcBb6Vj54rd_NuFtb8QQ</td>\n",
       "      <td>159.0</td>\n",
       "    </tr>\n",
       "    <tr>\n",
       "      <th>7744</th>\n",
       "      <td>QoJAmSEJB2AW46ba56aFRQ</td>\n",
       "      <td>2011-05-01</td>\n",
       "      <td>3</td>\n",
       "      <td>5 second summary  mediocre average food  excep...</td>\n",
       "      <td>0</td>\n",
       "      <td>0</td>\n",
       "      <td>1</td>\n",
       "      <td>r6CaBBT6oW6laBgkrWbZFQ</td>\n",
       "      <td>XuCbLgo9j1q5dDh9251vkg</td>\n",
       "      <td>145.8</td>\n",
       "    </tr>\n",
       "    <tr>\n",
       "      <th>12600</th>\n",
       "      <td>YGTyhmWf5M1oUeFDAyCwuw</td>\n",
       "      <td>2015-11-23</td>\n",
       "      <td>5</td>\n",
       "      <td>i came back to miku for dinner after just comi...</td>\n",
       "      <td>7</td>\n",
       "      <td>1</td>\n",
       "      <td>9</td>\n",
       "      <td>0a2O150ytxrDjDzXNfRWkA</td>\n",
       "      <td>YMTcBb6Vj54rd_NuFtb8QQ</td>\n",
       "      <td>134.7</td>\n",
       "    </tr>\n",
       "    <tr>\n",
       "      <th>44351</th>\n",
       "      <td>4n0RFOsAySGiTzKqU3TfdQ</td>\n",
       "      <td>2016-09-05</td>\n",
       "      <td>5</td>\n",
       "      <td>best new restaurant in henderson and beyond  b...</td>\n",
       "      <td>4</td>\n",
       "      <td>3</td>\n",
       "      <td>5</td>\n",
       "      <td>BQqwIYQuo2W94smjrBjy5g</td>\n",
       "      <td>uaC8Ku7fqwD4Gh6L1YabAg</td>\n",
       "      <td>130.0</td>\n",
       "    </tr>\n",
       "    <tr>\n",
       "      <th>24855</th>\n",
       "      <td>rKGqy9HKtuO6cSsQANnV-g</td>\n",
       "      <td>2017-08-29</td>\n",
       "      <td>5</td>\n",
       "      <td>a maz ing      i can t say enough great things...</td>\n",
       "      <td>0</td>\n",
       "      <td>0</td>\n",
       "      <td>1</td>\n",
       "      <td>4KmrrhtfnngTVFa2d5LAjg</td>\n",
       "      <td>Y7EkNdRl_WCML9zo9lw1nw</td>\n",
       "      <td>129.2</td>\n",
       "    </tr>\n",
       "  </tbody>\n",
       "</table>\n",
       "</div>"
      ],
      "text/plain": [
       "                    review_id       date  stars  \\\n",
       "12629  _cLK95Db4mvDwAfOupS7Cw 2016-06-20      4   \n",
       "7744   QoJAmSEJB2AW46ba56aFRQ 2011-05-01      3   \n",
       "12600  YGTyhmWf5M1oUeFDAyCwuw 2015-11-23      5   \n",
       "44351  4n0RFOsAySGiTzKqU3TfdQ 2016-09-05      5   \n",
       "24855  rKGqy9HKtuO6cSsQANnV-g 2017-08-29      5   \n",
       "\n",
       "                                                    text  cool  funny  useful  \\\n",
       "12629  i came here yesterday for father s day dinner ...     0      0       3   \n",
       "7744   5 second summary  mediocre average food  excep...     0      0       1   \n",
       "12600  i came back to miku for dinner after just comi...     7      1       9   \n",
       "44351  best new restaurant in henderson and beyond  b...     4      3       5   \n",
       "24855  a maz ing      i can t say enough great things...     0      0       1   \n",
       "\n",
       "                  business_id                 user_id  polarity  \n",
       "12629  -zuJkmIjdRahT_yHED-62g  YMTcBb6Vj54rd_NuFtb8QQ     159.0  \n",
       "7744   r6CaBBT6oW6laBgkrWbZFQ  XuCbLgo9j1q5dDh9251vkg     145.8  \n",
       "12600  0a2O150ytxrDjDzXNfRWkA  YMTcBb6Vj54rd_NuFtb8QQ     134.7  \n",
       "44351  BQqwIYQuo2W94smjrBjy5g  uaC8Ku7fqwD4Gh6L1YabAg     130.0  \n",
       "24855  4KmrrhtfnngTVFa2d5LAjg  Y7EkNdRl_WCML9zo9lw1nw     129.2  "
      ]
     },
     "execution_count": 14,
     "metadata": {},
     "output_type": "execute_result"
    }
   ],
   "source": [
    "helper = words.reset_index().merge(lexicon.reset_index(), how = 'left', left_on='word', right_on='token')\n",
    "p = helper.groupby(['review_id']).sum()[['polarity']].reset_index()\n",
    "reviews = reviews.merge(p, left_on='review_id', right_on='review_id')\n",
    "# Sort the polarity of review from highest to lowest.\n",
    "reviews.sort_values('polarity', ascending = False).head()"
   ]
  },
  {
   "cell_type": "markdown",
   "metadata": {},
   "source": [
    "When we plot the polarity of each review by their received stars, we can see that nearly it makes much sense. For high star reviews they usually had higher polarity and vice versa. But when comparing 4-star with 5-star reviews, their polarity nearly were equal, actually average polarity of 4-star review was even a little higher than 5-star's. Mostly it was because an outlier with polarity `159` which was maximal in all reviews only gave a 4-star review, and also the second highest polarity `145.8` even gave a worse 3-star review. "
   ]
  },
  {
   "cell_type": "code",
   "execution_count": 15,
   "metadata": {},
   "outputs": [
    {
     "data": {
      "image/png": "[encoded data removed]",
      "text/plain": [
       "<matplotlib.figure.Figure at 0x1a0e351860>"
      ]
     },
     "metadata": {},
     "output_type": "display_data"
    }
   ],
   "source": [
    "sns.boxplot(x = 'stars', y = 'polarity', data = reviews);"
   ]
  },
  {
   "cell_type": "code",
   "execution_count": 16,
   "metadata": {},
   "outputs": [
    {
     "name": "stdout",
     "output_type": "stream",
     "text": [
      "Average polarity of 5-star review:  13.3567743446\n",
      "Average polarity of 4-star review:  13.5225593171\n",
      "Average polarity of 3-star review:  11.0896586771\n",
      "Average polarity of 2-star review:  6.6462871585\n",
      "Average polarity of 1-star review:  0.379980402502\n"
     ]
    }
   ],
   "source": [
    "print(\"Average polarity of 5-star review: \", reviews[reviews['stars'] == 5]['polarity'].mean())\n",
    "print(\"Average polarity of 4-star review: \", reviews[reviews['stars'] == 4]['polarity'].mean())\n",
    "print(\"Average polarity of 3-star review: \", reviews[reviews['stars'] == 3]['polarity'].mean())\n",
    "print(\"Average polarity of 2-star review: \", reviews[reviews['stars'] == 2]['polarity'].mean())\n",
    "print(\"Average polarity of 1-star review: \", reviews[reviews['stars'] == 1]['polarity'].mean())"
   ]
  },
  {
   "cell_type": "markdown",
   "metadata": {},
   "source": [
    "### 1.4 Reviews-Keywords <a name=\"phase1.4\"></a>\n",
    "[Return to phase breakdown](#breakdown)"
   ]
  },
  {
   "cell_type": "markdown",
   "metadata": {},
   "source": [
    "We can compare sentiment of review by whether the text of the review contains a certain keyword. For example:"
   ]
  },
  {
   "cell_type": "code",
   "execution_count": 17,
   "metadata": {},
   "outputs": [],
   "source": [
    "def keyword_sentiment(keyword1, keyword2):\n",
    "    sns.distplot(reviews[reviews['text'].str.contains(keyword1)]['polarity']) # keyword1\n",
    "    sns.distplot(reviews[reviews['text'].str.contains(keyword2)]['polarity']) # keyword2\n",
    "    plt.legend([keyword1, keyword2])\n",
    "    plt.xlim([-50,50]);"
   ]
  },
  {
   "cell_type": "code",
   "execution_count": 18,
   "metadata": {},
   "outputs": [
    {
     "data": {
      "image/png": "[encoded data removed]",
      "text/plain": [
       "<matplotlib.figure.Figure at 0x1a4e56a7f0>"
      ]
     },
     "metadata": {},
     "output_type": "display_data"
    }
   ],
   "source": [
    "keyword_sentiment('love', 'wait')"
   ]
  },
  {
   "cell_type": "code",
   "execution_count": 19,
   "metadata": {},
   "outputs": [
    {
     "data": {
      "image/png": "[encoded data removed]",
      "text/plain": [
       "<matplotlib.figure.Figure at 0x1a4e354e48>"
      ]
     },
     "metadata": {},
     "output_type": "display_data"
    }
   ],
   "source": [
    "keyword_sentiment('awesome', 'bland')"
   ]
  },
  {
   "cell_type": "markdown",
   "metadata": {},
   "source": [
    "Were there some certain words that often led to `high-star` reviews? We can build a dataframe to find out top20 highest-stars words. In this part, we only fouce on business whose category contains **Restaurant** and at least have **500** reviews."
   ]
  },
  {
   "cell_type": "code",
   "execution_count": 20,
   "metadata": {},
   "outputs": [],
   "source": [
    "rev = reviews[['review_id', 'stars', 'business_id', 'polarity']]\n",
    "bus = business[['business_id', 'categories']]\n",
    "rev_bus = rev.merge(bus, left_on='business_id', right_on='business_id')\n",
    "rev_bus['restaurant'] = rev_bus['categories'].apply(lambda c : 'Restaurants' in c)\n",
    "rest = rev_bus[rev_bus['restaurant'] == True]"
   ]
  },
  {
   "cell_type": "code",
   "execution_count": 21,
   "metadata": {},
   "outputs": [],
   "source": [
    "top_20 = (words\n",
    "     .join(rest.set_index('review_id')['stars'])\n",
    "     .loc[:, ['word', 'stars']]\n",
    "     .groupby('word')\n",
    "     .filter(lambda g: len(g) >= 500)\n",
    "     .groupby('word')\n",
    "     .median()\n",
    "     .sort_values('stars', ascending=False)\n",
    ")"
   ]
  },
  {
   "cell_type": "code",
   "execution_count": 22,
   "metadata": {},
   "outputs": [
    {
     "data": {
      "text/plain": [
       "Index(['recommended', 'disappoint', 'appointment', 'equipment', 'haircut',\n",
       "       'pair', 'hands', 'detail', 'lived', 'absolute', 'absolutely', 'bomb',\n",
       "       'accommodating', 'amazing', 'courteous', 'knowledgeable', 'fabulous',\n",
       "       'excellent', 'exceptional', 'professional', 'highly', 'thank', 'thanks',\n",
       "       'outstanding', 'best', 'salon', 'awesome', 'heaven', 'welcome', 'love',\n",
       "       'wonderful', 'loved', 'truly', 'incredible', 'phenomenal', 'phoenix',\n",
       "       'regret', 'az', 'ein', 'personable', 'gorgeous', 'notch', 'perfectly',\n",
       "       'perfection', 'perfect', 'omg', 'gem', 'greek', 'favorites', 'favorite',\n",
       "       'delicious', 'delish', 'wow', 'valley', 'town', 'arizona', 'vegan',\n",
       "       'recommendations', 'fantastic', 'welcoming'],\n",
       "      dtype='object', name='word')"
      ]
     },
     "execution_count": 22,
     "metadata": {},
     "output_type": "execute_result"
    }
   ],
   "source": [
    "top_20[top_20['stars'] == 5].index"
   ]
  },
  {
   "cell_type": "markdown",
   "metadata": {},
   "source": [
    "We can clearly see that most words are highly positive adjectives like `gorgeous`, `exceptional`, `outstanding`, `incredible`, `delicious`, `phenomenal`, some are adverbs which can demonstrate emotion like `absolutely`, `truly`, `perfectly`, and also including some exclamations such as `omg`, `wow` and so on."
   ]
  },
  {
   "cell_type": "markdown",
   "metadata": {},
   "source": [
    "## Phase 2: Business <a name=\"phase2\"></a>\n",
    "[Return to phase breakdown](#breakdown)"
   ]
  },
  {
   "cell_type": "code",
   "execution_count": 23,
   "metadata": {},
   "outputs": [
    {
     "data": {
      "text/html": [
       "<div>\n",
       "<style scoped>\n",
       "    .dataframe tbody tr th:only-of-type {\n",
       "        vertical-align: middle;\n",
       "    }\n",
       "\n",
       "    .dataframe tbody tr th {\n",
       "        vertical-align: top;\n",
       "    }\n",
       "\n",
       "    .dataframe thead th {\n",
       "        text-align: right;\n",
       "    }\n",
       "</style>\n",
       "<table border=\"1\" class=\"dataframe\">\n",
       "  <thead>\n",
       "    <tr style=\"text-align: right;\">\n",
       "      <th></th>\n",
       "      <th>business_id</th>\n",
       "      <th>name</th>\n",
       "      <th>is_open</th>\n",
       "      <th>stars</th>\n",
       "      <th>review_count</th>\n",
       "      <th>categories</th>\n",
       "      <th>attributes</th>\n",
       "      <th>state</th>\n",
       "      <th>city</th>\n",
       "      <th>postal_code</th>\n",
       "      <th>latitude</th>\n",
       "      <th>longitude</th>\n",
       "    </tr>\n",
       "  </thead>\n",
       "  <tbody>\n",
       "    <tr>\n",
       "      <th>0</th>\n",
       "      <td>FYWN1wneV18bWNgQjJ2GNg</td>\n",
       "      <td>Dental by Design</td>\n",
       "      <td>1</td>\n",
       "      <td>4.0</td>\n",
       "      <td>22</td>\n",
       "      <td>[Dentists, General Dentistry, Health &amp; Medical...</td>\n",
       "      <td>{'AcceptsInsurance': True, 'ByAppointmentOnly'...</td>\n",
       "      <td>AZ</td>\n",
       "      <td>Ahwatukee</td>\n",
       "      <td>85044</td>\n",
       "      <td>33.330690</td>\n",
       "      <td>-111.978599</td>\n",
       "    </tr>\n",
       "    <tr>\n",
       "      <th>1</th>\n",
       "      <td>He-G7vWjzVUysIKrfNbPUQ</td>\n",
       "      <td>Stephen Szabo Salon</td>\n",
       "      <td>1</td>\n",
       "      <td>3.0</td>\n",
       "      <td>11</td>\n",
       "      <td>[Hair Stylists, Hair Salons, Men's Hair Salons...</td>\n",
       "      <td>{'BusinessParking': {'garage': False, 'street'...</td>\n",
       "      <td>PA</td>\n",
       "      <td>McMurray</td>\n",
       "      <td>15317</td>\n",
       "      <td>40.291685</td>\n",
       "      <td>-80.104900</td>\n",
       "    </tr>\n",
       "    <tr>\n",
       "      <th>2</th>\n",
       "      <td>KQPW8lFf1y5BT2MxiSZ3QA</td>\n",
       "      <td>Western Motor Vehicle</td>\n",
       "      <td>1</td>\n",
       "      <td>1.5</td>\n",
       "      <td>18</td>\n",
       "      <td>[Departments of Motor Vehicles, Public Service...</td>\n",
       "      <td>{}</td>\n",
       "      <td>AZ</td>\n",
       "      <td>Phoenix</td>\n",
       "      <td>85017</td>\n",
       "      <td>33.524903</td>\n",
       "      <td>-112.115310</td>\n",
       "    </tr>\n",
       "    <tr>\n",
       "      <th>3</th>\n",
       "      <td>8DShNS-LuFqpEWIp0HxijA</td>\n",
       "      <td>Sports Authority</td>\n",
       "      <td>0</td>\n",
       "      <td>3.0</td>\n",
       "      <td>9</td>\n",
       "      <td>[Sporting Goods, Shopping]</td>\n",
       "      <td>{'BusinessAcceptsCreditCards': True, 'Restaura...</td>\n",
       "      <td>AZ</td>\n",
       "      <td>Tempe</td>\n",
       "      <td>85282</td>\n",
       "      <td>33.383147</td>\n",
       "      <td>-111.964725</td>\n",
       "    </tr>\n",
       "    <tr>\n",
       "      <th>4</th>\n",
       "      <td>PfOCPjBrlQAnz__NXj9h_w</td>\n",
       "      <td>Brick House Tavern + Tap</td>\n",
       "      <td>1</td>\n",
       "      <td>3.5</td>\n",
       "      <td>116</td>\n",
       "      <td>[American (New), Nightlife, Bars, Sandwiches, ...</td>\n",
       "      <td>{'Alcohol': 'full_bar', 'HasTV': True, 'NoiseL...</td>\n",
       "      <td>OH</td>\n",
       "      <td>Cuyahoga Falls</td>\n",
       "      <td>44221</td>\n",
       "      <td>41.119535</td>\n",
       "      <td>-81.475690</td>\n",
       "    </tr>\n",
       "  </tbody>\n",
       "</table>\n",
       "</div>"
      ],
      "text/plain": [
       "              business_id                      name  is_open  stars  \\\n",
       "0  FYWN1wneV18bWNgQjJ2GNg          Dental by Design        1    4.0   \n",
       "1  He-G7vWjzVUysIKrfNbPUQ       Stephen Szabo Salon        1    3.0   \n",
       "2  KQPW8lFf1y5BT2MxiSZ3QA     Western Motor Vehicle        1    1.5   \n",
       "3  8DShNS-LuFqpEWIp0HxijA          Sports Authority        0    3.0   \n",
       "4  PfOCPjBrlQAnz__NXj9h_w  Brick House Tavern + Tap        1    3.5   \n",
       "\n",
       "   review_count                                         categories  \\\n",
       "0            22  [Dentists, General Dentistry, Health & Medical...   \n",
       "1            11  [Hair Stylists, Hair Salons, Men's Hair Salons...   \n",
       "2            18  [Departments of Motor Vehicles, Public Service...   \n",
       "3             9                         [Sporting Goods, Shopping]   \n",
       "4           116  [American (New), Nightlife, Bars, Sandwiches, ...   \n",
       "\n",
       "                                          attributes state            city  \\\n",
       "0  {'AcceptsInsurance': True, 'ByAppointmentOnly'...    AZ       Ahwatukee   \n",
       "1  {'BusinessParking': {'garage': False, 'street'...    PA        McMurray   \n",
       "2                                                 {}    AZ         Phoenix   \n",
       "3  {'BusinessAcceptsCreditCards': True, 'Restaura...    AZ           Tempe   \n",
       "4  {'Alcohol': 'full_bar', 'HasTV': True, 'NoiseL...    OH  Cuyahoga Falls   \n",
       "\n",
       "  postal_code   latitude   longitude  \n",
       "0       85044  33.330690 -111.978599  \n",
       "1       15317  40.291685  -80.104900  \n",
       "2       85017  33.524903 -112.115310  \n",
       "3       85282  33.383147 -111.964725  \n",
       "4       44221  41.119535  -81.475690  "
      ]
     },
     "execution_count": 23,
     "metadata": {},
     "output_type": "execute_result"
    }
   ],
   "source": [
    "business = business[['business_id', 'name', 'is_open', 'stars', 'review_count', 'categories', 'attributes', 'state', 'city', 'postal_code', 'latitude', 'longitude']]\n",
    "business.head()"
   ]
  },
  {
   "cell_type": "markdown",
   "metadata": {},
   "source": [
    "### 2.1 K-means <a name=\"phase2.1\"></a>\n",
    "[Return to phase breakdown](#breakdown)"
   ]
  },
  {
   "cell_type": "markdown",
   "metadata": {},
   "source": [
    "Businesses tend to appear in clusters, like restaurants. In this phase, we will devise a way to group together restaurants that are close to each other in **Las Vegas**.\n",
    "\n",
    "The [k-means algorithm](https://en.wikipedia.org/wiki/K-means_clustering) is a method for discovering the centers of clusters. It is called an unsupervised learning method because the algorithm is not told what the correct clusters are; it must infer the clusters from the data alone.The k-means algorithm finds k centroids within a dataset that each correspond to a cluster of inputs. To do so, k-means begins by choosing k centroids at random, then alternates between the following two steps:\n",
    "\n",
    "1. Group the restaurants into clusters, where each cluster contains all restaurants that are closest to the same centroid.\n",
    "2. Compute a new centroid (average position) for each new cluster.\n",
    "\n",
    "This [visualization](http://tech.nitoyon.com/en/blog/2013/11/07/k-means/) is a good way to understand how the algorithm works."
   ]
  },
  {
   "cell_type": "code",
   "execution_count": 24,
   "metadata": {},
   "outputs": [
    {
     "name": "stdout",
     "output_type": "stream",
     "text": [
      "Number of restaurants in Las Vegas:  1692\n"
     ]
    }
   ],
   "source": [
    "# Get all the restaurants in Las Vegas.\n",
    "business['restaurant'] = business['categories'].apply(lambda c : 'Restaurants' in c)\n",
    "las_vegas_rest = business.query(\"city == 'Las Vegas' and restaurant == True\")\n",
    "print(\"Number of restaurants in Las Vegas: \", len(las_vegas_rest))"
   ]
  },
  {
   "cell_type": "markdown",
   "metadata": {},
   "source": [
    "Let's load all the restaurants in Las Vegas to an array called `rests` which contains `name`, `position(latitude, longitude)`, `categories`, `stars` and `review_count`."
   ]
  },
  {
   "cell_type": "code",
   "execution_count": 25,
   "metadata": {},
   "outputs": [
    {
     "data": {
      "text/plain": [
       "['Flight Deck Bar & Grill',\n",
       " (36.0669136, -115.1708484),\n",
       " ['Nightlife',\n",
       "  'Bars',\n",
       "  'Barbeque',\n",
       "  'Sports Bars',\n",
       "  'American (New)',\n",
       "  'Restaurants'],\n",
       " 4.0,\n",
       " 13]"
      ]
     },
     "execution_count": 25,
     "metadata": {},
     "output_type": "execute_result"
    }
   ],
   "source": [
    "rests = utils.load_las_vegas_rest('dataset/business.json')\n",
    "rests[0]"
   ]
  },
  {
   "cell_type": "markdown",
   "metadata": {},
   "source": [
    "Plot a heatmap of restaurants in Las Vegas:"
   ]
  },
  {
   "cell_type": "code",
   "execution_count": 26,
   "metadata": {},
   "outputs": [],
   "source": [
    "# load a Numpy array of (latitude, longitude) pairs\n",
    "rests_locations = [rest[1] for rest in rests]\n",
    "fig = gmaps.figure()\n",
    "rests_layer = gmaps.heatmap_layer(rests_locations)\n",
    "fig.add_layer(rests_layer)\n",
    "# fig    # Please unremark this line when running the cell."
   ]
  },
  {
   "cell_type": "markdown",
   "metadata": {},
   "source": [
    "<img src=\"map1.png\">"
   ]
  },
  {
   "cell_type": "markdown",
   "metadata": {},
   "source": [
    "Use `k-means algorithm` to get six centroids of all the restaurants."
   ]
  },
  {
   "cell_type": "code",
   "execution_count": 27,
   "metadata": {},
   "outputs": [
    {
     "data": {
      "text/plain": [
       "[[36.0315460877253, -115.15999583418068],\n",
       " [36.10613388897912, -115.12009883020494],\n",
       " [36.11299903909825, -115.27899906821801],\n",
       " [36.12349830402886, -115.1858656929017],\n",
       " [36.22955015928574, -115.25419337377619],\n",
       " [36.17632549437168, -115.10689726802882]]"
      ]
     },
     "execution_count": 27,
     "metadata": {},
     "output_type": "execute_result"
    }
   ],
   "source": [
    "def k_m(k):\n",
    "    # Use k-means algorithm\n",
    "    centroids = kmeans.k_means(rests, k)\n",
    "    return centroids\n",
    "k_means_6 = k_m(6) # Get six centroids (latitude, longitude)\n",
    "k_means_6"
   ]
  },
  {
   "cell_type": "markdown",
   "metadata": {},
   "source": [
    "Add the centroids to original heatmap:"
   ]
  },
  {
   "cell_type": "code",
   "execution_count": 28,
   "metadata": {},
   "outputs": [],
   "source": [
    "centroids_layer = gmaps.symbol_layer(k_means_6, fill_color=\"blue\", stroke_color=\"blue\", scale=5)\n",
    "fig.add_layer(centroids_layer)\n",
    "# fig    # Please unremark this line when running the cell."
   ]
  },
  {
   "cell_type": "markdown",
   "metadata": {},
   "source": [
    "<img src=\"map2.png\">"
   ]
  },
  {
   "cell_type": "markdown",
   "metadata": {},
   "source": [
    "### 2.2 Category <a name=\"phase2.2\"></a>\n",
    "[Return to phase breakdown](#breakdown)"
   ]
  },
  {
   "cell_type": "markdown",
   "metadata": {},
   "source": [
    "There are many categories in business's `categories` column. What was the most popular cateogory for all the restaurants in **Las Vegas**? Which category had the highest `average-star`? Before we get started, we need to filter out restaurants with `review-count` less than **50**."
   ]
  },
  {
   "cell_type": "code",
   "execution_count": 29,
   "metadata": {},
   "outputs": [
    {
     "data": {
      "text/html": [
       "<div>\n",
       "<style scoped>\n",
       "    .dataframe tbody tr th:only-of-type {\n",
       "        vertical-align: middle;\n",
       "    }\n",
       "\n",
       "    .dataframe tbody tr th {\n",
       "        vertical-align: top;\n",
       "    }\n",
       "\n",
       "    .dataframe thead th {\n",
       "        text-align: right;\n",
       "    }\n",
       "</style>\n",
       "<table border=\"1\" class=\"dataframe\">\n",
       "  <thead>\n",
       "    <tr style=\"text-align: right;\">\n",
       "      <th></th>\n",
       "      <th>name</th>\n",
       "      <th>stars</th>\n",
       "      <th>categories</th>\n",
       "    </tr>\n",
       "  </thead>\n",
       "  <tbody>\n",
       "    <tr>\n",
       "      <th>54</th>\n",
       "      <td>GameWorks</td>\n",
       "      <td>3.0</td>\n",
       "      <td>[Arcades, Arts &amp; Entertainment, Gastropubs, Re...</td>\n",
       "    </tr>\n",
       "    <tr>\n",
       "      <th>133</th>\n",
       "      <td>Divine Cafe at the Springs Preserve</td>\n",
       "      <td>4.0</td>\n",
       "      <td>[Restaurants, Cafes, American (New), Bars, Nig...</td>\n",
       "    </tr>\n",
       "    <tr>\n",
       "      <th>274</th>\n",
       "      <td>Trattoria Italia</td>\n",
       "      <td>4.5</td>\n",
       "      <td>[Seafood, Italian, Pizza, Restaurants]</td>\n",
       "    </tr>\n",
       "    <tr>\n",
       "      <th>366</th>\n",
       "      <td>Kinthai</td>\n",
       "      <td>4.5</td>\n",
       "      <td>[Restaurants, Thai]</td>\n",
       "    </tr>\n",
       "    <tr>\n",
       "      <th>621</th>\n",
       "      <td>Panda Express</td>\n",
       "      <td>2.5</td>\n",
       "      <td>[Restaurants, Fast Food, Chinese]</td>\n",
       "    </tr>\n",
       "  </tbody>\n",
       "</table>\n",
       "</div>"
      ],
      "text/plain": [
       "                                    name  stars  \\\n",
       "54                             GameWorks    3.0   \n",
       "133  Divine Cafe at the Springs Preserve    4.0   \n",
       "274                     Trattoria Italia    4.5   \n",
       "366                              Kinthai    4.5   \n",
       "621                        Panda Express    2.5   \n",
       "\n",
       "                                            categories  \n",
       "54   [Arcades, Arts & Entertainment, Gastropubs, Re...  \n",
       "133  [Restaurants, Cafes, American (New), Bars, Nig...  \n",
       "274             [Seafood, Italian, Pizza, Restaurants]  \n",
       "366                                [Restaurants, Thai]  \n",
       "621                  [Restaurants, Fast Food, Chinese]  "
      ]
     },
     "execution_count": 29,
     "metadata": {},
     "output_type": "execute_result"
    }
   ],
   "source": [
    "las = las_vegas_rest[las_vegas_rest['review_count'] > 50][['name', 'stars', 'categories']]\n",
    "las.head()"
   ]
  },
  {
   "cell_type": "code",
   "execution_count": 30,
   "metadata": {},
   "outputs": [],
   "source": [
    "def rest_categories_city(l):\n",
    "    d = {}\n",
    "    for row in l.index:\n",
    "        stars = l.loc[row, ]['stars']\n",
    "        for c in l.loc[row, ]['categories']:\n",
    "            if c != 'Restaurants':\n",
    "                if c not in d.keys():\n",
    "                    d[c] = [stars]\n",
    "                else:\n",
    "                    d[c].append(stars)\n",
    "    \n",
    "    rest_categories = pd.DataFrame({'stars':list(d.values())})\n",
    "    rest_categories.index = d.keys()\n",
    "    rest_categories['number'] = rest_categories['stars'].apply(lambda a : len(a))\n",
    "    rest_categories['percentage'] = rest_categories['number'] / len(l) * 100\n",
    "    rest_categories['average_stars'] = rest_categories['stars'].apply(lambda a : sum(a) / len(a))\n",
    "    rest_categories = rest_categories.drop(['stars'], axis=1)\n",
    "    \n",
    "    return rest_categories"
   ]
  },
  {
   "cell_type": "markdown",
   "metadata": {},
   "source": [
    "Let's take a look at top10 restaurant categories in **Las Vegas**!"
   ]
  },
  {
   "cell_type": "code",
   "execution_count": 31,
   "metadata": {},
   "outputs": [
    {
     "data": {
      "text/html": [
       "<div>\n",
       "<style scoped>\n",
       "    .dataframe tbody tr th:only-of-type {\n",
       "        vertical-align: middle;\n",
       "    }\n",
       "\n",
       "    .dataframe tbody tr th {\n",
       "        vertical-align: top;\n",
       "    }\n",
       "\n",
       "    .dataframe thead th {\n",
       "        text-align: right;\n",
       "    }\n",
       "</style>\n",
       "<table border=\"1\" class=\"dataframe\">\n",
       "  <thead>\n",
       "    <tr style=\"text-align: right;\">\n",
       "      <th></th>\n",
       "      <th>number</th>\n",
       "      <th>percentage</th>\n",
       "      <th>average_stars</th>\n",
       "      <th>city</th>\n",
       "    </tr>\n",
       "  </thead>\n",
       "  <tbody>\n",
       "    <tr>\n",
       "      <th>Food</th>\n",
       "      <td>172</td>\n",
       "      <td>21.260816</td>\n",
       "      <td>3.819767</td>\n",
       "      <td>Las Vegas</td>\n",
       "    </tr>\n",
       "    <tr>\n",
       "      <th>Nightlife</th>\n",
       "      <td>141</td>\n",
       "      <td>17.428925</td>\n",
       "      <td>3.716312</td>\n",
       "      <td>Las Vegas</td>\n",
       "    </tr>\n",
       "    <tr>\n",
       "      <th>Bars</th>\n",
       "      <td>136</td>\n",
       "      <td>16.810878</td>\n",
       "      <td>3.727941</td>\n",
       "      <td>Las Vegas</td>\n",
       "    </tr>\n",
       "    <tr>\n",
       "      <th>American (Traditional)</th>\n",
       "      <td>119</td>\n",
       "      <td>14.709518</td>\n",
       "      <td>3.462185</td>\n",
       "      <td>Las Vegas</td>\n",
       "    </tr>\n",
       "    <tr>\n",
       "      <th>American (New)</th>\n",
       "      <td>102</td>\n",
       "      <td>12.608158</td>\n",
       "      <td>3.735294</td>\n",
       "      <td>Las Vegas</td>\n",
       "    </tr>\n",
       "    <tr>\n",
       "      <th>Mexican</th>\n",
       "      <td>99</td>\n",
       "      <td>12.237330</td>\n",
       "      <td>3.595960</td>\n",
       "      <td>Las Vegas</td>\n",
       "    </tr>\n",
       "    <tr>\n",
       "      <th>Breakfast &amp; Brunch</th>\n",
       "      <td>93</td>\n",
       "      <td>11.495674</td>\n",
       "      <td>3.677419</td>\n",
       "      <td>Las Vegas</td>\n",
       "    </tr>\n",
       "    <tr>\n",
       "      <th>Pizza</th>\n",
       "      <td>82</td>\n",
       "      <td>10.135970</td>\n",
       "      <td>3.567073</td>\n",
       "      <td>Las Vegas</td>\n",
       "    </tr>\n",
       "    <tr>\n",
       "      <th>Italian</th>\n",
       "      <td>81</td>\n",
       "      <td>10.012361</td>\n",
       "      <td>3.697531</td>\n",
       "      <td>Las Vegas</td>\n",
       "    </tr>\n",
       "    <tr>\n",
       "      <th>Sandwiches</th>\n",
       "      <td>77</td>\n",
       "      <td>9.517923</td>\n",
       "      <td>3.623377</td>\n",
       "      <td>Las Vegas</td>\n",
       "    </tr>\n",
       "  </tbody>\n",
       "</table>\n",
       "</div>"
      ],
      "text/plain": [
       "                        number  percentage  average_stars       city\n",
       "Food                       172   21.260816       3.819767  Las Vegas\n",
       "Nightlife                  141   17.428925       3.716312  Las Vegas\n",
       "Bars                       136   16.810878       3.727941  Las Vegas\n",
       "American (Traditional)     119   14.709518       3.462185  Las Vegas\n",
       "American (New)             102   12.608158       3.735294  Las Vegas\n",
       "Mexican                     99   12.237330       3.595960  Las Vegas\n",
       "Breakfast & Brunch          93   11.495674       3.677419  Las Vegas\n",
       "Pizza                       82   10.135970       3.567073  Las Vegas\n",
       "Italian                     81   10.012361       3.697531  Las Vegas\n",
       "Sandwiches                  77    9.517923       3.623377  Las Vegas"
      ]
     },
     "execution_count": 31,
     "metadata": {},
     "output_type": "execute_result"
    }
   ],
   "source": [
    "rest_from_lasvegas = rest_categories_city(las)\n",
    "rest_from_lasvegas['city'] = 'Las Vegas'\n",
    "top10_rest_from_lasvegas = rest_from_lasvegas.sort_values('number', ascending = False).head(10)\n",
    "top10_rest_from_lasvegas"
   ]
  },
  {
   "cell_type": "code",
   "execution_count": 32,
   "metadata": {},
   "outputs": [
    {
     "data": {
      "image/png": "[encoded data removed]",
      "text/plain": [
       "<matplotlib.figure.Figure at 0x1a23bea6a0>"
      ]
     },
     "metadata": {},
     "output_type": "display_data"
    }
   ],
   "source": [
    "f, ax = plt.subplots(figsize=(10, 6))\n",
    "sns.barplot(x = 'percentage', y = top10_rest_from_lasvegas.index, data = top10_rest_from_lasvegas)\n",
    "plt.title('Top10 restaurant categories in Las Vegas');"
   ]
  },
  {
   "cell_type": "markdown",
   "metadata": {},
   "source": [
    "For reference, we can take a look at other cities like **Phoenix** and **Toronto**, and plot three cities together:"
   ]
  },
  {
   "cell_type": "code",
   "execution_count": 33,
   "metadata": {},
   "outputs": [],
   "source": [
    "p = business.query(\"city == 'Phoenix' and restaurant == True\")\n",
    "p = p[p['review_count'] > 50][['name', 'stars', 'categories']]\n",
    "rest_from_phoenix = rest_categories_city(p)\n",
    "rest_from_phoenix['city'] = 'Phoenix'\n",
    "top10_rest_from_phoenix = rest_from_phoenix.sort_values('number', ascending = False).head(10) # Top10 in Phoenix\n",
    "\n",
    "t = business.query(\"city == 'Toronto' and restaurant == True\")\n",
    "t = t[t['review_count'] > 50][['name', 'stars', 'categories']]\n",
    "rest_from_toronto = rest_categories_city(t)\n",
    "rest_from_toronto['city'] = 'Toronto'\n",
    "top10_rest_from_toronto = rest_from_toronto.sort_values('number', ascending = False).head(10) # Top10 in Toronto\n",
    "\n",
    "d1 = top10_rest_from_lasvegas.append(top10_rest_from_phoenix)\n",
    "three_cities_top10 = d1.append(top10_rest_from_toronto)"
   ]
  },
  {
   "cell_type": "code",
   "execution_count": 34,
   "metadata": {},
   "outputs": [
    {
     "data": {
      "image/png": "[encoded data removed]",
      "text/plain": [
       "<matplotlib.figure.Figure at 0x1a23a81390>"
      ]
     },
     "metadata": {},
     "output_type": "display_data"
    }
   ],
   "source": [
    "sns.set(style=\"whitegrid\")\n",
    "f, ax = plt.subplots(figsize=(12, 8))\n",
    "sns.barplot(x = 'percentage', y = three_cities_top10.index, hue = 'city', data = three_cities_top10, palette=\"Blues_d\")\n",
    "ax.legend(ncol=3, loc=\"lower right\", frameon=True)\n",
    "plt.title(\"Top10 restaurant categories in Las Vegas, Phoenix & Toronto\");"
   ]
  },
  {
   "cell_type": "markdown",
   "metadata": {},
   "source": [
    "We can see that for **Las Vegas** and **Phoenix**, their top10 restaurant categories were exactly same, just a little bit different in proportion sorting. Restaurants about `Nightlife`, `Bars`, with `Sandwiches` and `Piazza` were always popular, and for exotic restaurants people were interested in `Mexican` and `Italian` food. \n",
    "\n",
    "As for **Toronto**, actually its top10 restaurant categories were nearly identical with them, people still like restaurants about `Nightlife` and `Bars`. Only different part was that `American(new)` restaurants changed to `Canadian(new)` (Of course, they are in different countries after all...), and looks like people in **Toronto** were more interested in `Japanese` food than `Mexican` food, wherefore there were many `Sushi Bars`.\n",
    "\n",
    "What about `average-star`? Which category had the highest `average-star`? Were they same for different cities? Firstly, we should take a look at restaurants in **Las Vegas**."
   ]
  },
  {
   "cell_type": "code",
   "execution_count": 44,
   "metadata": {},
   "outputs": [
    {
     "data": {
      "text/html": [
       "<div>\n",
       "<style scoped>\n",
       "    .dataframe tbody tr th:only-of-type {\n",
       "        vertical-align: middle;\n",
       "    }\n",
       "\n",
       "    .dataframe tbody tr th {\n",
       "        vertical-align: top;\n",
       "    }\n",
       "\n",
       "    .dataframe thead th {\n",
       "        text-align: right;\n",
       "    }\n",
       "</style>\n",
       "<table border=\"1\" class=\"dataframe\">\n",
       "  <thead>\n",
       "    <tr style=\"text-align: right;\">\n",
       "      <th></th>\n",
       "      <th>number</th>\n",
       "      <th>percentage</th>\n",
       "      <th>average_stars</th>\n",
       "      <th>city</th>\n",
       "    </tr>\n",
       "  </thead>\n",
       "  <tbody>\n",
       "    <tr>\n",
       "      <th>Vegan</th>\n",
       "      <td>20</td>\n",
       "      <td>2.472188</td>\n",
       "      <td>4.100000</td>\n",
       "      <td>Las Vegas</td>\n",
       "    </tr>\n",
       "    <tr>\n",
       "      <th>Specialty Food</th>\n",
       "      <td>17</td>\n",
       "      <td>2.101360</td>\n",
       "      <td>4.088235</td>\n",
       "      <td>Las Vegas</td>\n",
       "    </tr>\n",
       "    <tr>\n",
       "      <th>Korean</th>\n",
       "      <td>19</td>\n",
       "      <td>2.348578</td>\n",
       "      <td>4.052632</td>\n",
       "      <td>Las Vegas</td>\n",
       "    </tr>\n",
       "    <tr>\n",
       "      <th>Greek</th>\n",
       "      <td>10</td>\n",
       "      <td>1.236094</td>\n",
       "      <td>4.000000</td>\n",
       "      <td>Las Vegas</td>\n",
       "    </tr>\n",
       "    <tr>\n",
       "      <th>Tapas Bars</th>\n",
       "      <td>11</td>\n",
       "      <td>1.359703</td>\n",
       "      <td>4.000000</td>\n",
       "      <td>Las Vegas</td>\n",
       "    </tr>\n",
       "  </tbody>\n",
       "</table>\n",
       "</div>"
      ],
      "text/plain": [
       "                number  percentage  average_stars       city\n",
       "Vegan               20    2.472188       4.100000  Las Vegas\n",
       "Specialty Food      17    2.101360       4.088235  Las Vegas\n",
       "Korean              19    2.348578       4.052632  Las Vegas\n",
       "Greek               10    1.236094       4.000000  Las Vegas\n",
       "Tapas Bars          11    1.359703       4.000000  Las Vegas"
      ]
     },
     "execution_count": 44,
     "metadata": {},
     "output_type": "execute_result"
    }
   ],
   "source": [
    "# Filter out categories showing less than 10 times.\n",
    "top5_stars_from_lasvegas = rest_from_lasvegas[rest_from_lasvegas['number'] >= 10]\\\n",
    "                            .sort_values('average_stars', ascending = False).head()\n",
    "top5_stars_from_lasvegas"
   ]
  },
  {
   "cell_type": "code",
   "execution_count": 45,
   "metadata": {},
   "outputs": [],
   "source": [
    "f, ax = plt.subplots(figsize=(8, 5))\n",
    "sns.barplot(y = 'average_stars', x = top5_stars_from_lasvegas.index, data = top5_stars_from_lasvegas, palette=\"pastel\")\n",
    "plt.yscale('log')\n",
    "plt.ylabel('average-star with log scale')\n",
    "plt.title('restaurant categories with Top5 average-star in Las Vegas');\n",
    "plt.close() # Please remark this line when runing the cell."
   ]
  },
  {
   "cell_type": "markdown",
   "metadata": {},
   "source": [
    "<img src=\"plot1.png\">"
   ]
  },
  {
   "cell_type": "code",
   "execution_count": 46,
   "metadata": {},
   "outputs": [],
   "source": [
    "top5_stars_from_phoenix = rest_from_phoenix[rest_from_phoenix['number'] >= 10]\\\n",
    "                            .sort_values('average_stars', ascending = False).head()\n",
    "top5_stars_from_toronto = rest_from_toronto[rest_from_toronto['number'] >= 10]\\\n",
    "                            .sort_values('average_stars', ascending = False).head()\n",
    "d1 = top5_stars_from_lasvegas.append(top5_stars_from_phoenix)\n",
    "three_cities_top5 = d1.append(top5_stars_from_toronto)"
   ]
  },
  {
   "cell_type": "code",
   "execution_count": 49,
   "metadata": {},
   "outputs": [],
   "source": [
    "f, ax = plt.subplots(figsize=(12, 8))\n",
    "sns.barplot(y = 'average_stars', x = three_cities_top5.index, hue = 'city',  data = three_cities_top5, palette=\"rocket\")\n",
    "plt.yscale('log')\n",
    "plt.ylabel('average-star with log scale')\n",
    "ax.legend(ncol=3, loc=\"upper right\", frameon=True)\n",
    "plt.title('restaurant categories with Top5 average-star in Las Vegas, Phoenix & Toronto');\n",
    "plt.close() # Please remark this line when runing the cell."
   ]
  },
  {
   "cell_type": "markdown",
   "metadata": {},
   "source": [
    "<img src=\"plot2.png\">"
   ]
  },
  {
   "cell_type": "markdown",
   "metadata": {},
   "source": [
    "Well, it looks like things are totally different right now! \n",
    "\n",
    "For three cities, only `Vegan` always had top5 average-star, and then were `Specialty Food`, `Greek` and `Coffee & Tea` which had two cities in top5 average-star. If you extend top5 to top10 average-star of restaurant categories, you will find that it still only has `Vegan` with highest average-star in three cities."
   ]
  },
  {
   "cell_type": "code",
   "execution_count": null,
   "metadata": {},
   "outputs": [],
   "source": []
  }
 ],
 "metadata": {
  "kernelspec": {
   "display_name": "Python 3",
   "language": "python",
   "name": "python3"
  },
  "language_info": {
   "codemirror_mode": {
    "name": "ipython",
    "version": 3
   },
   "file_extension": ".py",
   "mimetype": "text/x-python",
   "name": "python",
   "nbconvert_exporter": "python",
   "pygments_lexer": "ipython3",
   "version": "3.6.4"
  }
 },
 "nbformat": 4,
 "nbformat_minor": 2
}
