{
 "cells": [
  {
   "cell_type": "markdown",
   "metadata": {},
   "source": [
    "# Yelp Dataset Analysis"
   ]
  },
  {
   "cell_type": "code",
   "execution_count": 1,
   "metadata": {},
   "outputs": [],
   "source": [
    "# Set up\n",
    "import json\n",
    "import pandas as pd\n",
    "import datetime\n",
    "import re\n",
    "import matplotlib.pyplot as plt\n",
    "import matplotlib.image as mpimg\n",
    "\n",
    "# This style emulates the look and feel of the famous data journalist Nate Silver's site.\n",
    "%matplotlib inline\n",
    "plt.style.use('fivethirtyeight')\n",
    "\n",
    "import seaborn as sns\n",
    "sns.set()\n",
    "sns.set_context(\"talk\")\n",
    "\n",
    "import gmaps\n",
    "import gmaps.datasets\n",
    "gmaps.configure(api_key=\"AI...\")  # Use your google API\n",
    "\n",
    "import utils\n",
    "import kmeans"
   ]
  },
  {
   "cell_type": "code",
   "execution_count": 2,
   "metadata": {},
   "outputs": [],
   "source": [
    "# Get dataset\n",
    "utils.help_directory('dataset.zip')"
   ]
  },
  {
   "cell_type": "code",
   "execution_count": 3,
   "metadata": {},
   "outputs": [],
   "source": [
    "# Load json files\n",
    "reviews = pd.DataFrame.from_records(utils.load_file('dataset/review.json'))\n",
    "reviews = reviews[['review_id', 'date', 'stars', 'text', 'cool', 'funny', 'useful', 'business_id', 'user_id']]\n",
    "\n",
    "users =  pd.DataFrame.from_records(utils.load_file('dataset/users.json'))\n",
    "users = users[['user_id', 'name', 'yelping_since', 'average_stars', 'review_count', 'fans', 'cool', 'funny', 'useful']]\n",
    "\n",
    "business =  pd.DataFrame.from_records(utils.load_file('dataset/business.json'))\n",
    "business = business[['business_id', 'name', 'is_open', 'stars', 'review_count', 'categories', 'attributes', 'state', 'city', 'postal_code', 'latitude', 'longitude']]\n",
    "\n",
    "photos =  pd.DataFrame.from_records(utils.load_file('dataset/photos.json'))\n",
    "photos = photos[['photo_id', 'business_id', 'label', 'caption']]"
   ]
  },
  {
   "cell_type": "markdown",
   "metadata": {},
   "source": [
    "## Phase 1:  Reviews"
   ]
  },
  {
   "cell_type": "code",
   "execution_count": 4,
   "metadata": {
    "scrolled": true
   },
   "outputs": [
    {
     "data": {
      "text/html": [
       "<div>\n",
       "<style scoped>\n",
       "    .dataframe tbody tr th:only-of-type {\n",
       "        vertical-align: middle;\n",
       "    }\n",
       "\n",
       "    .dataframe tbody tr th {\n",
       "        vertical-align: top;\n",
       "    }\n",
       "\n",
       "    .dataframe thead th {\n",
       "        text-align: right;\n",
       "    }\n",
       "</style>\n",
       "<table border=\"1\" class=\"dataframe\">\n",
       "  <thead>\n",
       "    <tr style=\"text-align: right;\">\n",
       "      <th></th>\n",
       "      <th>review_id</th>\n",
       "      <th>date</th>\n",
       "      <th>stars</th>\n",
       "      <th>text</th>\n",
       "      <th>cool</th>\n",
       "      <th>funny</th>\n",
       "      <th>useful</th>\n",
       "      <th>business_id</th>\n",
       "      <th>user_id</th>\n",
       "    </tr>\n",
       "  </thead>\n",
       "  <tbody>\n",
       "    <tr>\n",
       "      <th>0</th>\n",
       "      <td>v0i_UHJMo_hPBq9bxWvW4w</td>\n",
       "      <td>2016-05-28</td>\n",
       "      <td>5</td>\n",
       "      <td>Love the staff, love the meat, love the place....</td>\n",
       "      <td>0</td>\n",
       "      <td>0</td>\n",
       "      <td>0</td>\n",
       "      <td>0W4lkclzZThpx3V65bVgig</td>\n",
       "      <td>bv2nCi5Qv5vroFiqKGopiw</td>\n",
       "    </tr>\n",
       "    <tr>\n",
       "      <th>1</th>\n",
       "      <td>vkVSCC7xljjrAI4UGfnKEQ</td>\n",
       "      <td>2016-05-28</td>\n",
       "      <td>5</td>\n",
       "      <td>Super simple place but amazing nonetheless. It...</td>\n",
       "      <td>0</td>\n",
       "      <td>0</td>\n",
       "      <td>0</td>\n",
       "      <td>AEx2SYEUJmTxVVB18LlCwA</td>\n",
       "      <td>bv2nCi5Qv5vroFiqKGopiw</td>\n",
       "    </tr>\n",
       "    <tr>\n",
       "      <th>2</th>\n",
       "      <td>n6QzIUObkYshz4dz2QRJTw</td>\n",
       "      <td>2016-05-28</td>\n",
       "      <td>5</td>\n",
       "      <td>Small unassuming place that changes their menu...</td>\n",
       "      <td>0</td>\n",
       "      <td>0</td>\n",
       "      <td>0</td>\n",
       "      <td>VR6GpWIda3SfvPC-lg9H3w</td>\n",
       "      <td>bv2nCi5Qv5vroFiqKGopiw</td>\n",
       "    </tr>\n",
       "    <tr>\n",
       "      <th>3</th>\n",
       "      <td>MV3CcKScW05u5LVfF6ok0g</td>\n",
       "      <td>2016-05-28</td>\n",
       "      <td>5</td>\n",
       "      <td>Lester's is located in a beautiful neighborhoo...</td>\n",
       "      <td>0</td>\n",
       "      <td>0</td>\n",
       "      <td>0</td>\n",
       "      <td>CKC0-MOWMqoeWf6s-szl8g</td>\n",
       "      <td>bv2nCi5Qv5vroFiqKGopiw</td>\n",
       "    </tr>\n",
       "    <tr>\n",
       "      <th>4</th>\n",
       "      <td>IXvOzsEMYtiJI0CARmj77Q</td>\n",
       "      <td>2016-05-28</td>\n",
       "      <td>4</td>\n",
       "      <td>Love coming here. Yes the place always needs t...</td>\n",
       "      <td>0</td>\n",
       "      <td>0</td>\n",
       "      <td>0</td>\n",
       "      <td>ACFtxLv8pGrrxMm6EgjreA</td>\n",
       "      <td>bv2nCi5Qv5vroFiqKGopiw</td>\n",
       "    </tr>\n",
       "  </tbody>\n",
       "</table>\n",
       "</div>"
      ],
      "text/plain": [
       "                review_id       date  stars  \\\n",
       "0  v0i_UHJMo_hPBq9bxWvW4w 2016-05-28      5   \n",
       "1  vkVSCC7xljjrAI4UGfnKEQ 2016-05-28      5   \n",
       "2  n6QzIUObkYshz4dz2QRJTw 2016-05-28      5   \n",
       "3  MV3CcKScW05u5LVfF6ok0g 2016-05-28      5   \n",
       "4  IXvOzsEMYtiJI0CARmj77Q 2016-05-28      4   \n",
       "\n",
       "                                                text  cool  funny  useful  \\\n",
       "0  Love the staff, love the meat, love the place....     0      0       0   \n",
       "1  Super simple place but amazing nonetheless. It...     0      0       0   \n",
       "2  Small unassuming place that changes their menu...     0      0       0   \n",
       "3  Lester's is located in a beautiful neighborhoo...     0      0       0   \n",
       "4  Love coming here. Yes the place always needs t...     0      0       0   \n",
       "\n",
       "              business_id                 user_id  \n",
       "0  0W4lkclzZThpx3V65bVgig  bv2nCi5Qv5vroFiqKGopiw  \n",
       "1  AEx2SYEUJmTxVVB18LlCwA  bv2nCi5Qv5vroFiqKGopiw  \n",
       "2  VR6GpWIda3SfvPC-lg9H3w  bv2nCi5Qv5vroFiqKGopiw  \n",
       "3  CKC0-MOWMqoeWf6s-szl8g  bv2nCi5Qv5vroFiqKGopiw  \n",
       "4  ACFtxLv8pGrrxMm6EgjreA  bv2nCi5Qv5vroFiqKGopiw  "
      ]
     },
     "execution_count": 4,
     "metadata": {},
     "output_type": "execute_result"
    }
   ],
   "source": [
    "reviews['date'] = reviews['date'].apply(lambda d: datetime.datetime.strptime(d, '%Y-%m-%d'))\n",
    "reviews.head()"
   ]
  },
  {
   "cell_type": "code",
   "execution_count": 5,
   "metadata": {},
   "outputs": [
    {
     "data": {
      "text/plain": [
       "(100000, 9)"
      ]
     },
     "execution_count": 5,
     "metadata": {},
     "output_type": "execute_result"
    }
   ],
   "source": [
    "# Incluing 100000 reviews from yelp users.\n",
    "reviews.shape"
   ]
  },
  {
   "cell_type": "markdown",
   "metadata": {},
   "source": [
    "### 1.1 Reviews-Stars"
   ]
  },
  {
   "cell_type": "code",
   "execution_count": 6,
   "metadata": {},
   "outputs": [
    {
     "data": {
      "text/plain": [
       "5    0.42720\n",
       "4    0.23897\n",
       "1    0.13267\n",
       "3    0.11807\n",
       "2    0.08309\n",
       "Name: stars, dtype: float64"
      ]
     },
     "execution_count": 6,
     "metadata": {},
     "output_type": "execute_result"
    }
   ],
   "source": [
    "review_stars = reviews['stars'].value_counts()\n",
    "review_stars_percent = review_stars.apply(lambda i : i / len(reviews))\n",
    "review_stars_percent"
   ]
  },
  {
   "cell_type": "markdown",
   "metadata": {},
   "source": [
    "When we count the number of reviews for different stars, it is clear to see that most people `42.7%` tend to give 5-star or 4-star ratings `23.9%`, which means that for about `66.6%` people are at least satisfied with their businesses. And then, the third highest rating star is 1-star with `13.3%`. Of course, this data makes sense because most customers only write reviews when they have very positive or negative experiences. Writing reviews takes a decent amount of effort, so unless a customer is highly motivated or so disappointed, it’s unlikely that they write anything at all (barring external factors like incentives).\n",
    "\n",
    "NBC news published an article [Online reviews: Here's what's behind all those 5 star ratings](https://www.nbcnews.com/better/business/does-five-star-online-review-really-mean-product-good-ncna870901), it stated that people nowadays tend to give either perfect reviews like 5-star and 4-star or offer awful ratings such as 1-star. Sometimes ratings can't reveal the information matters to people because of fake or misleading reviews that can bump star ratings up or down. "
   ]
  },
  {
   "cell_type": "code",
   "execution_count": 7,
   "metadata": {},
   "outputs": [
    {
     "data": {
      "image/png": "[encoded data removed]",
      "text/plain": [
       "<matplotlib.figure.Figure at 0x1a0f022f60>"
      ]
     },
     "metadata": {},
     "output_type": "display_data"
    }
   ],
   "source": [
    "review_stars_percent.sort_index(ascending=False).plot('bar')\n",
    "plt.ylabel('Percentage of reviews')\n",
    "plt.xlabel('Stars');"
   ]
  },
  {
   "cell_type": "markdown",
   "metadata": {},
   "source": [
    "### 1.2 Reviews-Assessment"
   ]
  },
  {
   "cell_type": "markdown",
   "metadata": {},
   "source": [
    "After we find out that majority of people tend to give a high-star reviews, how do other users or customers feel about those reviews? What about those low-star reviews? In the `reviews` dataframe there are three columns called `useful`, `cool` and `funny`, which are number of votes about users' feeling for those reviews. We can try to build the connection between the stars they give to business and other users' feeling about their reviews."
   ]
  },
  {
   "cell_type": "code",
   "execution_count": 8,
   "metadata": {},
   "outputs": [
    {
     "name": "stdout",
     "output_type": "stream",
     "text": [
      "Number of available reviews:  13273\n"
     ]
    }
   ],
   "source": [
    "# Filter out unavailable reviews. At least have one vote in all three options.\n",
    "avai_reviews = reviews.query(\"useful > 0 and cool > 0 and funny > 0\")\n",
    "print(\"Number of available reviews: \", len(avai_reviews))"
   ]
  },
  {
   "cell_type": "code",
   "execution_count": 9,
   "metadata": {},
   "outputs": [
    {
     "data": {
      "image/png": "[encoded data removed]",
      "text/plain": [
       "<matplotlib.figure.Figure at 0x1098390b8>"
      ]
     },
     "metadata": {},
     "output_type": "display_data"
    }
   ],
   "source": [
    "import matplotlib.lines as mlines\n",
    "sns.pointplot(x = 'stars', y = 'useful', data = avai_reviews, color=\"blue\")\n",
    "sns.pointplot(x = 'stars', y = 'cool', data = avai_reviews, color=\"green\")\n",
    "sns.pointplot(x = 'stars', y = 'funny', data = avai_reviews, color=\"red\")\n",
    "lg1 = mlines.Line2D([], [], color='blue', label='useful')\n",
    "lg2 = mlines.Line2D([], [], color='green', label='cool')\n",
    "lg3 = mlines.Line2D([], [], color='red', label='funny')\n",
    "plt.ylabel('Average number of evaluation')\n",
    "plt.legend(handles=[lg1, lg2, lg3]);"
   ]
  },
  {
   "cell_type": "markdown",
   "metadata": {},
   "source": [
    "In the plot we can see that the number of useful votes is always greater than other two. \n",
    "- For `useful` reviews, the number of `1-star` votes is maximal, nearly twice of other four kinds of stars. \n",
    "- For `funny` reviews, the more stars people offer, they less votes of `funny` they can get. \n",
    "- For `cool` reviews, high-star reviews can get more votes."
   ]
  },
  {
   "cell_type": "markdown",
   "metadata": {},
   "source": [
    "More votes usually imply that users are more agree with those reviews. Like `useful`, people feel that those `1-star` reviews are more helpful, or furthermore, more reliable. People think extreme `low-star` reviews can reveal and offer more imformation about that business. While for `high-star` reviews, customers seemingly hold a skeptical attitude, especially comparing with `1-star` review. "
   ]
  },
  {
   "cell_type": "markdown",
   "metadata": {},
   "source": [
    "### 1.3 Reviews-Sentimenet Analysis"
   ]
  },
  {
   "cell_type": "markdown",
   "metadata": {},
   "source": [
    "It turns out that we can use the words in texts to calculate a measure of the sentiment of the people from their reviews. For example, the sentence \"Love coming here\" has positive sentiment, whereas the sentence \"Food is very bland\" has a negative sentiment. In addition, some words have stronger positive / negative sentiment than others: \"Love coming here.\" is more positive than \"Like coming here.\"\n",
    "\n",
    "We will use the [VADER (Valence Aware Dictionary and sEntiment Reasoner)](https://github.com/cjhutto/vaderSentiment) lexicon to analyze the sentiment of users' reviews. VADER is a lexicon and rule-based sentiment analysis tool that is specifically attuned to sentiments expressed in social media which is great for our usage.\n",
    "\n",
    "The VADER lexicon gives the sentiment of individual words. For example:"
   ]
  },
  {
   "cell_type": "code",
   "execution_count": 10,
   "metadata": {},
   "outputs": [
    {
     "name": "stdout",
     "output_type": "stream",
     "text": [
      "$:\t-1.5\t0.80623\t[-1, -1, -1, -1, -3, -1, -3, -1, -2, -1]\n",
      "%)\t-0.4\t1.0198\t[-1, 0, -1, 0, 0, -2, -1, 2, -1, 0]\n",
      "%-)\t-1.5\t1.43178\t[-2, 0, -2, -2, -1, 2, -2, -3, -2, -3]\n",
      "&-:\t-0.4\t1.42829\t[-3, -1, 0, 0, -1, -1, -1, 2, -1, 2]\n",
      "&:\t-0.7\t0.64031\t[0, -1, -1, -1, 1, -1, -1, -1, -1, -1]\n",
      "\n"
     ]
    }
   ],
   "source": [
    "print(''.join(open(\"vader_lexicon.txt\").readlines()[:5]))"
   ]
  },
  {
   "cell_type": "code",
   "execution_count": 11,
   "metadata": {},
   "outputs": [
    {
     "data": {
      "text/html": [
       "<div>\n",
       "<style scoped>\n",
       "    .dataframe tbody tr th:only-of-type {\n",
       "        vertical-align: middle;\n",
       "    }\n",
       "\n",
       "    .dataframe tbody tr th {\n",
       "        vertical-align: top;\n",
       "    }\n",
       "\n",
       "    .dataframe thead th {\n",
       "        text-align: right;\n",
       "    }\n",
       "</style>\n",
       "<table border=\"1\" class=\"dataframe\">\n",
       "  <thead>\n",
       "    <tr style=\"text-align: right;\">\n",
       "      <th></th>\n",
       "      <th>polarity</th>\n",
       "    </tr>\n",
       "    <tr>\n",
       "      <th>token</th>\n",
       "      <th></th>\n",
       "    </tr>\n",
       "  </thead>\n",
       "  <tbody>\n",
       "    <tr>\n",
       "      <th>$:</th>\n",
       "      <td>-1.5</td>\n",
       "    </tr>\n",
       "    <tr>\n",
       "      <th>%)</th>\n",
       "      <td>-0.4</td>\n",
       "    </tr>\n",
       "    <tr>\n",
       "      <th>%-)</th>\n",
       "      <td>-1.5</td>\n",
       "    </tr>\n",
       "    <tr>\n",
       "      <th>&amp;-:</th>\n",
       "      <td>-0.4</td>\n",
       "    </tr>\n",
       "    <tr>\n",
       "      <th>&amp;:</th>\n",
       "      <td>-0.7</td>\n",
       "    </tr>\n",
       "  </tbody>\n",
       "</table>\n",
       "</div>"
      ],
      "text/plain": [
       "       polarity\n",
       "token          \n",
       "$:         -1.5\n",
       "%)         -0.4\n",
       "%-)        -1.5\n",
       "&-:        -0.4\n",
       "&:         -0.7"
      ]
     },
     "execution_count": 11,
     "metadata": {},
     "output_type": "execute_result"
    }
   ],
   "source": [
    "lexicon = pd.read_csv('vader_lexicon.txt', sep='\\t',\n",
    "                   usecols=[0, 1], header=None, names=['token', 'polarity'],\n",
    "                   index_col='token')\n",
    "lexicon.head()"
   ]
  },
  {
   "cell_type": "markdown",
   "metadata": {},
   "source": [
    "Now, let's use this lexicon to calculate the overall sentiment for each of review's text. Here's the basic idea:\n",
    "\n",
    "1. For each review's text, find the sentiment of each word.\n",
    "2. Calculate the sentiment of each review's text by taking the sum of the sentiments of its words.\n",
    "\n",
    "Firstly, we need to lowercase the text since the lexicon is also lowercase. \n",
    "And then,  we need to replace the punctuation with a space since it will cause us to fail to match words. "
   ]
  },
  {
   "cell_type": "code",
   "execution_count": 12,
   "metadata": {},
   "outputs": [],
   "source": [
    "reviews['text'] = reviews['text'].str.lower()\n",
    "regex = '[^\\w\\s]'\n",
    "reviews['text'] = reviews['text'].apply(lambda text : re.sub(regex, ' ', text))\n",
    "# Change the review_id as index.\n",
    "simplify_reviews = reviews[['review_id', 'text']].set_index('review_id')"
   ]
  },
  {
   "cell_type": "markdown",
   "metadata": {},
   "source": [
    "Secondly, we split the text to each word and create a new dataframe. Column `location` means the index of each word in text and `word` is individual word in text. "
   ]
  },
  {
   "cell_type": "code",
   "execution_count": 13,
   "metadata": {},
   "outputs": [
    {
     "data": {
      "text/html": [
       "<div>\n",
       "<style scoped>\n",
       "    .dataframe tbody tr th:only-of-type {\n",
       "        vertical-align: middle;\n",
       "    }\n",
       "\n",
       "    .dataframe tbody tr th {\n",
       "        vertical-align: top;\n",
       "    }\n",
       "\n",
       "    .dataframe thead th {\n",
       "        text-align: right;\n",
       "    }\n",
       "</style>\n",
       "<table border=\"1\" class=\"dataframe\">\n",
       "  <thead>\n",
       "    <tr style=\"text-align: right;\">\n",
       "      <th></th>\n",
       "      <th>location</th>\n",
       "      <th>word</th>\n",
       "    </tr>\n",
       "    <tr>\n",
       "      <th>review_id</th>\n",
       "      <th></th>\n",
       "      <th></th>\n",
       "    </tr>\n",
       "  </thead>\n",
       "  <tbody>\n",
       "    <tr>\n",
       "      <th>v0i_UHJMo_hPBq9bxWvW4w</th>\n",
       "      <td>0</td>\n",
       "      <td>love</td>\n",
       "    </tr>\n",
       "    <tr>\n",
       "      <th>v0i_UHJMo_hPBq9bxWvW4w</th>\n",
       "      <td>1</td>\n",
       "      <td>the</td>\n",
       "    </tr>\n",
       "    <tr>\n",
       "      <th>v0i_UHJMo_hPBq9bxWvW4w</th>\n",
       "      <td>2</td>\n",
       "      <td>staff</td>\n",
       "    </tr>\n",
       "    <tr>\n",
       "      <th>v0i_UHJMo_hPBq9bxWvW4w</th>\n",
       "      <td>3</td>\n",
       "      <td>love</td>\n",
       "    </tr>\n",
       "    <tr>\n",
       "      <th>v0i_UHJMo_hPBq9bxWvW4w</th>\n",
       "      <td>4</td>\n",
       "      <td>the</td>\n",
       "    </tr>\n",
       "  </tbody>\n",
       "</table>\n",
       "</div>"
      ],
      "text/plain": [
       "                        location   word\n",
       "review_id                              \n",
       "v0i_UHJMo_hPBq9bxWvW4w         0   love\n",
       "v0i_UHJMo_hPBq9bxWvW4w         1    the\n",
       "v0i_UHJMo_hPBq9bxWvW4w         2  staff\n",
       "v0i_UHJMo_hPBq9bxWvW4w         3   love\n",
       "v0i_UHJMo_hPBq9bxWvW4w         4    the"
      ]
     },
     "execution_count": 13,
     "metadata": {},
     "output_type": "execute_result"
    }
   ],
   "source": [
    "words = (\n",
    "    simplify_reviews['text']\n",
    "    .str.split(expand=True)\n",
    "    .stack()\n",
    "    .reset_index(level=1)\n",
    "    .rename(columns={'level_1': 'location', 0: 'word'})\n",
    ")\n",
    "words.head()"
   ]
  },
  {
   "cell_type": "markdown",
   "metadata": {},
   "source": [
    "Lastly, we merge dataframe `words` with previous `lexicon` dataframe, sum the `polarity` of each word from the same text and add a new column `polarity` to the `reviews`."
   ]
  },
  {
   "cell_type": "code",
   "execution_count": 14,
   "metadata": {},
   "outputs": [
    {
     "data": {
      "text/html": [
       "<div>\n",
       "<style scoped>\n",
       "    .dataframe tbody tr th:only-of-type {\n",
       "        vertical-align: middle;\n",
       "    }\n",
       "\n",
       "    .dataframe tbody tr th {\n",
       "        vertical-align: top;\n",
       "    }\n",
       "\n",
       "    .dataframe thead th {\n",
       "        text-align: right;\n",
       "    }\n",
       "</style>\n",
       "<table border=\"1\" class=\"dataframe\">\n",
       "  <thead>\n",
       "    <tr style=\"text-align: right;\">\n",
       "      <th></th>\n",
       "      <th>review_id</th>\n",
       "      <th>date</th>\n",
       "      <th>stars</th>\n",
       "      <th>text</th>\n",
       "      <th>cool</th>\n",
       "      <th>funny</th>\n",
       "      <th>useful</th>\n",
       "      <th>business_id</th>\n",
       "      <th>user_id</th>\n",
       "      <th>polarity</th>\n",
       "    </tr>\n",
       "  </thead>\n",
       "  <tbody>\n",
       "    <tr>\n",
       "      <th>12629</th>\n",
       "      <td>_cLK95Db4mvDwAfOupS7Cw</td>\n",
       "      <td>2016-06-20</td>\n",
       "      <td>4</td>\n",
       "      <td>i came here yesterday for father s day dinner ...</td>\n",
       "      <td>0</td>\n",
       "      <td>0</td>\n",
       "      <td>3</td>\n",
       "      <td>-zuJkmIjdRahT_yHED-62g</td>\n",
       "      <td>YMTcBb6Vj54rd_NuFtb8QQ</td>\n",
       "      <td>159.0</td>\n",
       "    </tr>\n",
       "    <tr>\n",
       "      <th>7744</th>\n",
       "      <td>QoJAmSEJB2AW46ba56aFRQ</td>\n",
       "      <td>2011-05-01</td>\n",
       "      <td>3</td>\n",
       "      <td>5 second summary  mediocre average food  excep...</td>\n",
       "      <td>0</td>\n",
       "      <td>0</td>\n",
       "      <td>1</td>\n",
       "      <td>r6CaBBT6oW6laBgkrWbZFQ</td>\n",
       "      <td>XuCbLgo9j1q5dDh9251vkg</td>\n",
       "      <td>145.8</td>\n",
       "    </tr>\n",
       "    <tr>\n",
       "      <th>12600</th>\n",
       "      <td>YGTyhmWf5M1oUeFDAyCwuw</td>\n",
       "      <td>2015-11-23</td>\n",
       "      <td>5</td>\n",
       "      <td>i came back to miku for dinner after just comi...</td>\n",
       "      <td>7</td>\n",
       "      <td>1</td>\n",
       "      <td>9</td>\n",
       "      <td>0a2O150ytxrDjDzXNfRWkA</td>\n",
       "      <td>YMTcBb6Vj54rd_NuFtb8QQ</td>\n",
       "      <td>134.7</td>\n",
       "    </tr>\n",
       "    <tr>\n",
       "      <th>44351</th>\n",
       "      <td>4n0RFOsAySGiTzKqU3TfdQ</td>\n",
       "      <td>2016-09-05</td>\n",
       "      <td>5</td>\n",
       "      <td>best new restaurant in henderson and beyond  b...</td>\n",
       "      <td>4</td>\n",
       "      <td>3</td>\n",
       "      <td>5</td>\n",
       "      <td>BQqwIYQuo2W94smjrBjy5g</td>\n",
       "      <td>uaC8Ku7fqwD4Gh6L1YabAg</td>\n",
       "      <td>130.0</td>\n",
       "    </tr>\n",
       "    <tr>\n",
       "      <th>24855</th>\n",
       "      <td>rKGqy9HKtuO6cSsQANnV-g</td>\n",
       "      <td>2017-08-29</td>\n",
       "      <td>5</td>\n",
       "      <td>a maz ing      i can t say enough great things...</td>\n",
       "      <td>0</td>\n",
       "      <td>0</td>\n",
       "      <td>1</td>\n",
       "      <td>4KmrrhtfnngTVFa2d5LAjg</td>\n",
       "      <td>Y7EkNdRl_WCML9zo9lw1nw</td>\n",
       "      <td>129.2</td>\n",
       "    </tr>\n",
       "  </tbody>\n",
       "</table>\n",
       "</div>"
      ],
      "text/plain": [
       "                    review_id       date  stars  \\\n",
       "12629  _cLK95Db4mvDwAfOupS7Cw 2016-06-20      4   \n",
       "7744   QoJAmSEJB2AW46ba56aFRQ 2011-05-01      3   \n",
       "12600  YGTyhmWf5M1oUeFDAyCwuw 2015-11-23      5   \n",
       "44351  4n0RFOsAySGiTzKqU3TfdQ 2016-09-05      5   \n",
       "24855  rKGqy9HKtuO6cSsQANnV-g 2017-08-29      5   \n",
       "\n",
       "                                                    text  cool  funny  useful  \\\n",
       "12629  i came here yesterday for father s day dinner ...     0      0       3   \n",
       "7744   5 second summary  mediocre average food  excep...     0      0       1   \n",
       "12600  i came back to miku for dinner after just comi...     7      1       9   \n",
       "44351  best new restaurant in henderson and beyond  b...     4      3       5   \n",
       "24855  a maz ing      i can t say enough great things...     0      0       1   \n",
       "\n",
       "                  business_id                 user_id  polarity  \n",
       "12629  -zuJkmIjdRahT_yHED-62g  YMTcBb6Vj54rd_NuFtb8QQ     159.0  \n",
       "7744   r6CaBBT6oW6laBgkrWbZFQ  XuCbLgo9j1q5dDh9251vkg     145.8  \n",
       "12600  0a2O150ytxrDjDzXNfRWkA  YMTcBb6Vj54rd_NuFtb8QQ     134.7  \n",
       "44351  BQqwIYQuo2W94smjrBjy5g  uaC8Ku7fqwD4Gh6L1YabAg     130.0  \n",
       "24855  4KmrrhtfnngTVFa2d5LAjg  Y7EkNdRl_WCML9zo9lw1nw     129.2  "
      ]
     },
     "execution_count": 14,
     "metadata": {},
     "output_type": "execute_result"
    }
   ],
   "source": [
    "helper = words.reset_index().merge(lexicon.reset_index(), how = 'left', left_on='word', right_on='token')\n",
    "p = helper.groupby(['review_id']).sum()[['polarity']].reset_index()\n",
    "reviews = reviews.merge(p, left_on='review_id', right_on='review_id')\n",
    "# Sort the polarity of review from highest to lowest.\n",
    "reviews.sort_values('polarity', ascending = False).head()"
   ]
  },
  {
   "cell_type": "markdown",
   "metadata": {},
   "source": [
    "When we plot the polarity of each review by their received stars, we can see that nearly it makes much sense. For high star reviews they usually have higher polarity and vice versa. But when comparing 4-star with 5-star reviews, their polarity nearly are equal, actually average polarity of 4-star review is even a little higher than 5-star's. Mostly it is because an outlier with polarity `159` which is maximal in all reviews only gives a 4-star review, and also the second highest polarity `145.8` even gives a worse 3-star review. "
   ]
  },
  {
   "cell_type": "code",
   "execution_count": 15,
   "metadata": {},
   "outputs": [
    {
     "data": {
      "image/png": "[encoded data removed]",
      "text/plain": [
       "<matplotlib.figure.Figure at 0x1a0f022ac8>"
      ]
     },
     "metadata": {},
     "output_type": "display_data"
    }
   ],
   "source": [
    "sns.boxplot(x = 'stars', y = 'polarity', data = reviews);"
   ]
  },
  {
   "cell_type": "code",
   "execution_count": 16,
   "metadata": {},
   "outputs": [
    {
     "name": "stdout",
     "output_type": "stream",
     "text": [
      "Average polarity of 5-star review:  13.3567743446\n",
      "Average polarity of 4-star review:  13.5225593171\n",
      "Average polarity of 3-star review:  11.0896586771\n",
      "Average polarity of 2-star review:  6.6462871585\n",
      "Average polarity of 1-star review:  0.379980402502\n"
     ]
    }
   ],
   "source": [
    "print(\"Average polarity of 5-star review: \", reviews[reviews['stars'] == 5]['polarity'].mean())\n",
    "print(\"Average polarity of 4-star review: \", reviews[reviews['stars'] == 4]['polarity'].mean())\n",
    "print(\"Average polarity of 3-star review: \", reviews[reviews['stars'] == 3]['polarity'].mean())\n",
    "print(\"Average polarity of 2-star review: \", reviews[reviews['stars'] == 2]['polarity'].mean())\n",
    "print(\"Average polarity of 1-star review: \", reviews[reviews['stars'] == 1]['polarity'].mean())"
   ]
  },
  {
   "cell_type": "markdown",
   "metadata": {},
   "source": [
    "We can also compare sentiment of review by whether the text of the review contains a certain keyword. For example:"
   ]
  },
  {
   "cell_type": "code",
   "execution_count": 17,
   "metadata": {},
   "outputs": [],
   "source": [
    "def keyword_sentiment(keyword1, keyword2):\n",
    "    sns.distplot(reviews[reviews['text'].str.contains(keyword1)]['polarity']) # keyword1\n",
    "    sns.distplot(reviews[reviews['text'].str.contains(keyword2)]['polarity']) # keyword2\n",
    "    plt.legend([keyword1, keyword2])\n",
    "    plt.xlim([-50,50]);"
   ]
  },
  {
   "cell_type": "code",
   "execution_count": 18,
   "metadata": {},
   "outputs": [
    {
     "data": {
      "image/png": "[encoded data removed]",
      "text/plain": [
       "<matplotlib.figure.Figure at 0x1a4bde62e8>"
      ]
     },
     "metadata": {},
     "output_type": "display_data"
    }
   ],
   "source": [
    "keyword_sentiment('love', 'wait')"
   ]
  },
  {
   "cell_type": "code",
   "execution_count": 19,
   "metadata": {},
   "outputs": [
    {
     "data": {
      "image/png": "[encoded data removed]",
      "text/plain": [
       "<matplotlib.figure.Figure at 0x1a4bab6f28>"
      ]
     },
     "metadata": {},
     "output_type": "display_data"
    }
   ],
   "source": [
    "keyword_sentiment('awesome', 'bland')"
   ]
  },
  {
   "cell_type": "markdown",
   "metadata": {},
   "source": [
    "## Phase 2: Business"
   ]
  },
  {
   "cell_type": "markdown",
   "metadata": {},
   "source": [
    "### 2.1 Las Vegas Restaurants"
   ]
  },
  {
   "cell_type": "markdown",
   "metadata": {},
   "source": [
    "Businesses tend to appear in clusters, like restaurants. In this phase, we will devise a way to group together restaurants that are close to each other in **Las Vegas**.\n",
    "\n",
    "The [k-means algorithm](https://en.wikipedia.org/wiki/K-means_clustering) is a method for discovering the centers of clusters. It is called an unsupervised learning method because the algorithm is not told what the correct clusters are; it must infer the clusters from the data alone.The k-means algorithm finds k centroids within a dataset that each correspond to a cluster of inputs. To do so, k-means begins by choosing k centroids at random, then alternates between the following two steps:\n",
    "\n",
    "1. Group the restaurants into clusters, where each cluster contains all restaurants that are closest to the same centroid.\n",
    "2. Compute a new centroid (average position) for each new cluster.\n",
    "\n",
    "This [visualization](http://tech.nitoyon.com/en/blog/2013/11/07/k-means/) is a good way to understand how the algorithm works."
   ]
  },
  {
   "cell_type": "code",
   "execution_count": 20,
   "metadata": {},
   "outputs": [
    {
     "name": "stdout",
     "output_type": "stream",
     "text": [
      "Number of restaurants in Las Vegas:  1692\n"
     ]
    },
    {
     "data": {
      "text/html": [
       "<div>\n",
       "<style scoped>\n",
       "    .dataframe tbody tr th:only-of-type {\n",
       "        vertical-align: middle;\n",
       "    }\n",
       "\n",
       "    .dataframe tbody tr th {\n",
       "        vertical-align: top;\n",
       "    }\n",
       "\n",
       "    .dataframe thead th {\n",
       "        text-align: right;\n",
       "    }\n",
       "</style>\n",
       "<table border=\"1\" class=\"dataframe\">\n",
       "  <thead>\n",
       "    <tr style=\"text-align: right;\">\n",
       "      <th></th>\n",
       "      <th>business_id</th>\n",
       "      <th>name</th>\n",
       "      <th>is_open</th>\n",
       "      <th>stars</th>\n",
       "      <th>review_count</th>\n",
       "      <th>categories</th>\n",
       "      <th>attributes</th>\n",
       "      <th>state</th>\n",
       "      <th>city</th>\n",
       "      <th>postal_code</th>\n",
       "      <th>latitude</th>\n",
       "      <th>longitude</th>\n",
       "      <th>restaurant</th>\n",
       "    </tr>\n",
       "  </thead>\n",
       "  <tbody>\n",
       "    <tr>\n",
       "      <th>52</th>\n",
       "      <td>Pd52CjgyEU3Rb8co6QfTPw</td>\n",
       "      <td>Flight Deck Bar &amp; Grill</td>\n",
       "      <td>1</td>\n",
       "      <td>4.0</td>\n",
       "      <td>13</td>\n",
       "      <td>[Nightlife, Bars, Barbeque, Sports Bars, Ameri...</td>\n",
       "      <td>{'Alcohol': 'full_bar', 'HasTV': True, 'NoiseL...</td>\n",
       "      <td>NV</td>\n",
       "      <td>Las Vegas</td>\n",
       "      <td>89119</td>\n",
       "      <td>36.066914</td>\n",
       "      <td>-115.170848</td>\n",
       "      <td>True</td>\n",
       "    </tr>\n",
       "    <tr>\n",
       "      <th>53</th>\n",
       "      <td>4srfPk1s8nlm1YusyDUbjg</td>\n",
       "      <td>Subway</td>\n",
       "      <td>1</td>\n",
       "      <td>2.5</td>\n",
       "      <td>6</td>\n",
       "      <td>[Fast Food, Restaurants, Sandwiches]</td>\n",
       "      <td>{'GoodForMeal': {'dessert': False, 'latenight'...</td>\n",
       "      <td>NV</td>\n",
       "      <td>Las Vegas</td>\n",
       "      <td>89119</td>\n",
       "      <td>36.064652</td>\n",
       "      <td>-115.118954</td>\n",
       "      <td>True</td>\n",
       "    </tr>\n",
       "    <tr>\n",
       "      <th>54</th>\n",
       "      <td>n7V4cD-KqqE3OXk0irJTyA</td>\n",
       "      <td>GameWorks</td>\n",
       "      <td>1</td>\n",
       "      <td>3.0</td>\n",
       "      <td>349</td>\n",
       "      <td>[Arcades, Arts &amp; Entertainment, Gastropubs, Re...</td>\n",
       "      <td>{'RestaurantsTableService': True, 'GoodForMeal...</td>\n",
       "      <td>NV</td>\n",
       "      <td>Las Vegas</td>\n",
       "      <td>89119</td>\n",
       "      <td>36.068259</td>\n",
       "      <td>-115.178877</td>\n",
       "      <td>True</td>\n",
       "    </tr>\n",
       "    <tr>\n",
       "      <th>91</th>\n",
       "      <td>F0fEKpTk7gAmuSFI0KW1eQ</td>\n",
       "      <td>Cafe Mastrioni</td>\n",
       "      <td>0</td>\n",
       "      <td>1.5</td>\n",
       "      <td>3</td>\n",
       "      <td>[Italian, Restaurants]</td>\n",
       "      <td>{'GoodForMeal': {'dessert': False, 'latenight'...</td>\n",
       "      <td>NV</td>\n",
       "      <td>Las Vegas</td>\n",
       "      <td>89103</td>\n",
       "      <td>36.111057</td>\n",
       "      <td>-115.241688</td>\n",
       "      <td>True</td>\n",
       "    </tr>\n",
       "    <tr>\n",
       "      <th>122</th>\n",
       "      <td>Wpt0sFHcPtV5MO9He7yMKQ</td>\n",
       "      <td>McDonald's</td>\n",
       "      <td>1</td>\n",
       "      <td>2.0</td>\n",
       "      <td>20</td>\n",
       "      <td>[Restaurants, Fast Food, Burgers]</td>\n",
       "      <td>{'RestaurantsTableService': False, 'GoodForMea...</td>\n",
       "      <td>NV</td>\n",
       "      <td>Las Vegas</td>\n",
       "      <td>89121</td>\n",
       "      <td>36.130013</td>\n",
       "      <td>-115.109310</td>\n",
       "      <td>True</td>\n",
       "    </tr>\n",
       "  </tbody>\n",
       "</table>\n",
       "</div>"
      ],
      "text/plain": [
       "                business_id                     name  is_open  stars  \\\n",
       "52   Pd52CjgyEU3Rb8co6QfTPw  Flight Deck Bar & Grill        1    4.0   \n",
       "53   4srfPk1s8nlm1YusyDUbjg                   Subway        1    2.5   \n",
       "54   n7V4cD-KqqE3OXk0irJTyA                GameWorks        1    3.0   \n",
       "91   F0fEKpTk7gAmuSFI0KW1eQ           Cafe Mastrioni        0    1.5   \n",
       "122  Wpt0sFHcPtV5MO9He7yMKQ               McDonald's        1    2.0   \n",
       "\n",
       "     review_count                                         categories  \\\n",
       "52             13  [Nightlife, Bars, Barbeque, Sports Bars, Ameri...   \n",
       "53              6               [Fast Food, Restaurants, Sandwiches]   \n",
       "54            349  [Arcades, Arts & Entertainment, Gastropubs, Re...   \n",
       "91              3                             [Italian, Restaurants]   \n",
       "122            20                  [Restaurants, Fast Food, Burgers]   \n",
       "\n",
       "                                            attributes state       city  \\\n",
       "52   {'Alcohol': 'full_bar', 'HasTV': True, 'NoiseL...    NV  Las Vegas   \n",
       "53   {'GoodForMeal': {'dessert': False, 'latenight'...    NV  Las Vegas   \n",
       "54   {'RestaurantsTableService': True, 'GoodForMeal...    NV  Las Vegas   \n",
       "91   {'GoodForMeal': {'dessert': False, 'latenight'...    NV  Las Vegas   \n",
       "122  {'RestaurantsTableService': False, 'GoodForMea...    NV  Las Vegas   \n",
       "\n",
       "    postal_code   latitude   longitude  restaurant  \n",
       "52        89119  36.066914 -115.170848        True  \n",
       "53        89119  36.064652 -115.118954        True  \n",
       "54        89119  36.068259 -115.178877        True  \n",
       "91        89103  36.111057 -115.241688        True  \n",
       "122       89121  36.130013 -115.109310        True  "
      ]
     },
     "execution_count": 20,
     "metadata": {},
     "output_type": "execute_result"
    }
   ],
   "source": [
    "# Get all the restaurants in Las Vegas.\n",
    "business['restaurant'] = business['categories'].apply(lambda c : 'Restaurants' in c)\n",
    "las_vegas_rest = business.query(\"city == 'Las Vegas' and restaurant == True\")\n",
    "print(\"Number of restaurants in Las Vegas: \", len(las_vegas_rest))\n",
    "las_vegas_rest.head()"
   ]
  },
  {
   "cell_type": "markdown",
   "metadata": {},
   "source": [
    "We load all the restaurants in Las Vegas to an array called `rests` which contains `name`, `position(latitude, longitude)`, `categories`, `stars` and `review_count`."
   ]
  },
  {
   "cell_type": "code",
   "execution_count": 21,
   "metadata": {},
   "outputs": [
    {
     "data": {
      "text/plain": [
       "['Flight Deck Bar & Grill',\n",
       " (36.0669136, -115.1708484),\n",
       " ['Nightlife',\n",
       "  'Bars',\n",
       "  'Barbeque',\n",
       "  'Sports Bars',\n",
       "  'American (New)',\n",
       "  'Restaurants'],\n",
       " 4.0,\n",
       " 13]"
      ]
     },
     "execution_count": 21,
     "metadata": {},
     "output_type": "execute_result"
    }
   ],
   "source": [
    "rests = utils.load_las_vegas_rest('dataset/business.json')\n",
    "rests[0]"
   ]
  },
  {
   "cell_type": "markdown",
   "metadata": {},
   "source": [
    "Let's plot a heatmap of restaurants in Las Vegas:"
   ]
  },
  {
   "cell_type": "code",
   "execution_count": 51,
   "metadata": {},
   "outputs": [],
   "source": [
    "# load a Numpy array of (latitude, longitude) pairs\n",
    "rests_locations = [rest[1] for rest in rests]\n",
    "fig = gmaps.figure()\n",
    "rests_layer = gmaps.heatmap_layer(rests_locations)\n",
    "fig.add_layer(rests_layer)\n",
    "# fig    # Please unremark this line when running the cell."
   ]
  },
  {
   "cell_type": "markdown",
   "metadata": {},
   "source": [
    "<img src=\"map1.png\">"
   ]
  },
  {
   "cell_type": "code",
   "execution_count": 52,
   "metadata": {},
   "outputs": [
    {
     "data": {
      "text/plain": [
       "[[36.04190402285771, -115.15140516991347],\n",
       " [36.102234309278714, -115.27921021210042],\n",
       " [36.150191858976534, -115.105384091057],\n",
       " [36.11985851636887, -115.17853350547645],\n",
       " [36.267064944582025, -115.25704555050564],\n",
       " [36.18351651409624, -115.24953595058021]]"
      ]
     },
     "execution_count": 52,
     "metadata": {},
     "output_type": "execute_result"
    }
   ],
   "source": [
    "def k_m(k):\n",
    "    # Use k-means algorithm\n",
    "    centroids = kmeans.k_means(rests, k)\n",
    "    return centroids\n",
    "k_means_6 = k_m(6) # Get six centroids (latitude, longitude)\n",
    "k_means_6"
   ]
  },
  {
   "cell_type": "markdown",
   "metadata": {},
   "source": [
    "Add the centroids on original heatmap:"
   ]
  },
  {
   "cell_type": "code",
   "execution_count": 54,
   "metadata": {},
   "outputs": [],
   "source": [
    "centroids_layer = gmaps.symbol_layer(k_means_6, fill_color=\"blue\", stroke_color=\"blue\", scale=5)\n",
    "fig.add_layer(centroids_layer)\n",
    "# fig    # Please unremark this line when running the cell."
   ]
  },
  {
   "cell_type": "markdown",
   "metadata": {},
   "source": [
    "<img src=\"map2.png\">"
   ]
  },
  {
   "cell_type": "code",
   "execution_count": null,
   "metadata": {},
   "outputs": [],
   "source": []
  }
 ],
 "metadata": {
  "kernelspec": {
   "display_name": "Python 3",
   "language": "python",
   "name": "python3"
  },
  "language_info": {
   "codemirror_mode": {
    "name": "ipython",
    "version": 3
   },
   "file_extension": ".py",
   "mimetype": "text/x-python",
   "name": "python",
   "nbconvert_exporter": "python",
   "pygments_lexer": "ipython3",
   "version": "3.6.4"
  }
 },
 "nbformat": 4,
 "nbformat_minor": 2
}
